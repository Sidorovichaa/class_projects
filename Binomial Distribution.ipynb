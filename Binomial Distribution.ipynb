{
 "cells": [
  {
   "cell_type": "code",
   "execution_count": 1,
   "id": "7590083f",
   "metadata": {},
   "outputs": [],
   "source": [
    "import numpy as np\n",
    "import pandas as pd\n",
    "import seaborn as sns\n",
    "import matplotlib.pyplot as plt\n",
    "%matplotlib inline\n",
    "import math"
   ]
  },
  {
   "cell_type": "code",
   "execution_count": 2,
   "id": "84c19027",
   "metadata": {},
   "outputs": [],
   "source": [
    "from scipy.stats import binom, norm"
   ]
  },
  {
   "cell_type": "code",
   "execution_count": 33,
   "id": "f767a0e2",
   "metadata": {},
   "outputs": [],
   "source": [
    "n1 = 8\n",
    "k1 = 4\n",
    "p0 = k1/n1"
   ]
  },
  {
   "cell_type": "code",
   "execution_count": 34,
   "id": "f3e2a91d",
   "metadata": {
    "scrolled": true
   },
   "outputs": [],
   "source": [
    "p_guess=0.5"
   ]
  },
  {
   "cell_type": "code",
   "execution_count": 35,
   "id": "d6f8a612",
   "metadata": {},
   "outputs": [],
   "source": [
    "binom1 = binom(n1, p_guess)"
   ]
  },
  {
   "cell_type": "code",
   "execution_count": 36,
   "id": "bd8f39f0",
   "metadata": {},
   "outputs": [],
   "source": [
    "kk = np.arange(0, n1+1)"
   ]
  },
  {
   "cell_type": "code",
   "execution_count": 37,
   "id": "0d91517c",
   "metadata": {},
   "outputs": [],
   "source": [
    "pp = binom1.pmf(kk)"
   ]
  },
  {
   "cell_type": "code",
   "execution_count": 38,
   "id": "7fed5834",
   "metadata": {},
   "outputs": [
    {
     "data": {
      "text/plain": [
       "Text(0.5, 1.0, 'Binominal for n1=8')"
      ]
     },
     "execution_count": 38,
     "metadata": {},
     "output_type": "execute_result"
    },
    {
     "data": {
      "image/png": "[encoded data removed]",
      "text/plain": [
       "<Figure size 432x288 with 1 Axes>"
      ]
     },
     "metadata": {
      "needs_background": "light"
     },
     "output_type": "display_data"
    }
   ],
   "source": [
    "for i in range(n1):\n",
    "    plt.vlines(kk[i], 0 , pp[i] )\n",
    "plt.vlines(k1, -.1 , 0, color='r' )\n",
    "plt.hlines(0, 0, n1, color='k')\n",
    "plt.xlabel('k')\n",
    "plt.ylabel('$p_k$')\n",
    "plt.title(f'Binominal for {n1=}')"
   ]
  },
  {
   "cell_type": "code",
   "execution_count": 39,
   "id": "e465c1bd",
   "metadata": {},
   "outputs": [
    {
     "name": "stdout",
     "output_type": "stream",
     "text": [
      "0.27343749999999994 0.7265625\n"
     ]
    }
   ],
   "source": [
    "print(pp[k1], 1 - pp[k1]) # вероятность что k==4 и k!=4"
   ]
  },
  {
   "cell_type": "markdown",
   "id": "3454229d",
   "metadata": {},
   "source": [
    "* $H_o$ : $p=p_0$\n",
    "* $H_a$ : $p\\neq p_0$"
   ]
  },
  {
   "cell_type": "code",
   "execution_count": 40,
   "id": "45da9f73",
   "metadata": {},
   "outputs": [
    {
     "data": {
      "text/plain": [
       "0.0"
      ]
     },
     "execution_count": 40,
     "metadata": {},
     "output_type": "execute_result"
    }
   ],
   "source": [
    "z = (p0 - p_guess)/(np.sqrt((p_guess*(1-p_guess))/n1))\n",
    "z"
   ]
  },
  {
   "cell_type": "code",
   "execution_count": 41,
   "id": "6950421c",
   "metadata": {
    "scrolled": true
   },
   "outputs": [
    {
     "data": {
      "text/plain": [
       "0.5"
      ]
     },
     "execution_count": 41,
     "metadata": {},
     "output_type": "execute_result"
    }
   ],
   "source": [
    "norm.cdf(z)"
   ]
  },
  {
   "cell_type": "markdown",
   "id": "abe5035f",
   "metadata": {},
   "source": [
    "пусть P_value < 0.05"
   ]
  },
  {
   "cell_type": "markdown",
   "id": "4896e112",
   "metadata": {},
   "source": [
    "H0 не отвергается"
   ]
  },
  {
   "cell_type": "code",
   "execution_count": 42,
   "id": "af59544f",
   "metadata": {},
   "outputs": [],
   "source": [
    "n2 = 100\n",
    "k2 = 1\n",
    "p0_2 = k2/n2\n",
    "p_guess=0.5"
   ]
  },
  {
   "cell_type": "code",
   "execution_count": 43,
   "id": "5ab41553",
   "metadata": {},
   "outputs": [],
   "source": [
    "binom2 = binom(n2, p_guess)\n",
    "kk2 = np.arange(0, n2+1)\n",
    "pp2 = binom2.pmf(kk2)"
   ]
  },
  {
   "cell_type": "code",
   "execution_count": 65,
   "id": "483610a4",
   "metadata": {},
   "outputs": [
    {
     "data": {
      "text/plain": [
       "Text(0.5, 1.0, 'Binominal for n2=100')"
      ]
     },
     "execution_count": 65,
     "metadata": {},
     "output_type": "execute_result"
    },
    {
     "data": {
      "image/png": "[encoded data removed]",
      "text/plain": [
       "<Figure size 432x288 with 1 Axes>"
      ]
     },
     "metadata": {
      "needs_background": "light"
     },
     "output_type": "display_data"
    }
   ],
   "source": [
    "for i in range(n2):\n",
    "    plt.vlines(kk2[i], 0 , pp2[i] )\n",
    "plt.vlines(k2, -.01 , 0, color='r' )\n",
    "plt.hlines(0, 0, n2, color='k')\n",
    "plt.xlabel('k')\n",
    "plt.ylabel('$p_k$')\n",
    "plt.title(f'Binominal for {n2=}')"
   ]
  },
  {
   "cell_type": "code",
   "execution_count": 54,
   "id": "b202e4d4",
   "metadata": {},
   "outputs": [
    {
     "name": "stdout",
     "output_type": "stream",
     "text": [
      "7.888609052210037e-29 1.0\n"
     ]
    }
   ],
   "source": [
    "print(pp2[k2], 1 - pp2[k2]) # вероятность что k==1 и k!=1"
   ]
  },
  {
   "cell_type": "code",
   "execution_count": 56,
   "id": "e2f26fd0",
   "metadata": {},
   "outputs": [
    {
     "data": {
      "text/plain": [
       "-9.799999999999999"
      ]
     },
     "execution_count": 56,
     "metadata": {},
     "output_type": "execute_result"
    }
   ],
   "source": [
    "z2 = (p0_2 - p_guess)/(np.sqrt((p_guess*(1-p_guess))/n2))\n",
    "z2"
   ]
  },
  {
   "cell_type": "code",
   "execution_count": 59,
   "id": "edc466f3",
   "metadata": {},
   "outputs": [
    {
     "data": {
      "text/plain": [
       "5.629282311376595e-23"
      ]
     },
     "execution_count": 59,
     "metadata": {},
     "output_type": "execute_result"
    }
   ],
   "source": [
    "P=norm.cdf(z2)\n",
    "P"
   ]
  },
  {
   "cell_type": "markdown",
   "id": "b63ef196",
   "metadata": {},
   "source": [
    "H0 отвергается в пользу альтернативы"
   ]
  },
  {
   "cell_type": "code",
   "execution_count": 61,
   "id": "7fc00a21",
   "metadata": {},
   "outputs": [],
   "source": [
    "n3 = 100\n",
    "k3 = 13\n",
    "p0_3 = k3/n3"
   ]
  },
  {
   "cell_type": "code",
   "execution_count": 62,
   "id": "30a756e7",
   "metadata": {},
   "outputs": [],
   "source": [
    "binom3 = binom(n3, p_guess)\n",
    "kk3 = np.arange(0, n3+1)\n",
    "pp3 = binom3.pmf(kk3)"
   ]
  },
  {
   "cell_type": "code",
   "execution_count": 66,
   "id": "4ed3aa15",
   "metadata": {},
   "outputs": [
    {
     "data": {
      "text/plain": [
       "Text(0.5, 1.0, 'Binominal for n3=100')"
      ]
     },
     "execution_count": 66,
     "metadata": {},
     "output_type": "execute_result"
    },
    {
     "data": {
      "image/png": "[encoded data removed]",
      "text/plain": [
       "<Figure size 432x288 with 1 Axes>"
      ]
     },
     "metadata": {
      "needs_background": "light"
     },
     "output_type": "display_data"
    }
   ],
   "source": [
    "for i in range(n3):\n",
    "    plt.vlines(kk3[i], 0 , pp3[i] )\n",
    "plt.vlines(k3, -.01 , 0, color='r' )\n",
    "plt.hlines(0, 0, n3, color='k')\n",
    "plt.xlabel('k')\n",
    "plt.ylabel('$p_k$')\n",
    "plt.title(f'Binominal for {n3=}')"
   ]
  },
  {
   "cell_type": "code",
   "execution_count": 67,
   "id": "89238c87",
   "metadata": {},
   "outputs": [
    {
     "name": "stdout",
     "output_type": "stream",
     "text": [
      "5.609228993004059e-15 0.9999999999999943\n"
     ]
    }
   ],
   "source": [
    "print(pp3[k3], 1 - pp3[k3]) # вероятность что k==13 и k!=13"
   ]
  },
  {
   "cell_type": "code",
   "execution_count": 68,
   "id": "4c2d0b9f",
   "metadata": {},
   "outputs": [
    {
     "data": {
      "text/plain": [
       "-7.3999999999999995"
      ]
     },
     "execution_count": 68,
     "metadata": {},
     "output_type": "execute_result"
    }
   ],
   "source": [
    "z3 = (p0_3 - p_guess)/(np.sqrt((p_guess*(1-p_guess))/n3))\n",
    "z3"
   ]
  },
  {
   "cell_type": "code",
   "execution_count": 69,
   "id": "f9a76f8f",
   "metadata": {},
   "outputs": [
    {
     "data": {
      "text/plain": [
       "6.809224890620016e-14"
      ]
     },
     "execution_count": 69,
     "metadata": {},
     "output_type": "execute_result"
    }
   ],
   "source": [
    "P=norm.cdf(z3)\n",
    "P"
   ]
  },
  {
   "cell_type": "markdown",
   "id": "64a8c774",
   "metadata": {},
   "source": [
    "H0 отвергается в пользу альтернативы"
   ]
  },
  {
   "cell_type": "markdown",
   "id": "32545f5e",
   "metadata": {},
   "source": [
    "Новая гипотеза - 1 из 10 левша\n",
    "* $H_o$ : $p=p_0=0.1$\n",
    "* $H_a$ : $p\\neq p_0$"
   ]
  },
  {
   "cell_type": "code",
   "execution_count": 70,
   "id": "cf39e045",
   "metadata": {},
   "outputs": [],
   "source": [
    "sample = np.array([0, 1, 0, 0, 0, 0, 0, 1, 0, 0, 0, 0, 0, 0, 0, 0, 0, 0, 1, 0, 0, 0,\n",
    "       0, 0, 0, 0, 0, 0, 0, 0, 1, 1, 0, 0, 0, 0, 0, 0, 0, 0, 0, 0, 0, 0,\n",
    "       0, 0, 0, 0, 0, 0, 0, 0, 0, 0, 0, 0, 0, 0, 0, 0, 1, 0, 0, 0, 0, 0,\n",
    "       0, 0, 0, 0, 0, 0, 1, 0, 0, 0, 0, 0, 0, 0, 0, 0, 0, 0, 0, 0, 0, 0,\n",
    "       0, 0, 0, 0, 0, 0, 0, 0, 0, 0, 0, 0, 0, 1, 0, 0, 0, 0, 0, 0, 0, 0,\n",
    "       0, 1, 1, 0, 0, 0, 0, 0, 0, 0, 0, 0, 0, 0, 0, 0, 0, 0, 0, 0, 1, 1,\n",
    "       0, 0, 0, 0, 0, 0, 0, 0, 0, 0, 0, 0, 0, 0, 0, 0, 0, 1, 0, 0, 0, 0,\n",
    "       0, 0, 0, 0, 0, 0, 0, 0, 0, 0, 0, 0, 1, 0, 1, 0, 0, 0, 0, 0, 0, 1,\n",
    "       0, 0, 0, 0, 0, 0, 0, 0, 0, 0, 0, 0, 0, 0, 0, 0, 0, 0, 0, 0, 0, 1,\n",
    "       0, 0, 0, 0, 0, 0, 0, 0, 0, 0, 0, 0, 0, 0, 0, 0, 1, 0, 0, 0, 0, 0,\n",
    "       0, 0, 0, 0, 0, 1, 0, 0, 0, 0, 0, 1, 0, 0, 1, 0, 0, 0, 0, 1, 0, 0,\n",
    "       0, 0, 0, 0, 0, 0, 0, 0, 1, 0, 0, 0, 0, 0, 0, 0, 0, 0, 0, 0, 0, 0,\n",
    "       1, 1, 0, 0, 0, 0, 0, 0, 0, 0, 0, 0, 1, 0, 0, 0, 0, 0, 0, 0, 1, 1,\n",
    "       1, 0, 0, 0, 0, 0, 0, 0, 0, 0, 0, 0, 0, 0, 0, 0, 0, 0, 0, 0, 0, 0,\n",
    "       0, 0, 0, 0, 0, 1, 1, 0, 0, 0, 0, 0, 0, 1, 0, 0, 0, 0, 0, 0, 0, 0,\n",
    "       0, 0, 0, 0, 0, 0, 0, 0, 0, 1, 0, 0, 0, 1, 1, 0, 1, 0, 0, 0, 0, 0,\n",
    "       0, 0, 0, 0, 1, 0, 0, 0, 0, 0, 0, 0, 0, 0, 0, 0, 0, 0, 0, 1, 0, 0,\n",
    "       0, 0, 0, 1, 1, 1, 0, 1, 0, 0, 0, 0, 0, 0, 1, 0, 0, 0, 0, 0, 0, 0,\n",
    "       0, 0, 1, 0, 0, 0, 0, 0, 0, 0, 0, 0, 0, 0, 0, 0, 0, 0, 0, 0, 0, 0,\n",
    "       0, 1, 0, 0, 0, 0, 1, 0, 0, 0, 0, 0, 0, 0, 0, 0, 0, 1, 0, 0, 0, 0,\n",
    "       0, 0, 0, 1, 0, 1, 0, 0, 0, 0, 0, 0, 1, 0, 0, 0, 0, 0, 0, 0, 0, 0,\n",
    "       0, 0, 0, 0, 0, 0, 0, 0, 0, 0, 0, 0, 0, 0, 0, 0, 0, 0, 0, 0, 0, 1,\n",
    "       0, 0, 0, 0, 0, 0, 0, 0, 0, 0, 0, 0, 0, 0, 1, 0]\n",
    ")"
   ]
  },
  {
   "cell_type": "code",
   "execution_count": 72,
   "id": "3caa3976",
   "metadata": {},
   "outputs": [
    {
     "name": "stdout",
     "output_type": "stream",
     "text": [
      "500 52 0.104\n"
     ]
    }
   ],
   "source": [
    "n4 = len(sample)\n",
    "k4 = sample.sum()\n",
    "p0_4 = k4/n4\n",
    "print(n4, k4, p0_4)"
   ]
  },
  {
   "cell_type": "code",
   "execution_count": 73,
   "id": "77cdcf42",
   "metadata": {},
   "outputs": [],
   "source": [
    "p_guess4 = 0.1\n",
    "binom4 = binom(n4, p_guess4)\n",
    "kk4 = np.arange(0, n4+1)\n",
    "pp4 = binom4.pmf(kk4)"
   ]
  },
  {
   "cell_type": "code",
   "execution_count": 74,
   "id": "7a04fba8",
   "metadata": {},
   "outputs": [
    {
     "data": {
      "text/plain": [
       "Text(0.5, 1.0, 'Binominal for n4=500')"
      ]
     },
     "execution_count": 74,
     "metadata": {},
     "output_type": "execute_result"
    },
    {
     "data": {
      "image/png": "[encoded data removed]",
      "text/plain": [
       "<Figure size 432x288 with 1 Axes>"
      ]
     },
     "metadata": {
      "needs_background": "light"
     },
     "output_type": "display_data"
    }
   ],
   "source": [
    "for i in range(n4):\n",
    "    plt.vlines(kk4[i], 0 , pp4[i] )\n",
    "plt.vlines(k4, -.01 , 0, color='r' )\n",
    "plt.hlines(0, 0, n4, color='k')\n",
    "plt.xlabel('k')\n",
    "plt.ylabel('$p_k$')\n",
    "plt.title(f'Binominal for {n4=}')"
   ]
  },
  {
   "cell_type": "code",
   "execution_count": 75,
   "id": "9441cddb",
   "metadata": {},
   "outputs": [
    {
     "name": "stdout",
     "output_type": "stream",
     "text": [
      "0.05584345347627122 0.9441565465237288\n"
     ]
    }
   ],
   "source": [
    "print(pp4[k4], 1 - pp4[k4]) # вероятность что k==52 и k!=52"
   ]
  },
  {
   "cell_type": "code",
   "execution_count": 76,
   "id": "2f0f1c68",
   "metadata": {},
   "outputs": [
    {
     "data": {
      "text/plain": [
       "0.29814239699997114"
      ]
     },
     "execution_count": 76,
     "metadata": {},
     "output_type": "execute_result"
    }
   ],
   "source": [
    "z4 = (p0_4 - p_guess4)/(np.sqrt((p_guess4*(1-p_guess4))/n4))\n",
    "z4"
   ]
  },
  {
   "cell_type": "code",
   "execution_count": 77,
   "id": "52cd95ba",
   "metadata": {},
   "outputs": [
    {
     "data": {
      "text/plain": [
       "0.6172027580021177"
      ]
     },
     "execution_count": 77,
     "metadata": {},
     "output_type": "execute_result"
    }
   ],
   "source": [
    "P=norm.cdf(z4)\n",
    "P"
   ]
  },
  {
   "cell_type": "markdown",
   "id": "fcf9d76b",
   "metadata": {},
   "source": [
    "H0 не отвергается"
   ]
  },
  {
   "cell_type": "code",
   "execution_count": null,
   "id": "b32f564d",
   "metadata": {},
   "outputs": [],
   "source": []
  },
  {
   "cell_type": "markdown",
   "id": "01671a72",
   "metadata": {},
   "source": [
    "вероятность что из 20 посетителей в день будет 5 левшей"
   ]
  },
  {
   "cell_type": "code",
   "execution_count": 78,
   "id": "39cc4b09",
   "metadata": {},
   "outputs": [],
   "source": [
    "n_population = 10_000\n",
    "p_lefthanded = 0.1"
   ]
  },
  {
   "cell_type": "code",
   "execution_count": 79,
   "id": "eb14686e",
   "metadata": {},
   "outputs": [],
   "source": [
    "all = np.random.choice(\n",
    "            [0,1], \n",
    "            p=[1-p_lefthanded, p_lefthanded],\n",
    "            size = n_population   \n",
    ")"
   ]
  },
  {
   "cell_type": "code",
   "execution_count": 80,
   "id": "0ac7e516",
   "metadata": {},
   "outputs": [
    {
     "data": {
      "text/plain": [
       "10000"
      ]
     },
     "execution_count": 80,
     "metadata": {},
     "output_type": "execute_result"
    }
   ],
   "source": [
    "len(all)"
   ]
  },
  {
   "cell_type": "code",
   "execution_count": 81,
   "id": "191abb36",
   "metadata": {},
   "outputs": [],
   "source": [
    "n=10000"
   ]
  },
  {
   "cell_type": "code",
   "execution_count": 82,
   "id": "23f8f4af",
   "metadata": {
    "scrolled": true
   },
   "outputs": [
    {
     "data": {
      "text/plain": [
       "array([0, 0, 0, 0, 0, 0, 0, 1, 0, 0, 0, 0, 0, 0, 0, 1, 1, 0, 0, 0])"
      ]
     },
     "execution_count": 82,
     "metadata": {},
     "output_type": "execute_result"
    }
   ],
   "source": [
    "sample = np.random.choice(all, size=20)\n",
    "sample"
   ]
  },
  {
   "cell_type": "code",
   "execution_count": 83,
   "id": "3671dc02",
   "metadata": {},
   "outputs": [],
   "source": [
    "p_samples = []\n",
    "for i in range(10_000):\n",
    "    sample2 = np.random.choice(all, size=n)\n",
    "    k= sample2.sum()\n",
    "    p_sample = k/n\n",
    "    p_samples.append(p_sample)"
   ]
  },
  {
   "cell_type": "code",
   "execution_count": 84,
   "id": "ca8b8849",
   "metadata": {},
   "outputs": [],
   "source": [
    "p_samples=np.array(p_samples)"
   ]
  },
  {
   "cell_type": "code",
   "execution_count": 85,
   "id": "32cfa667",
   "metadata": {},
   "outputs": [
    {
     "data": {
      "text/plain": [
       "(0.10123317, 0.1012)"
      ]
     },
     "execution_count": 85,
     "metadata": {},
     "output_type": "execute_result"
    }
   ],
   "source": [
    "p_samples.mean(), np.median(p_samples)"
   ]
  },
  {
   "cell_type": "code",
   "execution_count": 86,
   "id": "55457583",
   "metadata": {},
   "outputs": [
    {
     "data": {
      "text/plain": [
       "0.0030378931434630807"
      ]
     },
     "execution_count": 86,
     "metadata": {},
     "output_type": "execute_result"
    }
   ],
   "source": [
    "p_samples.std()"
   ]
  },
  {
   "cell_type": "code",
   "execution_count": 87,
   "id": "7db86a1b",
   "metadata": {},
   "outputs": [
    {
     "data": {
      "text/plain": [
       "0.002050000000000003"
      ]
     },
     "execution_count": 87,
     "metadata": {},
     "output_type": "execute_result"
    }
   ],
   "source": [
    "(np.quantile(p_samples,0.75)- (np.quantile(p_samples, 0.25)))/2"
   ]
  },
  {
   "cell_type": "code",
   "execution_count": 88,
   "id": "e50dc10b",
   "metadata": {},
   "outputs": [
    {
     "data": {
      "text/plain": [
       "0.0319213611199544"
      ]
     },
     "execution_count": 88,
     "metadata": {},
     "output_type": "execute_result"
    }
   ],
   "source": [
    "p = (math.factorial(20)/(math.factorial(5)*math.factorial(15)))*(0.1**5)*(0.9**15) #вероятность пяти левшей из 20 посетителей\n",
    "p"
   ]
  },
  {
   "cell_type": "code",
   "execution_count": null,
   "id": "b883b4a9",
   "metadata": {},
   "outputs": [],
   "source": []
  },
  {
   "cell_type": "markdown",
   "id": "beb9d2e5",
   "metadata": {},
   "source": [
    "в мире около 10% левшей"
   ]
  }
 ],
 "metadata": {
  "kernelspec": {
   "display_name": "Python 3 (ipykernel)",
   "language": "python",
   "name": "python3"
  },
  "language_info": {
   "codemirror_mode": {
    "name": "ipython",
    "version": 3
   },
   "file_extension": ".py",
   "mimetype": "text/x-python",
   "name": "python",
   "nbconvert_exporter": "python",
   "pygments_lexer": "ipython3",
   "version": "3.10.4"
  }
 },
 "nbformat": 4,
 "nbformat_minor": 5
}
