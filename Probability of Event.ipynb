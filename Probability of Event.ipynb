{
 "cells": [
  {
   "cell_type": "code",
   "execution_count": 1,
   "id": "295bb2a8",
   "metadata": {},
   "outputs": [],
   "source": [
    "import numpy as np"
   ]
  },
  {
   "cell_type": "code",
   "execution_count": 2,
   "id": "772cb858",
   "metadata": {},
   "outputs": [],
   "source": [
    "from scipy.stats import binom, norm"
   ]
  },
  {
   "cell_type": "code",
   "execution_count": 3,
   "id": "9add4b83",
   "metadata": {},
   "outputs": [],
   "source": [
    "p0 = 1/100"
   ]
  },
  {
   "cell_type": "markdown",
   "id": "bb0cb0f8",
   "metadata": {},
   "source": [
    "* $H_o$ : $p=p_0$\n",
    "* $H_a$ : $p\\neq p_0$"
   ]
  },
  {
   "cell_type": "code",
   "execution_count": 4,
   "id": "cf025b3c",
   "metadata": {},
   "outputs": [],
   "source": [
    "n = 10"
   ]
  },
  {
   "cell_type": "code",
   "execution_count": 5,
   "id": "7a8c6604",
   "metadata": {},
   "outputs": [],
   "source": [
    "k = 0"
   ]
  },
  {
   "cell_type": "code",
   "execution_count": 7,
   "id": "d438444a",
   "metadata": {},
   "outputs": [],
   "source": [
    "binom0 = binom(n, p0)"
   ]
  },
  {
   "cell_type": "code",
   "execution_count": 8,
   "id": "a74ce6b3",
   "metadata": {},
   "outputs": [],
   "source": [
    "kk = np.arange(0, n+1)"
   ]
  },
  {
   "cell_type": "code",
   "execution_count": 9,
   "id": "88617db6",
   "metadata": {},
   "outputs": [],
   "source": [
    "pp = binom0.pmf(kk)"
   ]
  },
  {
   "cell_type": "code",
   "execution_count": 10,
   "id": "893dc085",
   "metadata": {},
   "outputs": [],
   "source": [
    "import matplotlib.pyplot as plt"
   ]
  },
  {
   "cell_type": "code",
   "execution_count": 24,
   "id": "d35770b9",
   "metadata": {},
   "outputs": [
    {
     "data": {
      "text/plain": [
       "Text(0.5, 1.0, 'Binominal for n=10')"
      ]
     },
     "execution_count": 24,
     "metadata": {},
     "output_type": "execute_result"
    },
    {
     "data": {
      "image/png": "[encoded data removed]",
      "text/plain": [
       "<Figure size 432x288 with 1 Axes>"
      ]
     },
     "metadata": {
      "needs_background": "light"
     },
     "output_type": "display_data"
    }
   ],
   "source": [
    "for i in range(n):\n",
    "    plt.vlines(kk[i], 0 , pp[i] )\n",
    "plt.vlines(k, -.1 , 0, color='r' )\n",
    "plt.hlines(0, 0, n, color='k')\n",
    "plt.xlabel('k')\n",
    "plt.ylabel('$p_k$')\n",
    "plt.title(f'Binominal for {n=}')"
   ]
  },
  {
   "cell_type": "code",
   "execution_count": 14,
   "id": "0cc709bf",
   "metadata": {},
   "outputs": [
    {
     "data": {
      "text/plain": [
       "0.9043820750088044"
      ]
     },
     "execution_count": 14,
     "metadata": {},
     "output_type": "execute_result"
    }
   ],
   "source": [
    "# вероятность что k==0\n",
    "pp[0]"
   ]
  },
  {
   "cell_type": "code",
   "execution_count": 17,
   "id": "e22dc674",
   "metadata": {},
   "outputs": [
    {
     "data": {
      "text/plain": [
       "(0.09561792499119542, 0.09561792499119559)"
      ]
     },
     "execution_count": 17,
     "metadata": {},
     "output_type": "execute_result"
    }
   ],
   "source": [
    "# вероятность что k!=0\n",
    "pp[1:].sum(), 1 - pp[0]"
   ]
  },
  {
   "cell_type": "code",
   "execution_count": 25,
   "id": "bdd15973",
   "metadata": {},
   "outputs": [
    {
     "data": {
      "text/plain": [
       "Text(0.5, 1.0, 'Binominal for n=5')"
      ]
     },
     "execution_count": 25,
     "metadata": {},
     "output_type": "execute_result"
    },
    {
     "data": {
      "image/png": "[encoded data removed]",
      "text/plain": [
       "<Figure size 432x288 with 1 Axes>"
      ]
     },
     "metadata": {
      "needs_background": "light"
     },
     "output_type": "display_data"
    }
   ],
   "source": [
    "k = 2\n",
    "n = 5\n",
    "binom0 = binom(n, p0)\n",
    "kk = np.arange(0, n+1)\n",
    "pp = binom0.pmf(kk)\n",
    "for i in range(n):\n",
    "    plt.vlines(kk[i], 0 , pp[i] )\n",
    "plt.vlines(k, -.1 , 0, color='r' )\n",
    "plt.hlines(0, 0, n, color='k')\n",
    "plt.xlabel('k')\n",
    "plt.ylabel('$p_k$')\n",
    "plt.title(f'Binominal for {n=}')"
   ]
  },
  {
   "cell_type": "code",
   "execution_count": 27,
   "id": "998edb0a",
   "metadata": {},
   "outputs": [
    {
     "data": {
      "text/plain": [
       "0.0009702989999999999"
      ]
     },
     "execution_count": 27,
     "metadata": {},
     "output_type": "execute_result"
    }
   ],
   "source": [
    "# вероятность что k==2\n",
    "pp[k]"
   ]
  },
  {
   "cell_type": "code",
   "execution_count": 28,
   "id": "26c12a5c",
   "metadata": {},
   "outputs": [
    {
     "data": {
      "text/plain": [
       "(0.9990297009999999, 0.999029701)"
      ]
     },
     "execution_count": 28,
     "metadata": {},
     "output_type": "execute_result"
    }
   ],
   "source": [
    "# вероятность что k!=2\n",
    "pp[:k].sum()+pp[k+1:].sum(), 1 - pp[k]"
   ]
  },
  {
   "cell_type": "code",
   "execution_count": 32,
   "id": "c95e60f3",
   "metadata": {},
   "outputs": [
    {
     "data": {
      "text/plain": [
       "Text(0.5, 1.0, 'Binominal for n=100')"
      ]
     },
     "execution_count": 32,
     "metadata": {},
     "output_type": "execute_result"
    },
    {
     "data": {
      "image/png": "[encoded data removed]",
      "text/plain": [
       "<Figure size 432x288 with 1 Axes>"
      ]
     },
     "metadata": {
      "needs_background": "light"
     },
     "output_type": "display_data"
    }
   ],
   "source": [
    "k = 2\n",
    "n = 100\n",
    "binom0 = binom(n, p0)\n",
    "kk = np.arange(0, n+1)\n",
    "pp = binom0.pmf(kk)\n",
    "for i in range(n):\n",
    "    plt.vlines(kk[i], 0 , pp[i] )\n",
    "plt.vlines(k, -.1 , 0, color='r' )\n",
    "plt.hlines(0, 0, n, color='k')\n",
    "plt.xlabel('k')\n",
    "plt.ylabel('$p_k$')\n",
    "plt.title(f'Binominal for {n=}')"
   ]
  },
  {
   "cell_type": "code",
   "execution_count": 33,
   "id": "1caf07c2",
   "metadata": {},
   "outputs": [
    {
     "data": {
      "text/plain": [
       "0.18486481882486344"
      ]
     },
     "execution_count": 33,
     "metadata": {},
     "output_type": "execute_result"
    }
   ],
   "source": [
    "# вероятность что k==2\n",
    "pp[k]"
   ]
  },
  {
   "cell_type": "markdown",
   "id": "00566f26",
   "metadata": {},
   "source": [
    "* $H_o$ : $p=p_0$\n",
    "* $H_a$ : $p\\neq p_0$"
   ]
  },
  {
   "cell_type": "code",
   "execution_count": 34,
   "id": "01238057",
   "metadata": {},
   "outputs": [
    {
     "data": {
      "text/plain": [
       "(0.8151351811751363, 0.8151351811751366)"
      ]
     },
     "execution_count": 34,
     "metadata": {},
     "output_type": "execute_result"
    }
   ],
   "source": [
    "# вероятность что k!=2\n",
    "pp[:k].sum()+pp[k+1:].sum(), 1 - pp[k]"
   ]
  },
  {
   "cell_type": "code",
   "execution_count": null,
   "id": "643debda",
   "metadata": {},
   "outputs": [],
   "source": [
    "# вероятность что k!=2\n"
   ]
  },
  {
   "cell_type": "markdown",
   "id": "1e9e35f9",
   "metadata": {},
   "source": [
    "* $H_o$ : $p=p_0$\n",
    "* $H_a$ : $p\\gt p_0$"
   ]
  },
  {
   "cell_type": "code",
   "execution_count": 37,
   "id": "a9631e86",
   "metadata": {},
   "outputs": [
    {
     "data": {
      "text/plain": [
       "0.07937320225218034"
      ]
     },
     "execution_count": 37,
     "metadata": {},
     "output_type": "execute_result"
    }
   ],
   "source": [
    "# вероятность что k>2\n",
    "pp[k+1:].sum()"
   ]
  },
  {
   "cell_type": "markdown",
   "id": "4524bb2d",
   "metadata": {},
   "source": [
    "* $H_o$ : $p=p_0$\n",
    "* $H_a$ : $p\\lt p_0$"
   ]
  },
  {
   "cell_type": "code",
   "execution_count": 39,
   "id": "e89cd00e",
   "metadata": {},
   "outputs": [
    {
     "data": {
      "text/plain": [
       "0.7357619789229559"
      ]
     },
     "execution_count": 39,
     "metadata": {},
     "output_type": "execute_result"
    }
   ],
   "source": [
    "# вероятность что k<2\n",
    "pp[:k].sum()"
   ]
  },
  {
   "cell_type": "code",
   "execution_count": null,
   "id": "f8973a98",
   "metadata": {},
   "outputs": [],
   "source": []
  }
 ],
 "metadata": {
  "kernelspec": {
   "display_name": "Python 3 (ipykernel)",
   "language": "python",
   "name": "python3"
  },
  "language_info": {
   "codemirror_mode": {
    "name": "ipython",
    "version": 3
   },
   "file_extension": ".py",
   "mimetype": "text/x-python",
   "name": "python",
   "nbconvert_exporter": "python",
   "pygments_lexer": "ipython3",
   "version": "3.10.4"
  }
 },
 "nbformat": 4,
 "nbformat_minor": 5
}
