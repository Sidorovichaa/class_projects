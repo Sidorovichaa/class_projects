{
 "cells": [
  {
   "cell_type": "code",
   "execution_count": 1,
   "id": "6cc57d0f",
   "metadata": {},
   "outputs": [],
   "source": [
    "import numpy as np\n",
    "import pandas as pd\n",
    "import seaborn as sns\n",
    "import matplotlib.pyplot as plt"
   ]
  },
  {
   "cell_type": "markdown",
   "id": "6058c1f0",
   "metadata": {},
   "source": [
    "# из 10 ворон ни одной белой"
   ]
  },
  {
   "cell_type": "code",
   "execution_count": 2,
   "id": "1a7dea24",
   "metadata": {},
   "outputs": [],
   "source": [
    "n1=10\n",
    "p_guess = 0.01 # k\n",
    "alpha =0.01 # p0"
   ]
  },
  {
   "cell_type": "markdown",
   "id": "cd27c1df",
   "metadata": {},
   "source": [
    "1. Нулевая гипотеза p = p_guess = 0.01, альтернатива p != p_guess"
   ]
  },
  {
   "cell_type": "markdown",
   "id": "4724b44c",
   "metadata": {},
   "source": [
    "H0 доля 1%, Ha != 1%"
   ]
  },
  {
   "cell_type": "markdown",
   "id": "5802c2c5",
   "metadata": {},
   "source": [
    "p0*n = 1/10<<10"
   ]
  },
  {
   "cell_type": "markdown",
   "id": "e8914a81",
   "metadata": {},
   "source": [
    "(1-p0)*n = 99*10/100 = 9.9 <10"
   ]
  },
  {
   "cell_type": "markdown",
   "id": "38ebee8c",
   "metadata": {},
   "source": [
    "Ha p<1% смотрим p[0]"
   ]
  },
  {
   "cell_type": "markdown",
   "id": "dc600e66",
   "metadata": {},
   "source": [
    "Ha p>1% смотрим p[2]+p[3]+...p[n] или 1-p[0]"
   ]
  },
  {
   "cell_type": "markdown",
   "id": "4290163d",
   "metadata": {},
   "source": [
    "p<=1% смотрим p[0]+...p[k]"
   ]
  },
  {
   "cell_type": "markdown",
   "id": "1693540d",
   "metadata": {},
   "source": [
    "p>=1% смотрим p[k]+...p[n]"
   ]
  },
  {
   "cell_type": "code",
   "execution_count": 3,
   "id": "6bfb331d",
   "metadata": {},
   "outputs": [],
   "source": [
    "import math"
   ]
  },
  {
   "cell_type": "code",
   "execution_count": 4,
   "id": "3084a75b",
   "metadata": {},
   "outputs": [],
   "source": [
    "p_real = 0"
   ]
  },
  {
   "cell_type": "code",
   "execution_count": 5,
   "id": "e234c11b",
   "metadata": {},
   "outputs": [
    {
     "data": {
      "text/plain": [
       "-0.3178208630818641"
      ]
     },
     "execution_count": 5,
     "metadata": {},
     "output_type": "execute_result"
    }
   ],
   "source": [
    "z =(p_real-p_guess)/np.sqrt(p_guess*(1-p_guess)/n1)\n",
    "z"
   ]
  },
  {
   "cell_type": "code",
   "execution_count": 8,
   "id": "8ab43c67",
   "metadata": {},
   "outputs": [
    {
     "data": {
      "text/plain": [
       "0.3753104120828154"
      ]
     },
     "execution_count": 8,
     "metadata": {},
     "output_type": "execute_result"
    }
   ],
   "source": [
    "import scipy.stats\n",
    "from scipy.stats import norm\n",
    "\n",
    "#find p-value\n",
    "scipy.stats.norm.sf(abs(z))"
   ]
  },
  {
   "cell_type": "code",
   "execution_count": 11,
   "id": "73bba224",
   "metadata": {
    "scrolled": true
   },
   "outputs": [
    {
     "data": {
      "text/plain": [
       "2.5758293035489004"
      ]
     },
     "execution_count": 11,
     "metadata": {},
     "output_type": "execute_result"
    }
   ],
   "source": [
    "z_kr = norm.ppf(1-(alpha/2))\n",
    "z_kr"
   ]
  },
  {
   "cell_type": "markdown",
   "id": "4b911b0d",
   "metadata": {},
   "source": [
    "Нулевая гипотеза не отвеграется"
   ]
  },
  {
   "cell_type": "markdown",
   "id": "6713d81b",
   "metadata": {},
   "source": [
    "2. Нулевая гипотеза p = p_guess = 0.01, альтернатива p < p_guess"
   ]
  },
  {
   "cell_type": "code",
   "execution_count": 13,
   "id": "25e13479",
   "metadata": {},
   "outputs": [
    {
     "data": {
      "text/plain": [
       "2.3263478740408408"
      ]
     },
     "execution_count": 13,
     "metadata": {},
     "output_type": "execute_result"
    }
   ],
   "source": [
    "z_kr2 = norm.ppf(1-(alpha))\n",
    "z_kr2"
   ]
  },
  {
   "cell_type": "markdown",
   "id": "8271e977",
   "metadata": {},
   "source": [
    "Нулевая гипотеза не отвеграется"
   ]
  },
  {
   "cell_type": "markdown",
   "id": "43dac225",
   "metadata": {},
   "source": [
    "3. Нулевая гипотеза p = p_guess = 0.01, альтернатива p > p_guess"
   ]
  },
  {
   "cell_type": "markdown",
   "id": "97e18ac2",
   "metadata": {},
   "source": [
    "Нулевая гипотеза не отвеграется"
   ]
  },
  {
   "cell_type": "markdown",
   "id": "49941d8e",
   "metadata": {},
   "source": [
    "# из 100 ворон ни одной белой"
   ]
  },
  {
   "cell_type": "code",
   "execution_count": 17,
   "id": "1934b4f9",
   "metadata": {},
   "outputs": [],
   "source": [
    "n2=100\n",
    "p_guess = 0.01\n",
    "alpha =0.01\n",
    "p_real = 0"
   ]
  },
  {
   "cell_type": "code",
   "execution_count": 18,
   "id": "eba3320a",
   "metadata": {},
   "outputs": [
    {
     "data": {
      "text/plain": [
       "-1.005037815259212"
      ]
     },
     "execution_count": 18,
     "metadata": {},
     "output_type": "execute_result"
    }
   ],
   "source": [
    "z =(p_real-p_guess)/np.sqrt(p_guess*(1-p_guess)/n2)\n",
    "z"
   ]
  },
  {
   "cell_type": "code",
   "execution_count": 19,
   "id": "ef3ee6f5",
   "metadata": {},
   "outputs": [
    {
     "data": {
      "text/plain": [
       "0.15743932066820998"
      ]
     },
     "execution_count": 19,
     "metadata": {},
     "output_type": "execute_result"
    }
   ],
   "source": [
    "p_value = scipy.stats.norm.sf(abs(z))\n",
    "p_value"
   ]
  },
  {
   "cell_type": "code",
   "execution_count": 20,
   "id": "a7df0557",
   "metadata": {},
   "outputs": [
    {
     "data": {
      "text/plain": [
       "2.5758293035489004"
      ]
     },
     "execution_count": 20,
     "metadata": {},
     "output_type": "execute_result"
    }
   ],
   "source": [
    "z_kr = norm.ppf(1-(alpha/2))\n",
    "z_kr"
   ]
  },
  {
   "cell_type": "markdown",
   "id": "71e3b241",
   "metadata": {},
   "source": [
    "Нулевая гипотеза p = p_guess = 0.01, альтернатива p != p_guess\n",
    "Нулевая гипотеза не отвеграется"
   ]
  },
  {
   "cell_type": "code",
   "execution_count": 21,
   "id": "b45b36b1",
   "metadata": {},
   "outputs": [
    {
     "data": {
      "text/plain": [
       "2.3263478740408408"
      ]
     },
     "execution_count": 21,
     "metadata": {},
     "output_type": "execute_result"
    }
   ],
   "source": [
    "z_kr2 = norm.ppf(1-(alpha))\n",
    "z_kr2"
   ]
  },
  {
   "cell_type": "markdown",
   "id": "7a908260",
   "metadata": {},
   "source": [
    "Нулевая гипотеза p = p_guess = 0.01, альтернатива p < p_guess Нулевая гипотеза не отвеграется"
   ]
  },
  {
   "cell_type": "markdown",
   "id": "9b43881d",
   "metadata": {},
   "source": [
    "# Из фотографий интернета нашлось 2 белые вороны на 10_000"
   ]
  },
  {
   "cell_type": "code",
   "execution_count": 23,
   "id": "c5144c11",
   "metadata": {},
   "outputs": [],
   "source": [
    "n3=10_000\n",
    "p_guess = 0.01\n",
    "alpha =0.01\n",
    "p_real = 2/n3"
   ]
  },
  {
   "cell_type": "code",
   "execution_count": 28,
   "id": "e5b96aa2",
   "metadata": {},
   "outputs": [
    {
     "data": {
      "text/plain": [
       "0.0002"
      ]
     },
     "execution_count": 28,
     "metadata": {},
     "output_type": "execute_result"
    }
   ],
   "source": [
    "p_real"
   ]
  },
  {
   "cell_type": "code",
   "execution_count": 24,
   "id": "ff58f681",
   "metadata": {},
   "outputs": [
    {
     "data": {
      "text/plain": [
       "-0.9849370589540278"
      ]
     },
     "execution_count": 24,
     "metadata": {},
     "output_type": "execute_result"
    }
   ],
   "source": [
    "z =(p_real-p_guess)/np.sqrt(p_guess*(1-p_guess)/n2)\n",
    "z"
   ]
  },
  {
   "cell_type": "code",
   "execution_count": 25,
   "id": "a8ee5da3",
   "metadata": {
    "scrolled": true
   },
   "outputs": [
    {
     "data": {
      "text/plain": [
       "0.16232749428273924"
      ]
     },
     "execution_count": 25,
     "metadata": {},
     "output_type": "execute_result"
    }
   ],
   "source": [
    "p_value = scipy.stats.norm.sf(abs(z))\n",
    "p_value"
   ]
  },
  {
   "cell_type": "markdown",
   "id": "f6aa20a2",
   "metadata": {},
   "source": [
    "Нулевая гипотеза p = p_guess = 0.01, альтернатива p != p_guess "
   ]
  },
  {
   "cell_type": "code",
   "execution_count": 26,
   "id": "5e8b95c8",
   "metadata": {},
   "outputs": [
    {
     "data": {
      "text/plain": [
       "2.5758293035489004"
      ]
     },
     "execution_count": 26,
     "metadata": {},
     "output_type": "execute_result"
    }
   ],
   "source": [
    "z_kr = norm.ppf(1-(alpha/2))\n",
    "z_kr"
   ]
  },
  {
   "cell_type": "markdown",
   "id": "060fb6e3",
   "metadata": {},
   "source": [
    "Нулевая гипотеза отвеграется"
   ]
  },
  {
   "cell_type": "markdown",
   "id": "fede5bec",
   "metadata": {},
   "source": [
    "Нулевая гипотеза p = p_guess = 0.01, альтернатива p < p_guess "
   ]
  },
  {
   "cell_type": "code",
   "execution_count": 27,
   "id": "39682d3b",
   "metadata": {},
   "outputs": [
    {
     "data": {
      "text/plain": [
       "2.3263478740408408"
      ]
     },
     "execution_count": 27,
     "metadata": {},
     "output_type": "execute_result"
    }
   ],
   "source": [
    "z_kr2 = norm.ppf(1-(alpha))\n",
    "z_kr2"
   ]
  },
  {
   "cell_type": "markdown",
   "id": "1ce3d338",
   "metadata": {},
   "source": [
    "Нулевая гипотеза отвеграется"
   ]
  },
  {
   "cell_type": "markdown",
   "id": "d0340c48",
   "metadata": {},
   "source": [
    "Нулевая гипотеза p = p_guess = 0.01, альтернатива p > p_guess"
   ]
  },
  {
   "cell_type": "markdown",
   "id": "7cbce4b8",
   "metadata": {},
   "source": [
    "Nanda Kumar said it’s a one in 10,000 occurrence. https://www.vicnews.com/trending-now/rare-albino-crow-found-in-aldergrove-backyard/  , т.е. 2/10000 будет верно"
   ]
  },
  {
   "cell_type": "markdown",
   "id": "a0da02e5",
   "metadata": {},
   "source": [
    "бернули - просто выполняется условие или нет"
   ]
  },
  {
   "cell_type": "markdown",
   "id": "8b8687a2",
   "metadata": {},
   "source": [
    "# Размер обуви"
   ]
  },
  {
   "cell_type": "code",
   "execution_count": 30,
   "id": "0c418ec3",
   "metadata": {},
   "outputs": [],
   "source": [
    "M = 8"
   ]
  },
  {
   "cell_type": "markdown",
   "id": "f58ad444",
   "metadata": {},
   "source": [
    "Альтернативная гипотеза X_mean != M"
   ]
  },
  {
   "cell_type": "code",
   "execution_count": 34,
   "id": "382f4b14",
   "metadata": {},
   "outputs": [],
   "source": [
    "Size = np.array([7.5, 7. , 8. , 7. , 7. , 8.5, 7.5, 5.5, 7. , 7.5])"
   ]
  },
  {
   "cell_type": "code",
   "execution_count": 35,
   "id": "86b80278",
   "metadata": {},
   "outputs": [
    {
     "data": {
      "text/plain": [
       "numpy.ndarray"
      ]
     },
     "execution_count": 35,
     "metadata": {},
     "output_type": "execute_result"
    }
   ],
   "source": [
    "type(Size)"
   ]
  },
  {
   "cell_type": "code",
   "execution_count": 32,
   "id": "2318b21e",
   "metadata": {},
   "outputs": [
    {
     "data": {
      "text/plain": [
       "10"
      ]
     },
     "execution_count": 32,
     "metadata": {},
     "output_type": "execute_result"
    }
   ],
   "source": [
    "n= len(Size)\n",
    "n"
   ]
  },
  {
   "cell_type": "code",
   "execution_count": 36,
   "id": "397d5a3b",
   "metadata": {},
   "outputs": [
    {
     "data": {
      "text/plain": [
       "-3.1622776601683795"
      ]
     },
     "execution_count": 36,
     "metadata": {},
     "output_type": "execute_result"
    }
   ],
   "source": [
    "t = (np.mean(Size) - M)/(np.std(Size)/(n**0.5))\n",
    "t"
   ]
  },
  {
   "cell_type": "code",
   "execution_count": 51,
   "id": "64977970",
   "metadata": {},
   "outputs": [],
   "source": [
    "from scipy.stats import t"
   ]
  },
  {
   "cell_type": "code",
   "execution_count": 52,
   "id": "c9cdc67b",
   "metadata": {},
   "outputs": [
    {
     "data": {
      "text/plain": [
       "-2.262157162740992"
      ]
     },
     "execution_count": 52,
     "metadata": {},
     "output_type": "execute_result"
    }
   ],
   "source": [
    "t_krit = t.ppf(0.025, 9) # считаем t из степеней свободы и достоверности\n",
    "t_krit"
   ]
  },
  {
   "cell_type": "markdown",
   "id": "fb1c3aa3",
   "metadata": {},
   "source": [
    "нулевая отвергается"
   ]
  },
  {
   "cell_type": "markdown",
   "id": "a3020b55",
   "metadata": {},
   "source": [
    "Альтернативная гипотеза X_mean > M или X_mean < M "
   ]
  },
  {
   "cell_type": "code",
   "execution_count": 46,
   "id": "ad85c6f7",
   "metadata": {},
   "outputs": [],
   "source": [
    "Size2 = np.array([ 7. ,  8. ,  9. ,  9. ,  9.5,  7.5,  8.5,  7. ,  6. ,  9.5,  9.5,\n",
    "        7.5,  8. ,  9.5,  7. ,  8. ,  8. ,  6.5,  7.5,  8. ,  8.5,  8. ,\n",
    "        6.5,  6.5,  9.5,  7.5,  8. ,  6.5,  7. ,  9. ,  7.5,  8. ,  6. ,\n",
    "        8. ,  6.5,  7.5,  9. ,  8. ,  8. ,  7. ,  7.5,  8.5,  9. ,  8. ,\n",
    "        7.5,  9.5,  7. ,  5.5,  9. ,  7.5,  9. , 10. ,  8. ,  8.5,  8.5,\n",
    "        8. ,  7.5,  8.5,  8. ,  6.5,  8.5,  8. ,  8.5,  8. ,  9.5,  7. ,\n",
    "        7.5,  6.5,  8. ,  7.5, 10. ,  7.5,  9. ,  8.5,  8.5,  7.5,  7.5,\n",
    "        7.5,  7.5,  6.5,  8.5,  7. ,  7.5,  7. ,  8. ,  9. ,  6.5,  9.5,\n",
    "        8. ,  8.5,  8. ,  6. ,  7. ,  8. ,  7.5,  6.5,  8. ,  6.5,  8. ,\n",
    "        9. ]\n",
    ")"
   ]
  },
  {
   "cell_type": "code",
   "execution_count": 47,
   "id": "799270cd",
   "metadata": {},
   "outputs": [
    {
     "data": {
      "text/plain": [
       "100"
      ]
     },
     "execution_count": 47,
     "metadata": {},
     "output_type": "execute_result"
    }
   ],
   "source": [
    "n2= len(Size2)\n",
    "n2"
   ]
  },
  {
   "cell_type": "code",
   "execution_count": 48,
   "id": "1218890e",
   "metadata": {},
   "outputs": [
    {
     "data": {
      "text/plain": [
       "-1.2812092121528469"
      ]
     },
     "execution_count": 48,
     "metadata": {},
     "output_type": "execute_result"
    }
   ],
   "source": [
    "t = (np.mean(Size2) - M)/(np.std(Size2)/(n2**0.5))\n",
    "t"
   ]
  },
  {
   "cell_type": "code",
   "execution_count": 62,
   "id": "63c92757",
   "metadata": {},
   "outputs": [
    {
     "data": {
      "text/plain": [
       "-1.6603911559963902"
      ]
     },
     "execution_count": 62,
     "metadata": {},
     "output_type": "execute_result"
    }
   ],
   "source": [
    "from scipy.stats import t\n",
    "t_krit = t.ppf(0.05, 99) # считаем t из степеней свободы и достоверности если это левосторонняя, при правосторонней берем 1-alpha\n",
    "t_krit"
   ]
  },
  {
   "cell_type": "code",
   "execution_count": 54,
   "id": "b6452795",
   "metadata": {},
   "outputs": [
    {
     "data": {
      "text/plain": [
       "7.875"
      ]
     },
     "execution_count": 54,
     "metadata": {},
     "output_type": "execute_result"
    }
   ],
   "source": [
    "np.mean(Size2)"
   ]
  },
  {
   "cell_type": "markdown",
   "id": "d2b6a518",
   "metadata": {},
   "source": [
    "нулевая не отвергается, X_mean < M"
   ]
  },
  {
   "cell_type": "code",
   "execution_count": 56,
   "id": "c606b1a5",
   "metadata": {},
   "outputs": [],
   "source": [
    "Size3 = np.array([ 7.5,  7.5,  6.5,  7.5,  7.5,  7.5,  9.5,  6. ,  6.5,  8.5,  7. ,\n",
    "        7.5,  7.5,  8. ,  9. ,  8. ,  7.5,  8. ,  8. ,  7.5,  8. ,  9. ,\n",
    "        8.5,  7.5,  8.5,  9.5,  7. ,  8. ,  8.5,  7.5,  9. ,  8. ,  8. ,\n",
    "        8.5,  7.5,  8. ,  5.5,  7. ,  6.5,  8. ,  6. ,  7.5,  8.5,  8. ,\n",
    "        9. ,  7.5,  8. ,  7. ,  9.5,  9.5,  7.5,  8.5,  6.5,  8. ,  7. ,\n",
    "        9. ,  7.5,  7. ,  7.5,  8.5,  9. ,  6.5,  6. ,  7.5,  6.5,  8.5,\n",
    "        7. ,  6.5,  8. ,  7. ,  7. ,  8. ,  8.5,  8. ,  6.5,  8.5,  7.5,\n",
    "        6.5,  8.5,  7.5,  9. ,  9.5,  6.5,  9.5,  7. ,  8. ,  8. ,  6.5,\n",
    "        7.5,  7.5,  6.5,  9.5,  7.5,  9. ,  7.5,  8.5,  7. ,  9.5,  8.5,\n",
    "        6.5,  8.5,  8. ,  8.5,  6.5,  9. ,  7.5,  9. ,  8. ,  9.5,  9. ,\n",
    "        7.5,  6. ,  8.5,  7.5,  7.5,  8.5,  7. ,  8.5,  8.5,  5.5,  8.5,\n",
    "        8.5,  8.5,  8. , 10. ,  8.5,  8. ,  8.5,  8.5,  9.5,  9.5,  8.5,\n",
    "        7. ,  8. ,  9. ,  9. ,  7. ,  7.5,  8. ,  7.5,  9.5,  8.5, 10. ,\n",
    "        9.5,  9. ,  7.5,  7. , 10. ,  6. ,  9.5,  8.5,  9. ,  9. ,  5.5,\n",
    "       10. , 10. ,  8. ,  8. ,  6. ,  8. ,  9.5,  7.5,  7. ,  7. ,  8. ,\n",
    "        6.5,  7.5,  7.5,  5. ,  8.5,  9.5,  8.5,  8. , 10. ,  8.5,  7. ,\n",
    "        8. ,  6. ,  7.5, 10. ,  9.5,  8. ,  8.5,  8.5,  7. ,  7.5,  7.5,\n",
    "        8.5,  9. ,  6.5,  9. ,  8.5,  8. ,  9.5,  8.5,  8. ,  8. ,  9. ,\n",
    "        8.5,  9.5,  8.5,  7.5, 10. ,  8. ,  9.5,  7. ,  6.5,  9. ,  7. ,\n",
    "        7. ,  8. ,  8. ,  8. ,  9. ,  7.5,  6.5,  7.5,  8. ,  9. ,  8.5,\n",
    "        8.5,  7.5,  9.5,  8.5, 10.5,  8. ,  7. ,  9. ,  9. ,  6. ,  8.5,\n",
    "        8.5,  6.5,  8. ,  9. ,  7.5,  9. ,  8.5,  8. ,  9. ,  7. ,  7. ,\n",
    "        8.5,  8. ,  7.5,  8. ,  7.5,  8.5,  8.5,  7.5,  9. ,  8. ,  7. ,\n",
    "        7. ,  7.5,  6.5,  8.5,  8. ,  8. ,  7.5,  9. ,  6.5,  8. ,  9. ,\n",
    "        8. ,  8. ,  7.5,  8. ,  6.5,  7.5,  8.5,  7. ,  9. ,  8. ,  8. ,\n",
    "        7. ,  6.5,  8.5,  8. ,  7.5,  8. ,  8. ,  8.5,  8. ,  9.5,  8. ,\n",
    "        8.5,  7.5,  9. ,  6.5,  6.5,  7.5,  7.5,  7.5,  8. , 10. ,  9.5,\n",
    "        8. ,  8.5,  9.5,  8. ,  8. ,  8.5,  8.5,  8. ,  6. ,  8.5,  8. ,\n",
    "        9.5,  8. ,  8. , 10.5,  8.5,  8. ,  8. ,  7.5,  8. ,  8.5,  6.5,\n",
    "        8.5,  9. ,  7.5,  8.5,  7.5,  8. ,  7.5,  8.5,  9. ,  8. ,  8.5,\n",
    "        7. ,  6.5,  9.5,  7. ,  7. ,  9. ,  8. ,  8.5,  8. ,  9. ,  9. ,\n",
    "        8. ,  8. ,  7.5,  7.5,  7. ,  8.5,  6.5,  8. ,  8. ,  8. ,  9. ,\n",
    "       10. ,  5.5,  6.5,  7.5, 10. ,  9.5,  8.5,  8. ,  9. ,  7. ,  9.5,\n",
    "        9. ,  8. ,  7. ,  8.5,  8. ,  8. ,  9. ,  9.5,  8. ,  8. ,  7.5,\n",
    "        7. , 10. ,  7.5,  7.5,  6. ,  8. ,  7. ,  7. ,  8.5,  9. ,  8. ,\n",
    "        8.5, 10. ,  6.5,  8.5,  9.5,  7.5,  8. ,  8. ,  8.5,  9. ,  6.5,\n",
    "        7.5,  9.5,  8. ,  9. ,  8.5,  7.5,  8.5,  8. ,  7. ,  8. ,  8. ,\n",
    "        9. ,  7. , 10.5,  7.5,  7. ,  8.5,  7.5,  8.5,  7. ,  7.5,  6. ,\n",
    "        8.5,  9. ,  7. ,  7.5,  7.5,  8. ,  7.5,  8.5,  7. ,  9.5,  9. ,\n",
    "        8.5, 10. ,  8. ,  7. ,  9. ,  9.5,  9. ,  7. ,  9. ,  7.5,  9. ,\n",
    "        6. ,  8. ,  8. ,  9. ,  5.5,  6.5,  6.5,  8. ,  7.5,  9.5,  7.5,\n",
    "        6.5,  8.5,  7. ,  8.5,  8.5,  8.5,  8.5,  7. ,  7.5,  8. ,  7.5,\n",
    "        7.5,  8.5,  6.5,  8. ,  8. ,  8.5,  7.5,  7. ,  8. ,  9. ,  7.5,\n",
    "        6.5,  7.5,  9. ,  7. ,  8.5,  8. ,  6. ,  7. ,  8.5,  6.5,  9. ,\n",
    "        8. ,  9. ,  8.5,  9.5,  9. , 10. ,  7. ,  7. ,  7. ,  8.5,  8.5,\n",
    "        8. ,  7.5,  7.5,  8.5,  7.5,  8. ,  8.5,  7. ,  7.5,  7.5,  8.5,\n",
    "        8.5,  7. ,  7. ,  7. ,  9. ,  9. ,  6. ,  8. ,  8. ,  6.5,  7.5,\n",
    "        8.5,  9.5,  9.5,  8.5,  6.5,  8. ,  9.5,  8.5,  8. ,  8. ,  7.5,\n",
    "        7.5,  7. ,  8. ,  7. ,  8. ,  7.5,  8.5,  6.5,  8. ,  7.5,  8. ,\n",
    "        6.5,  8. ,  8. ,  7.5,  7. ,  7. ,  8. ,  6. ,  8.5,  6.5,  8.5,\n",
    "        7. ,  9. ,  8.5,  7.5,  6.5,  8.5,  9. ,  7.5,  9. , 10.5,  9. ,\n",
    "        8. ,  9.5,  8. ,  7. ,  6.5,  8. ,  8. ,  9.5,  8.5,  8.5,  8. ,\n",
    "        7.5,  7. , 10. ,  7.5,  8. ,  9. ,  7. ,  9. ,  9. ,  8.5,  8. ,\n",
    "        9. ,  7. ,  7. ,  9. ,  8. ,  7.5,  8. ,  7. ,  7.5,  7.5,  8. ,\n",
    "        7. ,  8.5,  9. ,  9. ,  6. ,  9.5,  6. ,  7. ,  7. ,  7. ,  8.5,\n",
    "        7. ,  7. ,  5.5, 10. ,  8.5,  8.5,  7.5,  8.5,  8. ,  9. ,  5.5,\n",
    "        9. ,  9. ,  8.5,  8. ,  8. ,  8. ,  7. ,  9.5, 10. ,  7.5,  7.5,\n",
    "        8. ,  7. ,  6.5,  8.5,  8. ,  8. ,  8.5,  9. ,  8. ,  9. ,  8.5,\n",
    "        7.5,  7.5,  8. ,  7. ,  9. ,  7. ,  8. ,  6. ,  9.5,  7.5,  9.5,\n",
    "        6.5,  9. ,  9.5,  9. ,  7.5,  6.5,  6. ,  9. ,  9. ,  8. ,  8. ,\n",
    "       10. ,  8.5,  8.5,  8.5,  7.5,  8.5,  8. ,  7.5,  7.5,  7. ,  9. ,\n",
    "        9. ,  7.5,  8. , 10. ,  7.5,  7. ,  9. ,  8. ,  8. ,  8.5,  9. ,\n",
    "        6. ,  7.5,  8. ,  6.5,  8.5,  9. ,  7.5,  9.5,  8. ,  6. ,  8. ,\n",
    "        7.5,  9. ,  6. ,  7. ,  8. ,  9. ,  8.5,  7.5,  7.5,  7. ,  7. ,\n",
    "        9. ,  8.5,  9. ,  7.5,  7. ,  9. ,  8.5,  8. ,  7. ,  9. ,  7. ,\n",
    "       10. ,  6.5,  8. ,  8. ,  7.5,  6.5,  7.5, 10. ,  7.5,  9. ,  8. ,\n",
    "        8.5,  7.5,  6.5,  8. ,  9. ,  6.5,  7.5,  8.5,  7. ,  7.5,  7. ,\n",
    "        9. ,  6. ,  7.5,  8. ,  8. ,  8. ,  5.5,  9. ,  7.5,  8.5,  8. ,\n",
    "        6.5,  9. ,  7.5,  9. ,  9.5,  8.5,  6. ,  8. ,  7.5,  7.5,  6.5,\n",
    "        7. ,  9. ,  8. , 10.5,  7. ,  6.5,  7.5,  8. ,  8.5,  7. ,  7.5,\n",
    "        7.5,  7. ,  8.5,  8.5,  7.5,  7. ,  7. ,  6. ,  7.5,  8. ,  8.5,\n",
    "        8. , 10.5,  6.5,  6.5,  8. ,  7.5,  6.5,  8.5,  8.5,  8.5,  7. ,\n",
    "        8. ,  7. ,  8. ,  7.5,  8.5,  8. ,  8. ,  8.5,  8.5,  9. ,  7.5,\n",
    "        8.5,  8. ,  6. ,  6.5,  9.5,  8.5,  6.5,  8.5,  8. ,  7.5,  8. ,\n",
    "        7. ,  6. ,  8.5,  8. ,  9. ,  6.5,  9. ,  8. ,  9.5,  9. ,  7. ,\n",
    "        8. ,  8.5,  8. ,  8.5,  6. ,  8. , 10. ,  8.5,  6. ,  7.5,  9.5,\n",
    "        6.5,  7.5,  7.5,  8.5,  8.5,  8. ,  7. ,  7. ,  8. ,  8.5,  8.5,\n",
    "        5.5,  8.5,  7.5,  7.5,  8. ,  8.5,  8. ,  9. ,  9.5,  9. ,  7.5,\n",
    "        7.5,  8. ,  7.5,  7. ,  7.5,  8.5,  8.5,  8.5,  7. ,  7.5,  8. ,\n",
    "        7.5,  7. ,  8. ,  8.5,  9. ,  6.5,  8.5,  6. ,  6.5,  8. ,  8. ,\n",
    "        8. ,  9.5,  7.5,  8. ,  9.5,  8.5,  7.5,  6. , 10.5,  8.5,  8.5,\n",
    "        7. ,  9. ,  9.5,  7.5,  8.5,  8. ,  8.5,  8. , 10.5,  8.5,  8. ,\n",
    "        8. ,  7.5,  8. ,  9.5,  8. ,  7. ,  9.5,  9. ,  6.5,  7.5,  7. ,\n",
    "        8.5, 10. ,  6.5,  6.5,  8. ,  9. ,  8.5,  8.5,  8. ,  6.5,  8.5,\n",
    "        8. ,  8.5,  7.5,  7.5,  9. ,  7.5,  7.5,  8.5,  9.5,  8. ,  9. ,\n",
    "       10. ,  7. ,  8. ,  9.5,  7. ,  9. , 10. ,  7.5, 10. ,  7.5,  9.5,\n",
    "        7.5,  8. ,  6.5,  7. ,  8.5,  8.5,  6.5,  7.5, 10. ,  8.5,  6.5,\n",
    "        8. ,  6.5,  8. ,  8.5,  7.5,  6. ,  6. , 10.5,  7.5,  8.5,  7. ,\n",
    "        9. ,  7.5,  9. ,  7.5,  8. , 10. ,  8. ,  9.5,  7. , 10.5,  7. ,\n",
    "        8.5,  6. ,  7.5, 10. ,  8.5,  8.5,  7.5, 10. ,  7. ,  8.5,  6.5,\n",
    "        7.5,  9.5,  8.5,  7.5,  8. ,  8. ,  8.5,  9.5,  8.5,  9. ]\n",
    ")"
   ]
  },
  {
   "cell_type": "code",
   "execution_count": 57,
   "id": "0315a725",
   "metadata": {},
   "outputs": [
    {
     "data": {
      "text/plain": [
       "1000"
      ]
     },
     "execution_count": 57,
     "metadata": {},
     "output_type": "execute_result"
    }
   ],
   "source": [
    "n3= len(Size3)\n",
    "n3"
   ]
  },
  {
   "cell_type": "code",
   "execution_count": 59,
   "id": "dba81091",
   "metadata": {
    "scrolled": true
   },
   "outputs": [
    {
     "data": {
      "text/plain": [
       "-0.5831559916715886"
      ]
     },
     "execution_count": 59,
     "metadata": {},
     "output_type": "execute_result"
    }
   ],
   "source": [
    "t = (np.mean(Size3) - M)/(np.std(Size3)/(n3**0.5))\n",
    "t"
   ]
  },
  {
   "cell_type": "code",
   "execution_count": 60,
   "id": "92ee1774",
   "metadata": {},
   "outputs": [
    {
     "data": {
      "text/plain": [
       "7.9815"
      ]
     },
     "execution_count": 60,
     "metadata": {},
     "output_type": "execute_result"
    }
   ],
   "source": [
    "X_mean = np.mean(Size3)\n",
    "X_mean"
   ]
  },
  {
   "cell_type": "code",
   "execution_count": 63,
   "id": "d3f8faf5",
   "metadata": {},
   "outputs": [
    {
     "data": {
      "text/plain": [
       "-1.6463803454275356"
      ]
     },
     "execution_count": 63,
     "metadata": {},
     "output_type": "execute_result"
    }
   ],
   "source": [
    "from scipy.stats import t\n",
    "t_krit = t.ppf(0.05, 999) # считаем t из степеней свободы и достоверности если это левосторонняя, при правосторонней берем 1-alpha\n",
    "t_krit"
   ]
  },
  {
   "cell_type": "markdown",
   "id": "494e3392",
   "metadata": {},
   "source": [
    "нулевая не отвергается"
   ]
  },
  {
   "cell_type": "code",
   "execution_count": 67,
   "id": "98491701",
   "metadata": {},
   "outputs": [
    {
     "data": {
      "text/plain": [
       "0.0007888456943755722"
      ]
     },
     "execution_count": 67,
     "metadata": {},
     "output_type": "execute_result"
    }
   ],
   "source": [
    "p_value = scipy.stats.norm.sf(abs(-3.16))\n",
    "p_value"
   ]
  },
  {
   "cell_type": "code",
   "execution_count": 66,
   "id": "bc6e991c",
   "metadata": {},
   "outputs": [
    {
     "data": {
      "text/plain": [
       "0.0007888456943755722"
      ]
     },
     "execution_count": 66,
     "metadata": {},
     "output_type": "execute_result"
    }
   ],
   "source": [
    "norm.cdf(-3.16)"
   ]
  },
  {
   "cell_type": "code",
   "execution_count": 68,
   "id": "df224e5f",
   "metadata": {},
   "outputs": [
    {
     "data": {
      "text/plain": [
       "-3.2498355440153697"
      ]
     },
     "execution_count": 68,
     "metadata": {},
     "output_type": "execute_result"
    }
   ],
   "source": [
    "from scipy.stats import t\n",
    "t_krit = t.ppf(0.005, 9) # считаем t из степеней свободы и достоверности если это левосторонняя, при правосторонней берем 1-alpha\n",
    "t_krit"
   ]
  },
  {
   "cell_type": "code",
   "execution_count": 69,
   "id": "e8f7a7b0",
   "metadata": {},
   "outputs": [
    {
     "data": {
      "text/plain": [
       "3.2498355440153697"
      ]
     },
     "execution_count": 69,
     "metadata": {},
     "output_type": "execute_result"
    }
   ],
   "source": [
    "from scipy.stats import t\n",
    "t_krit = t.ppf((1-0.005), 9) # считаем t из степеней свободы и достоверности если это левосторонняя, при правосторонней берем 1-alpha\n",
    "t_krit"
   ]
  },
  {
   "cell_type": "code",
   "execution_count": null,
   "id": "b4089876",
   "metadata": {},
   "outputs": [],
   "source": []
  }
 ],
 "metadata": {
  "kernelspec": {
   "display_name": "Python 3 (ipykernel)",
   "language": "python",
   "name": "python3"
  },
  "language_info": {
   "codemirror_mode": {
    "name": "ipython",
    "version": 3
   },
   "file_extension": ".py",
   "mimetype": "text/x-python",
   "name": "python",
   "nbconvert_exporter": "python",
   "pygments_lexer": "ipython3",
   "version": "3.10.4"
  }
 },
 "nbformat": 4,
 "nbformat_minor": 5
}
