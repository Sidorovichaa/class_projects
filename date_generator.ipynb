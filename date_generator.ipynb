{
 "cells": [
  {
   "cell_type": "code",
   "execution_count": 1,
   "id": "18f4c155",
   "metadata": {},
   "outputs": [
    {
     "name": "stdout",
     "output_type": "stream",
     "text": [
      "Requirement already satisfied: pandas in d:\\anna\\ve\\lib\\site-packages (1.4.1)\n",
      "Requirement already satisfied: python-dateutil>=2.8.1 in d:\\anna\\ve\\lib\\site-packages (from pandas) (2.8.2)\n",
      "Requirement already satisfied: numpy>=1.21.0 in d:\\anna\\ve\\lib\\site-packages (from pandas) (1.22.3)\n",
      "Requirement already satisfied: pytz>=2020.1 in d:\\anna\\ve\\lib\\site-packages (from pandas) (2022.1)\n",
      "Requirement already satisfied: six>=1.5 in d:\\anna\\ve\\lib\\site-packages (from python-dateutil>=2.8.1->pandas) (1.16.0)\n",
      "Requirement already satisfied: numpy in d:\\anna\\ve\\lib\\site-packages (1.22.3)\n"
     ]
    }
   ],
   "source": [
    "!pip install pandas\n",
    "!pip install numpy\n",
    "import random\n",
    "import pandas as pd\n",
    "import numpy as np"
   ]
  },
  {
   "cell_type": "code",
   "execution_count": 10,
   "id": "c8e2b275",
   "metadata": {},
   "outputs": [],
   "source": [
    "from datetime import datetime"
   ]
  },
  {
   "cell_type": "code",
   "execution_count": 14,
   "id": "596b9ae7",
   "metadata": {},
   "outputs": [
    {
     "data": {
      "text/plain": [
       "0    1990-02-02\n",
       "1    1981-01-15\n",
       "2    1995-11-12\n",
       "3    1978-05-11\n",
       "4    2000-04-23\n",
       "5    1984-01-19\n",
       "6    1993-06-10\n",
       "7    1975-02-22\n",
       "8    2001-04-28\n",
       "9    2010-11-18\n",
       "10   1977-12-27\n",
       "11   1990-11-25\n",
       "12   1991-07-13\n",
       "13   1987-09-24\n",
       "14   1997-10-16\n",
       "15   2003-06-25\n",
       "16   1980-09-19\n",
       "17   2001-01-04\n",
       "18   1986-04-27\n",
       "19   2004-04-18\n",
       "20   2008-11-23\n",
       "21   1989-10-27\n",
       "22   2008-01-14\n",
       "dtype: datetime64[ns]"
      ]
     },
     "execution_count": 14,
     "metadata": {},
     "output_type": "execute_result"
    }
   ],
   "source": [
    "N = 23 #N-samples\n",
    "dates = np.zeros([N,3])\n",
    "\n",
    "for i in range(0,N):\n",
    "    year = random.randint(1970, 2010) \n",
    "    month = random.randint(1, 12)\n",
    "    day = random.randint(1, 28)\n",
    "    #if you need to change it use variables :3\n",
    "    birth_date = datetime(year, month, day)\n",
    "    dates[i] = [year,month,day]\n",
    "\n",
    "df = pd.DataFrame(dates.astype(int))\n",
    "df.columns = ['year', 'month', 'day']\n",
    "pd.to_datetime(df)"
   ]
  },
  {
   "cell_type": "code",
   "execution_count": 44,
   "id": "4a2b06f6",
   "metadata": {},
   "outputs": [],
   "source": [
    "def get_unique(df):\n",
    "    unique=[]\n",
    "    for date in df:\n",
    "        if date not in unique:\n",
    "            unique.append(date)\n",
    "    return unique"
   ]
  },
  {
   "cell_type": "code",
   "execution_count": 45,
   "id": "701c831c",
   "metadata": {},
   "outputs": [
    {
     "name": "stdout",
     "output_type": "stream",
     "text": [
      "['month', 'day', 'year']\n"
     ]
    }
   ],
   "source": [
    "print(unique)"
   ]
  },
  {
   "cell_type": "code",
   "execution_count": null,
   "id": "8456d27e",
   "metadata": {},
   "outputs": [],
   "source": []
  }
 ],
 "metadata": {
  "kernelspec": {
   "display_name": "Python 3 (ipykernel)",
   "language": "python",
   "name": "python3"
  },
  "language_info": {
   "codemirror_mode": {
    "name": "ipython",
    "version": 3
   },
   "file_extension": ".py",
   "mimetype": "text/x-python",
   "name": "python",
   "nbconvert_exporter": "python",
   "pygments_lexer": "ipython3",
   "version": "3.10.4"
  }
 },
 "nbformat": 4,
 "nbformat_minor": 5
}
