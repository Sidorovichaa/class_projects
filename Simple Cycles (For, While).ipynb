{
 "cells": [
  {
   "cell_type": "code",
   "execution_count": 3,
   "id": "675c869d",
   "metadata": {
    "scrolled": true
   },
   "outputs": [
    {
     "name": "stdout",
     "output_type": "stream",
     "text": [
      "красный 7 букв\n",
      "оранжевый 9 букв\n",
      "желтый 6 букв\n",
      "зеленый 7 букв\n",
      "синий 5 букв\n",
      "голубой 7 букв\n",
      "фиолетовый 10 букв\n"
     ]
    }
   ],
   "source": [
    "радуга = ('красный', 'оранжевый', 'желтый', 'зеленый', 'синий', 'голубой', 'фиолетовый')\n",
    "for цвет in радуга:\n",
    "    print(цвет+\" \"+str(len(цвет))+\" \"+'букв')"
   ]
  },
  {
   "cell_type": "code",
   "execution_count": 18,
   "id": "661fac2a",
   "metadata": {},
   "outputs": [
    {
     "name": "stdout",
     "output_type": "stream",
     "text": [
      "9050\n",
      "8600\n",
      "8150\n",
      "7700\n",
      "7250\n",
      "6800\n",
      "6350\n",
      "5900\n",
      "5450\n",
      "5000\n",
      "4550\n",
      "4100\n",
      "3650\n",
      "3200\n",
      "2750\n",
      "2300\n",
      "1850\n",
      "1400\n",
      "950\n",
      "500\n",
      "50\n",
      "остаток бюджета: 50\n",
      "выплата 21 месяц\n"
     ]
    }
   ],
   "source": [
    "budget = 9500\n",
    "count = 0\n",
    "while budget > 450:\n",
    "    budget -= 450\n",
    "    count += 1\n",
    "    print(budget)\n",
    "print('остаток бюджета:'+' '+str(budget%450))\n",
    "a = count//2\n",
    "if a ==0:\n",
    "    print('выплата', str(count), 'месяцев', sep = ' ')\n",
    "else:\n",
    "    print('выплата', str(count), 'месяц', sep = ' ')"
   ]
  },
  {
   "cell_type": "code",
   "execution_count": null,
   "id": "4e1ed339",
   "metadata": {},
   "outputs": [],
   "source": []
  }
 ],
 "metadata": {
  "kernelspec": {
   "display_name": "Python 3 (ipykernel)",
   "language": "python",
   "name": "python3"
  },
  "language_info": {
   "codemirror_mode": {
    "name": "ipython",
    "version": 3
   },
   "file_extension": ".py",
   "mimetype": "text/x-python",
   "name": "python",
   "nbconvert_exporter": "python",
   "pygments_lexer": "ipython3",
   "version": "3.10.2"
  }
 },
 "nbformat": 4,
 "nbformat_minor": 5
}
