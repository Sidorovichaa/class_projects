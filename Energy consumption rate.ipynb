{
 "cells": [
  {
   "cell_type": "code",
   "execution_count": 1,
   "id": "df338ab8",
   "metadata": {},
   "outputs": [
    {
     "name": "stdout",
     "output_type": "stream",
     "text": [
      "Requirement already satisfied: numpy in c:\\!disk_d!\\ve\\ve\\lib\\site-packages (1.22.3)\n"
     ]
    }
   ],
   "source": [
    "!pip install numpy"
   ]
  },
  {
   "cell_type": "code",
   "execution_count": 2,
   "id": "32f7e327",
   "metadata": {},
   "outputs": [],
   "source": [
    "import numpy as np"
   ]
  },
  {
   "cell_type": "code",
   "execution_count": 3,
   "id": "03f59c44",
   "metadata": {},
   "outputs": [
    {
     "name": "stdout",
     "output_type": "stream",
     "text": [
      "Requirement already satisfied: pandas in c:\\!disk_d!\\ve\\ve\\lib\\site-packages (1.4.1)\n",
      "Requirement already satisfied: python-dateutil>=2.8.1 in c:\\!disk_d!\\ve\\ve\\lib\\site-packages (from pandas) (2.8.2)\n",
      "Requirement already satisfied: numpy>=1.21.0 in c:\\!disk_d!\\ve\\ve\\lib\\site-packages (from pandas) (1.22.3)\n",
      "Requirement already satisfied: pytz>=2020.1 in c:\\!disk_d!\\ve\\ve\\lib\\site-packages (from pandas) (2022.1)\n",
      "Requirement already satisfied: six>=1.5 in c:\\!disk_d!\\ve\\ve\\lib\\site-packages (from python-dateutil>=2.8.1->pandas) (1.16.0)\n"
     ]
    }
   ],
   "source": [
    "!pip install pandas\n",
    "import pandas as pd"
   ]
  },
  {
   "cell_type": "code",
   "execution_count": 4,
   "id": "e5c62083",
   "metadata": {
    "scrolled": false
   },
   "outputs": [
    {
     "data": {
      "text/html": [
       "<div>\n",
       "<style scoped>\n",
       "    .dataframe tbody tr th:only-of-type {\n",
       "        vertical-align: middle;\n",
       "    }\n",
       "\n",
       "    .dataframe tbody tr th {\n",
       "        vertical-align: top;\n",
       "    }\n",
       "\n",
       "    .dataframe thead th {\n",
       "        text-align: right;\n",
       "    }\n",
       "</style>\n",
       "<table border=\"1\" class=\"dataframe\">\n",
       "  <thead>\n",
       "    <tr style=\"text-align: right;\">\n",
       "      <th></th>\n",
       "      <th>Квартира</th>\n",
       "      <th>Этаж</th>\n",
       "      <th>Подъезд</th>\n",
       "      <th>кВт_ч</th>\n",
       "    </tr>\n",
       "  </thead>\n",
       "  <tbody>\n",
       "    <tr>\n",
       "      <th>0</th>\n",
       "      <td>1</td>\n",
       "      <td>1</td>\n",
       "      <td>1</td>\n",
       "      <td>219.093876</td>\n",
       "    </tr>\n",
       "    <tr>\n",
       "      <th>1</th>\n",
       "      <td>2</td>\n",
       "      <td>1</td>\n",
       "      <td>1</td>\n",
       "      <td>280.788630</td>\n",
       "    </tr>\n",
       "    <tr>\n",
       "      <th>2</th>\n",
       "      <td>3</td>\n",
       "      <td>1</td>\n",
       "      <td>1</td>\n",
       "      <td>159.856605</td>\n",
       "    </tr>\n",
       "    <tr>\n",
       "      <th>3</th>\n",
       "      <td>4</td>\n",
       "      <td>1</td>\n",
       "      <td>1</td>\n",
       "      <td>302.470699</td>\n",
       "    </tr>\n",
       "    <tr>\n",
       "      <th>4</th>\n",
       "      <td>5</td>\n",
       "      <td>1</td>\n",
       "      <td>1</td>\n",
       "      <td>168.830702</td>\n",
       "    </tr>\n",
       "    <tr>\n",
       "      <th>...</th>\n",
       "      <td>...</td>\n",
       "      <td>...</td>\n",
       "      <td>...</td>\n",
       "      <td>...</td>\n",
       "    </tr>\n",
       "    <tr>\n",
       "      <th>120</th>\n",
       "      <td>1</td>\n",
       "      <td>5</td>\n",
       "      <td>5</td>\n",
       "      <td>247.062431</td>\n",
       "    </tr>\n",
       "    <tr>\n",
       "      <th>121</th>\n",
       "      <td>2</td>\n",
       "      <td>5</td>\n",
       "      <td>5</td>\n",
       "      <td>179.620206</td>\n",
       "    </tr>\n",
       "    <tr>\n",
       "      <th>122</th>\n",
       "      <td>3</td>\n",
       "      <td>5</td>\n",
       "      <td>5</td>\n",
       "      <td>113.492054</td>\n",
       "    </tr>\n",
       "    <tr>\n",
       "      <th>123</th>\n",
       "      <td>4</td>\n",
       "      <td>5</td>\n",
       "      <td>5</td>\n",
       "      <td>300.869933</td>\n",
       "    </tr>\n",
       "    <tr>\n",
       "      <th>124</th>\n",
       "      <td>5</td>\n",
       "      <td>5</td>\n",
       "      <td>5</td>\n",
       "      <td>200.702516</td>\n",
       "    </tr>\n",
       "  </tbody>\n",
       "</table>\n",
       "<p>125 rows × 4 columns</p>\n",
       "</div>"
      ],
      "text/plain": [
       "     Квартира  Этаж  Подъезд       кВт_ч\n",
       "0           1     1        1  219.093876\n",
       "1           2     1        1  280.788630\n",
       "2           3     1        1  159.856605\n",
       "3           4     1        1  302.470699\n",
       "4           5     1        1  168.830702\n",
       "..        ...   ...      ...         ...\n",
       "120         1     5        5  247.062431\n",
       "121         2     5        5  179.620206\n",
       "122         3     5        5  113.492054\n",
       "123         4     5        5  300.869933\n",
       "124         5     5        5  200.702516\n",
       "\n",
       "[125 rows x 4 columns]"
      ]
     },
     "execution_count": 4,
     "metadata": {},
     "output_type": "execute_result"
    }
   ],
   "source": [
    "df=pd.read_csv('дом_электропотребление_за_месяц.csv')\n",
    "df"
   ]
  },
  {
   "cell_type": "code",
   "execution_count": 9,
   "id": "3b1c72ca",
   "metadata": {},
   "outputs": [
    {
     "data": {
      "text/plain": [
       "array([[  1.        ,   1.        ,   1.        , 219.0938762 ],\n",
       "       [  2.        ,   1.        ,   1.        , 280.78863   ],\n",
       "       [  3.        ,   1.        ,   1.        , 159.8566046 ],\n",
       "       [  4.        ,   1.        ,   1.        , 302.470699  ],\n",
       "       [  5.        ,   1.        ,   1.        , 168.8307018 ],\n",
       "       [  1.        ,   2.        ,   1.        , 165.7689769 ],\n",
       "       [  2.        ,   2.        ,   1.        , 233.4383484 ],\n",
       "       [  3.        ,   2.        ,   1.        , 215.7460783 ],\n",
       "       [  4.        ,   2.        ,   1.        , 190.3926673 ],\n",
       "       [  5.        ,   2.        ,   1.        , 319.4884754 ],\n",
       "       [  1.        ,   3.        ,   1.        , 197.7287686 ],\n",
       "       [  2.        ,   3.        ,   1.        , 199.9909148 ],\n",
       "       [  3.        ,   3.        ,   1.        , 254.4097895 ],\n",
       "       [  4.        ,   3.        ,   1.        , 222.1239341 ],\n",
       "       [  5.        ,   3.        ,   1.        , 163.0712926 ],\n",
       "       [  1.        ,   4.        ,   1.        , 217.7872049 ],\n",
       "       [  2.        ,   4.        ,   1.        , 161.8553952 ],\n",
       "       [  3.        ,   4.        ,   1.        , 124.8392325 ],\n",
       "       [  4.        ,   4.        ,   1.        , 216.4079546 ],\n",
       "       [  5.        ,   5.        ,   1.        , 193.4453656 ],\n",
       "       [  1.        ,   5.        ,   1.        , 229.3518208 ],\n",
       "       [  2.        ,   5.        ,   1.        , 151.6873165 ],\n",
       "       [  3.        ,   5.        ,   1.        , 201.4187646 ],\n",
       "       [  4.        ,   5.        ,   1.        , 189.7737667 ],\n",
       "       [  5.        ,   5.        ,   1.        , 140.8575179 ],\n",
       "       [  1.        ,   1.        ,   2.        , 226.236886  ],\n",
       "       [  2.        ,   1.        ,   2.        , 229.7148234 ],\n",
       "       [  3.        ,   1.        ,   2.        , 226.250022  ],\n",
       "       [  4.        ,   1.        ,   2.        , 243.6868388 ],\n",
       "       [  5.        ,   1.        ,   2.        , 207.5860321 ],\n",
       "       [  1.        ,   2.        ,   2.        , 168.0141847 ],\n",
       "       [  2.        ,   2.        ,   2.        , 170.0840522 ],\n",
       "       [  3.        ,   2.        ,   2.        , 195.1402881 ],\n",
       "       [  4.        ,   2.        ,   2.        , 282.0521899 ],\n",
       "       [  5.        ,   2.        ,   2.        , 184.3345104 ],\n",
       "       [  1.        ,   3.        ,   2.        , 151.9820245 ],\n",
       "       [  2.        ,   3.        ,   2.        , 105.2272933 ],\n",
       "       [  3.        ,   3.        ,   2.        ,  99.48398647],\n",
       "       [  4.        ,   3.        ,   2.        , 259.1629768 ],\n",
       "       [  5.        ,   3.        ,   2.        , 151.7971854 ],\n",
       "       [  1.        ,   4.        ,   2.        , 128.4492642 ],\n",
       "       [  2.        ,   4.        ,   2.        , 192.1042703 ],\n",
       "       [  3.        ,   4.        ,   2.        , 166.1638634 ],\n",
       "       [  4.        ,   4.        ,   2.        , 326.0954937 ],\n",
       "       [  5.        ,   5.        ,   2.        , 166.5663739 ],\n",
       "       [  1.        ,   5.        ,   2.        , 192.2321592 ],\n",
       "       [  2.        ,   5.        ,   2.        , 239.1497264 ],\n",
       "       [  3.        ,   5.        ,   2.        ,  86.61988828],\n",
       "       [  4.        ,   5.        ,   2.        , 120.1110015 ],\n",
       "       [  5.        ,   5.        ,   2.        , 217.0031612 ],\n",
       "       [  1.        ,   1.        ,   3.        , 199.550679  ],\n",
       "       [  2.        ,   1.        ,   3.        , 219.2183203 ],\n",
       "       [  3.        ,   1.        ,   3.        , 270.9528287 ],\n",
       "       [  4.        ,   1.        ,   3.        , 155.9326461 ],\n",
       "       [  5.        ,   1.        ,   3.        , 221.7926628 ],\n",
       "       [  1.        ,   2.        ,   3.        , 251.6870983 ],\n",
       "       [  2.        ,   2.        ,   3.        , 157.3538498 ],\n",
       "       [  3.        ,   2.        ,   3.        , 263.9928968 ],\n",
       "       [  4.        ,   2.        ,   3.        , 177.3185029 ],\n",
       "       [  5.        ,   2.        ,   3.        , 197.0617388 ],\n",
       "       [  1.        ,   3.        ,   3.        , 197.2951816 ],\n",
       "       [  2.        ,   3.        ,   3.        , 205.7292355 ],\n",
       "       [  3.        ,   3.        ,   3.        , 173.6373828 ],\n",
       "       [  4.        ,   3.        ,   3.        , 208.3358286 ],\n",
       "       [  5.        ,   3.        ,   3.        , 145.6946764 ],\n",
       "       [  1.        ,   4.        ,   3.        , 245.8648726 ],\n",
       "       [  2.        ,   4.        ,   3.        , 202.4055926 ],\n",
       "       [  3.        ,   4.        ,   3.        , 114.9323417 ],\n",
       "       [  4.        ,   4.        ,   3.        , 231.9865775 ],\n",
       "       [  5.        ,   5.        ,   3.        , 170.908429  ],\n",
       "       [  1.        ,   5.        ,   3.        , 243.0713835 ],\n",
       "       [  2.        ,   5.        ,   3.        , 266.2269453 ],\n",
       "       [  3.        ,   5.        ,   3.        , 265.3796321 ],\n",
       "       [  4.        ,   5.        ,   3.        , 161.7364186 ],\n",
       "       [  5.        ,   5.        ,   3.        , 207.355119  ],\n",
       "       [  1.        ,   1.        ,   4.        , 145.2841794 ],\n",
       "       [  2.        ,   1.        ,   4.        , 201.2613737 ],\n",
       "       [  3.        ,   1.        ,   4.        , 301.9603211 ],\n",
       "       [  4.        ,   1.        ,   4.        , 252.0348023 ],\n",
       "       [  5.        ,   1.        ,   4.        , 303.5480015 ],\n",
       "       [  1.        ,   2.        ,   4.        , 275.8019686 ],\n",
       "       [  2.        ,   2.        ,   4.        , 161.6488969 ],\n",
       "       [  3.        ,   2.        ,   4.        , 200.7639745 ],\n",
       "       [  4.        ,   2.        ,   4.        , 134.1080065 ],\n",
       "       [  5.        ,   2.        ,   4.        , 269.3417314 ],\n",
       "       [  1.        ,   3.        ,   4.        , 152.3136941 ],\n",
       "       [  2.        ,   3.        ,   4.        , 199.0724014 ],\n",
       "       [  3.        ,   3.        ,   4.        , 148.1774529 ],\n",
       "       [  4.        ,   3.        ,   4.        , 158.6359254 ],\n",
       "       [  5.        ,   3.        ,   4.        , 138.2652667 ],\n",
       "       [  1.        ,   4.        ,   4.        , 240.6704123 ],\n",
       "       [  2.        ,   4.        ,   4.        , 196.3556529 ],\n",
       "       [  3.        ,   4.        ,   4.        , 169.2292651 ],\n",
       "       [  4.        ,   4.        ,   4.        , 154.4191558 ],\n",
       "       [  5.        ,   5.        ,   4.        , 175.1953619 ],\n",
       "       [  1.        ,   5.        ,   4.        , 168.3795035 ],\n",
       "       [  2.        ,   5.        ,   4.        , 153.2072411 ],\n",
       "       [  3.        ,   5.        ,   4.        , 220.6451635 ],\n",
       "       [  4.        ,   5.        ,   4.        , 241.8315932 ],\n",
       "       [  5.        ,   5.        ,   4.        , 215.8863709 ],\n",
       "       [  1.        ,   1.        ,   5.        ,  71.91286877],\n",
       "       [  2.        ,   1.        ,   5.        , 229.6512478 ],\n",
       "       [  3.        ,   1.        ,   5.        , 100.814039  ],\n",
       "       [  4.        ,   1.        ,   5.        , 220.7802337 ],\n",
       "       [  5.        ,   1.        ,   5.        , 159.5958706 ],\n",
       "       [  1.        ,   2.        ,   5.        ,  81.89861629],\n",
       "       [  2.        ,   2.        ,   5.        , 202.0982409 ],\n",
       "       [  3.        ,   2.        ,   5.        , 117.5620626 ],\n",
       "       [  4.        ,   2.        ,   5.        , 224.959597  ],\n",
       "       [  5.        ,   2.        ,   5.        , 120.0229155 ],\n",
       "       [  1.        ,   3.        ,   5.        , 125.2581152 ],\n",
       "       [  2.        ,   3.        ,   5.        , 189.8652523 ],\n",
       "       [  3.        ,   3.        ,   5.        , 223.7033401 ],\n",
       "       [  4.        ,   3.        ,   5.        , 133.7718504 ],\n",
       "       [  5.        ,   3.        ,   5.        , 240.1052965 ],\n",
       "       [  1.        ,   4.        ,   5.        , 147.3221293 ],\n",
       "       [  2.        ,   4.        ,   5.        , 197.108901  ],\n",
       "       [  3.        ,   4.        ,   5.        , 192.6727503 ],\n",
       "       [  4.        ,   4.        ,   5.        , 184.8578414 ],\n",
       "       [  5.        ,   5.        ,   5.        , 111.4827152 ],\n",
       "       [  1.        ,   5.        ,   5.        , 247.0624307 ],\n",
       "       [  2.        ,   5.        ,   5.        , 179.6202062 ],\n",
       "       [  3.        ,   5.        ,   5.        , 113.4920541 ],\n",
       "       [  4.        ,   5.        ,   5.        , 300.8699332 ],\n",
       "       [  5.        ,   5.        ,   5.        , 200.7025157 ]])"
      ]
     },
     "execution_count": 9,
     "metadata": {},
     "output_type": "execute_result"
    }
   ],
   "source": [
    "array=np.array(df)\n",
    "array"
   ]
  },
  {
   "cell_type": "code",
   "execution_count": 10,
   "id": "d5ac66d2",
   "metadata": {},
   "outputs": [
    {
     "data": {
      "text/plain": [
       "array([219.0938762 , 280.78863   , 159.8566046 , 302.470699  ,\n",
       "       168.8307018 , 165.7689769 , 233.4383484 , 215.7460783 ,\n",
       "       190.3926673 , 319.4884754 , 197.7287686 , 199.9909148 ,\n",
       "       254.4097895 , 222.1239341 , 163.0712926 , 217.7872049 ,\n",
       "       161.8553952 , 124.8392325 , 216.4079546 , 193.4453656 ,\n",
       "       229.3518208 , 151.6873165 , 201.4187646 , 189.7737667 ,\n",
       "       140.8575179 , 226.236886  , 229.7148234 , 226.250022  ,\n",
       "       243.6868388 , 207.5860321 , 168.0141847 , 170.0840522 ,\n",
       "       195.1402881 , 282.0521899 , 184.3345104 , 151.9820245 ,\n",
       "       105.2272933 ,  99.48398647, 259.1629768 , 151.7971854 ,\n",
       "       128.4492642 , 192.1042703 , 166.1638634 , 326.0954937 ,\n",
       "       166.5663739 , 192.2321592 , 239.1497264 ,  86.61988828,\n",
       "       120.1110015 , 217.0031612 , 199.550679  , 219.2183203 ,\n",
       "       270.9528287 , 155.9326461 , 221.7926628 , 251.6870983 ,\n",
       "       157.3538498 , 263.9928968 , 177.3185029 , 197.0617388 ,\n",
       "       197.2951816 , 205.7292355 , 173.6373828 , 208.3358286 ,\n",
       "       145.6946764 , 245.8648726 , 202.4055926 , 114.9323417 ,\n",
       "       231.9865775 , 170.908429  , 243.0713835 , 266.2269453 ,\n",
       "       265.3796321 , 161.7364186 , 207.355119  , 145.2841794 ,\n",
       "       201.2613737 , 301.9603211 , 252.0348023 , 303.5480015 ,\n",
       "       275.8019686 , 161.6488969 , 200.7639745 , 134.1080065 ,\n",
       "       269.3417314 , 152.3136941 , 199.0724014 , 148.1774529 ,\n",
       "       158.6359254 , 138.2652667 , 240.6704123 , 196.3556529 ,\n",
       "       169.2292651 , 154.4191558 , 175.1953619 , 168.3795035 ,\n",
       "       153.2072411 , 220.6451635 , 241.8315932 , 215.8863709 ,\n",
       "        71.91286877, 229.6512478 , 100.814039  , 220.7802337 ,\n",
       "       159.5958706 ,  81.89861629, 202.0982409 , 117.5620626 ,\n",
       "       224.959597  , 120.0229155 , 125.2581152 , 189.8652523 ,\n",
       "       223.7033401 , 133.7718504 , 240.1052965 , 147.3221293 ,\n",
       "       197.108901  , 192.6727503 , 184.8578414 , 111.4827152 ,\n",
       "       247.0624307 , 179.6202062 , 113.4920541 , 300.8699332 ,\n",
       "       200.7025157 ])"
      ]
     },
     "execution_count": 10,
     "metadata": {},
     "output_type": "execute_result"
    }
   ],
   "source": [
    "df2=array[:, 3]\n",
    "df2 #массив данных по энергопотреблению по дому"
   ]
  },
  {
   "cell_type": "code",
   "execution_count": 15,
   "id": "1ecce04a",
   "metadata": {},
   "outputs": [
    {
     "data": {
      "text/plain": [
       "array([219.0938762, 280.78863  , 159.8566046, 302.470699 , 168.8307018,\n",
       "       165.7689769, 233.4383484, 215.7460783, 190.3926673, 319.4884754,\n",
       "       197.7287686, 199.9909148, 254.4097895, 222.1239341, 163.0712926,\n",
       "       217.7872049, 161.8553952, 124.8392325, 216.4079546, 193.4453656,\n",
       "       229.3518208, 151.6873165, 201.4187646, 189.7737667, 140.8575179,\n",
       "       226.236886 , 229.7148234])"
      ]
     },
     "execution_count": 15,
     "metadata": {},
     "output_type": "execute_result"
    }
   ],
   "source": [
    "df3=df2[:27]\n",
    "df3"
   ]
  },
  {
   "cell_type": "code",
   "execution_count": 16,
   "id": "0cdc9e3f",
   "metadata": {},
   "outputs": [
    {
     "data": {
      "text/plain": [
       "array([[[219.0938762, 280.78863  , 159.8566046],\n",
       "        [302.470699 , 168.8307018, 165.7689769],\n",
       "        [233.4383484, 215.7460783, 190.3926673]],\n",
       "\n",
       "       [[319.4884754, 197.7287686, 199.9909148],\n",
       "        [254.4097895, 222.1239341, 163.0712926],\n",
       "        [217.7872049, 161.8553952, 124.8392325]],\n",
       "\n",
       "       [[216.4079546, 193.4453656, 229.3518208],\n",
       "        [151.6873165, 201.4187646, 189.7737667],\n",
       "        [140.8575179, 226.236886 , 229.7148234]]])"
      ]
     },
     "execution_count": 16,
     "metadata": {},
     "output_type": "execute_result"
    }
   ],
   "source": [
    "cube_3D=df3.reshape(3, 3, 3)\n",
    "cube_3D"
   ]
  },
  {
   "cell_type": "code",
   "execution_count": 18,
   "id": "a818bded",
   "metadata": {},
   "outputs": [
    {
     "data": {
      "text/plain": [
       "326.0954937"
      ]
     },
     "execution_count": 18,
     "metadata": {},
     "output_type": "execute_result"
    }
   ],
   "source": [
    "df2.max()"
   ]
  },
  {
   "cell_type": "code",
   "execution_count": 19,
   "id": "1292d3bf",
   "metadata": {},
   "outputs": [
    {
     "data": {
      "text/plain": [
       "71.91286877"
      ]
     },
     "execution_count": 19,
     "metadata": {},
     "output_type": "execute_result"
    }
   ],
   "source": [
    "df2.min()"
   ]
  },
  {
   "cell_type": "code",
   "execution_count": 20,
   "id": "08141590",
   "metadata": {},
   "outputs": [
    {
     "data": {
      "text/plain": [
       "194.45217738888"
      ]
     },
     "execution_count": 20,
     "metadata": {},
     "output_type": "execute_result"
    }
   ],
   "source": [
    "df2.mean()"
   ]
  },
  {
   "cell_type": "code",
   "execution_count": 22,
   "id": "a13d578d",
   "metadata": {
    "scrolled": true
   },
   "outputs": [
    {
     "data": {
      "text/plain": [
       "197.0617388"
      ]
     },
     "execution_count": 22,
     "metadata": {},
     "output_type": "execute_result"
    }
   ],
   "source": [
    "np.median(df2)"
   ]
  },
  {
   "cell_type": "code",
   "execution_count": 46,
   "id": "8ba83b03",
   "metadata": {
    "scrolled": true
   },
   "outputs": [
    {
     "data": {
      "text/plain": [
       "array([158.6359254])"
      ]
     },
     "execution_count": 46,
     "metadata": {},
     "output_type": "execute_result"
    }
   ],
   "source": [
    "a=np.quantile(df2, [0.25])\n",
    "a"
   ]
  },
  {
   "cell_type": "code",
   "execution_count": 47,
   "id": "dc2d3976",
   "metadata": {},
   "outputs": [
    {
     "data": {
      "text/plain": [
       "array([226.250022])"
      ]
     },
     "execution_count": 47,
     "metadata": {},
     "output_type": "execute_result"
    }
   ],
   "source": [
    "b=np.quantile(df2, [0.75])\n",
    "b"
   ]
  },
  {
   "cell_type": "code",
   "execution_count": 48,
   "id": "347a55f2",
   "metadata": {},
   "outputs": [
    {
     "data": {
      "text/plain": [
       "array([197.0617388])"
      ]
     },
     "execution_count": 48,
     "metadata": {},
     "output_type": "execute_result"
    }
   ],
   "source": [
    "c=np.quantile(df2, [0.5])\n",
    "c"
   ]
  },
  {
   "cell_type": "code",
   "execution_count": 49,
   "id": "7a062f18",
   "metadata": {},
   "outputs": [
    {
     "data": {
      "text/plain": [
       "array([33.8070483])"
      ]
     },
     "execution_count": 49,
     "metadata": {},
     "output_type": "execute_result"
    }
   ],
   "source": [
    "q=(b-a)/2 #квантильное расстояние\n",
    "q"
   ]
  },
  {
   "cell_type": "code",
   "execution_count": 50,
   "id": "7f3360f0",
   "metadata": {
    "scrolled": true
   },
   "outputs": [
    {
     "data": {
      "text/plain": [
       "2769.049246722753"
      ]
     },
     "execution_count": 50,
     "metadata": {},
     "output_type": "execute_result"
    }
   ],
   "source": [
    "np.var(df2)"
   ]
  },
  {
   "cell_type": "code",
   "execution_count": 51,
   "id": "03d371e9",
   "metadata": {},
   "outputs": [
    {
     "data": {
      "text/plain": [
       "52.6217564009674"
      ]
     },
     "execution_count": 51,
     "metadata": {},
     "output_type": "execute_result"
    }
   ],
   "source": [
    "np.std(df2)"
   ]
  },
  {
   "cell_type": "code",
   "execution_count": 54,
   "id": "63630957",
   "metadata": {},
   "outputs": [
    {
     "data": {
      "text/plain": [
       "247.0739337898474"
      ]
     },
     "execution_count": 54,
     "metadata": {},
     "output_type": "execute_result"
    }
   ],
   "source": [
    "range1=df2.mean()+np.std(df2)\n",
    "range1"
   ]
  },
  {
   "cell_type": "code",
   "execution_count": 55,
   "id": "2211846a",
   "metadata": {},
   "outputs": [
    {
     "data": {
      "text/plain": [
       "141.8304209879126"
      ]
     },
     "execution_count": 55,
     "metadata": {},
     "output_type": "execute_result"
    }
   ],
   "source": [
    "range2=df2.mean()-np.std(df2)\n",
    "range2"
   ]
  },
  {
   "cell_type": "code",
   "execution_count": 29,
   "id": "3b5a823a",
   "metadata": {},
   "outputs": [],
   "source": [
    "cube_3Da = cube_3D[0]\n",
    "cube_3Db = cube_3D[1]\n",
    "cube_3Dc = cube_3D[2]"
   ]
  },
  {
   "cell_type": "code",
   "execution_count": 33,
   "id": "f1876b45",
   "metadata": {},
   "outputs": [],
   "source": [
    "point1=cube_3Da.reshape(1,9)\n",
    "point2=cube_3Db.reshape(1,9)\n",
    "point3=cube_3Dc.reshape(1,9)"
   ]
  },
  {
   "cell_type": "code",
   "execution_count": 42,
   "id": "3292cbaa",
   "metadata": {},
   "outputs": [
    {
     "data": {
      "text/plain": [
       "31192.492942997174"
      ]
     },
     "execution_count": 42,
     "metadata": {},
     "output_type": "execute_result"
    }
   ],
   "source": [
    "square1_2 = np.square(point1 - point2) # расчет эвклидова расстояния для 1 и 2 подъездов 3D куба\n",
    "sum_square1_2 = np.sum(square1_2)\n",
    "sum_square1_2"
   ]
  },
  {
   "cell_type": "code",
   "execution_count": 43,
   "id": "f1e68760",
   "metadata": {},
   "outputs": [
    {
     "data": {
      "text/plain": [
       "47066.98447673551"
      ]
     },
     "execution_count": 43,
     "metadata": {},
     "output_type": "execute_result"
    }
   ],
   "source": [
    "square1_3 = np.square(point1 - point3) # расчет эвклидова расстояния для 1 и 3 подъездов 3D куба\n",
    "sum_square1_3 = np.sum(square1_3)\n",
    "sum_square1_3"
   ]
  },
  {
   "cell_type": "code",
   "execution_count": 44,
   "id": "77fcb38a",
   "metadata": {},
   "outputs": [
    {
     "data": {
      "text/plain": [
       "44261.679403293725"
      ]
     },
     "execution_count": 44,
     "metadata": {},
     "output_type": "execute_result"
    }
   ],
   "source": [
    "square3_2 = np.square(point3 - point2) # расчет эвклидова расстояния для 3 и 2 подъездов 3D куба\n",
    "sum_square3_2 = np.sum(square3_2)\n",
    "sum_square3_2"
   ]
  },
  {
   "cell_type": "code",
   "execution_count": 67,
   "id": "c54bb33b",
   "metadata": {},
   "outputs": [
    {
     "name": "stdout",
     "output_type": "stream",
     "text": [
      "Collecting seaborn\n",
      "  Downloading seaborn-0.11.2-py3-none-any.whl (292 kB)\n",
      "     -------------------------------------- 292.8/292.8 KB 1.5 MB/s eta 0:00:00\n",
      "Requirement already satisfied: numpy>=1.15 in c:\\!disk_d!\\ve\\ve\\lib\\site-packages (from seaborn) (1.22.3)\n",
      "Requirement already satisfied: scipy>=1.0 in c:\\!disk_d!\\ve\\ve\\lib\\site-packages (from seaborn) (1.8.0)\n",
      "Requirement already satisfied: matplotlib>=2.2 in c:\\!disk_d!\\ve\\ve\\lib\\site-packages (from seaborn) (3.5.1)\n",
      "Requirement already satisfied: pandas>=0.23 in c:\\!disk_d!\\ve\\ve\\lib\\site-packages (from seaborn) (1.4.1)\n",
      "Requirement already satisfied: cycler>=0.10 in c:\\!disk_d!\\ve\\ve\\lib\\site-packages (from matplotlib>=2.2->seaborn) (0.11.0)\n",
      "Requirement already satisfied: pillow>=6.2.0 in c:\\!disk_d!\\ve\\ve\\lib\\site-packages (from matplotlib>=2.2->seaborn) (9.0.1)\n",
      "Requirement already satisfied: fonttools>=4.22.0 in c:\\!disk_d!\\ve\\ve\\lib\\site-packages (from matplotlib>=2.2->seaborn) (4.31.2)\n",
      "Requirement already satisfied: python-dateutil>=2.7 in c:\\!disk_d!\\ve\\ve\\lib\\site-packages (from matplotlib>=2.2->seaborn) (2.8.2)\n",
      "Requirement already satisfied: pyparsing>=2.2.1 in c:\\!disk_d!\\ve\\ve\\lib\\site-packages (from matplotlib>=2.2->seaborn) (3.0.7)\n",
      "Requirement already satisfied: packaging>=20.0 in c:\\!disk_d!\\ve\\ve\\lib\\site-packages (from matplotlib>=2.2->seaborn) (21.3)\n",
      "Requirement already satisfied: kiwisolver>=1.0.1 in c:\\!disk_d!\\ve\\ve\\lib\\site-packages (from matplotlib>=2.2->seaborn) (1.4.0)\n",
      "Requirement already satisfied: pytz>=2020.1 in c:\\!disk_d!\\ve\\ve\\lib\\site-packages (from pandas>=0.23->seaborn) (2022.1)\n",
      "Requirement already satisfied: six>=1.5 in c:\\!disk_d!\\ve\\ve\\lib\\site-packages (from python-dateutil>=2.7->matplotlib>=2.2->seaborn) (1.16.0)\n",
      "Installing collected packages: seaborn\n",
      "Successfully installed seaborn-0.11.2\n"
     ]
    }
   ],
   "source": [
    "!pip install seaborn\n",
    "import seaborn as sns"
   ]
  },
  {
   "cell_type": "code",
   "execution_count": 68,
   "id": "e5f2f54e",
   "metadata": {},
   "outputs": [
    {
     "name": "stderr",
     "output_type": "stream",
     "text": [
      "C:\\!Disk_D!\\VE\\VE\\lib\\site-packages\\seaborn\\distributions.py:2619: FutureWarning: `distplot` is a deprecated function and will be removed in a future version. Please adapt your code to use either `displot` (a figure-level function with similar flexibility) or `histplot` (an axes-level function for histograms).\n",
      "  warnings.warn(msg, FutureWarning)\n"
     ]
    },
    {
     "data": {
      "image/png": "[encoded data removed]",
      "text/plain": [
       "<Figure size 432x288 with 1 Axes>"
      ]
     },
     "metadata": {
      "needs_background": "light"
     },
     "output_type": "display_data"
    }
   ],
   "source": [
    "sns_plot = sns.distplot(df2)\n",
    "fig = sns_plot.get_figure()"
   ]
  },
  {
   "cell_type": "code",
   "execution_count": null,
   "id": "3ca832b9",
   "metadata": {},
   "outputs": [],
   "source": [
    "# близко с нормальному распределению, немного растянуто вправо"
   ]
  },
  {
   "cell_type": "code",
   "execution_count": 90,
   "id": "cdbce9b9",
   "metadata": {},
   "outputs": [
    {
     "name": "stdout",
     "output_type": "stream",
     "text": [
      "Этаж1\n",
      "max = 319.4884754 \n",
      "min = 124.8392325 \n",
      "среднее = 204.824963872 \n",
      "стандартное отклонение = 47.1812777137637 \n",
      "квантили = [158.6359254]  и  [226.250022]\n"
     ]
    }
   ],
   "source": [
    "print(\"Этаж1\\n\"\"max =\", df2[:25].max(), \"\\n\" \"min =\", df2[:25].min(), \"\\n\" \"среднее =\", df2[:25].mean(), \"\\n\" \"стандартное отклонение =\", df2[:25].std(), \"\\n\" \"квантили =\", np.quantile(df2, [0.25]), \" и \", np.quantile(df2, [0.75]))\n"
   ]
  },
  {
   "cell_type": "code",
   "execution_count": 101,
   "id": "30331972",
   "metadata": {},
   "outputs": [],
   "source": [
    "d = {'stats' : ['min', 'max', 'среднее', 'стандартное отклонение', 'квантиль 25%', 'квантиль 75%'],\n",
    "    'Подъезд 1' : [df2[:25].max(), df2[:25].min(), df2[:25].mean(), df2[:25].std(), np.quantile(df2[:25], 0.25), np.quantile(df2[:25], 0.75)],\n",
    "    'Подъезд 2' : [df2[26:50].max(), df2[26:50].min(), df2[26:50].mean(), df2[26:50].std(), np.quantile(df2[26:50], 0.25), np.quantile(df2[26:50], 0.75)],\n",
    "    'Подъезд 3' : [df2[51:75].max(), df2[51:75].min(), df2[51:75].mean(), df2[51:75].std(), np.quantile(df2[51:75], 0.25), np.quantile(df2[51:75], 0.75)],\n",
    "    'Подъезд 4' : [df2[76:100].max(), df2[76:100].min(), df2[76:100].mean(), df2[76:100].std(), np.quantile(df2[76:100], 0.25), np.quantile(df2[76:100], 0.75)],\n",
    "    'Подъезд 5' : [df2[101:125].max(), df2[101:125].min(), df2[101:125].mean(), df2[101:125].std(), np.quantile(df2[101:125], 0.25), np.quantile(df2[101:125], 0.75)]}"
   ]
  },
  {
   "cell_type": "code",
   "execution_count": 102,
   "id": "6fd53916",
   "metadata": {},
   "outputs": [],
   "source": [
    "df = pd.DataFrame(data=d)"
   ]
  },
  {
   "cell_type": "code",
   "execution_count": 103,
   "id": "7d529d13",
   "metadata": {
    "scrolled": true
   },
   "outputs": [
    {
     "data": {
      "text/html": [
       "<div>\n",
       "<style scoped>\n",
       "    .dataframe tbody tr th:only-of-type {\n",
       "        vertical-align: middle;\n",
       "    }\n",
       "\n",
       "    .dataframe tbody tr th {\n",
       "        vertical-align: top;\n",
       "    }\n",
       "\n",
       "    .dataframe thead th {\n",
       "        text-align: right;\n",
       "    }\n",
       "</style>\n",
       "<table border=\"1\" class=\"dataframe\">\n",
       "  <thead>\n",
       "    <tr style=\"text-align: right;\">\n",
       "      <th></th>\n",
       "      <th>stats</th>\n",
       "      <th>Подъезд 1</th>\n",
       "      <th>Подъезд 2</th>\n",
       "      <th>Подъезд 3</th>\n",
       "      <th>Подъезд 4</th>\n",
       "      <th>Подъезд 5</th>\n",
       "    </tr>\n",
       "  </thead>\n",
       "  <tbody>\n",
       "    <tr>\n",
       "      <th>0</th>\n",
       "      <td>min</td>\n",
       "      <td>319.488475</td>\n",
       "      <td>326.095494</td>\n",
       "      <td>270.952829</td>\n",
       "      <td>303.548001</td>\n",
       "      <td>300.869933</td>\n",
       "    </tr>\n",
       "    <tr>\n",
       "      <th>1</th>\n",
       "      <td>max</td>\n",
       "      <td>124.839232</td>\n",
       "      <td>86.619888</td>\n",
       "      <td>114.932342</td>\n",
       "      <td>134.108006</td>\n",
       "      <td>81.898616</td>\n",
       "    </tr>\n",
       "    <tr>\n",
       "      <th>2</th>\n",
       "      <td>среднее</td>\n",
       "      <td>204.824964</td>\n",
       "      <td>187.875484</td>\n",
       "      <td>206.494590</td>\n",
       "      <td>201.364731</td>\n",
       "      <td>176.886590</td>\n",
       "    </tr>\n",
       "    <tr>\n",
       "      <th>3</th>\n",
       "      <td>стандартное отклонение</td>\n",
       "      <td>47.181278</td>\n",
       "      <td>57.954208</td>\n",
       "      <td>42.288435</td>\n",
       "      <td>50.644816</td>\n",
       "      <td>54.453230</td>\n",
       "    </tr>\n",
       "    <tr>\n",
       "      <th>4</th>\n",
       "      <td>квантиль 25%</td>\n",
       "      <td>165.768977</td>\n",
       "      <td>151.935815</td>\n",
       "      <td>172.955144</td>\n",
       "      <td>157.581733</td>\n",
       "      <td>123.949315</td>\n",
       "    </tr>\n",
       "    <tr>\n",
       "      <th>5</th>\n",
       "      <td>квантиль 75%</td>\n",
       "      <td>222.123934</td>\n",
       "      <td>227.116222</td>\n",
       "      <td>243.769756</td>\n",
       "      <td>240.960708</td>\n",
       "      <td>221.511010</td>\n",
       "    </tr>\n",
       "  </tbody>\n",
       "</table>\n",
       "</div>"
      ],
      "text/plain": [
       "                    stats   Подъезд 1   Подъезд 2   Подъезд 3   Подъезд 4  \\\n",
       "0                     min  319.488475  326.095494  270.952829  303.548001   \n",
       "1                     max  124.839232   86.619888  114.932342  134.108006   \n",
       "2                 среднее  204.824964  187.875484  206.494590  201.364731   \n",
       "3  стандартное отклонение   47.181278   57.954208   42.288435   50.644816   \n",
       "4            квантиль 25%  165.768977  151.935815  172.955144  157.581733   \n",
       "5            квантиль 75%  222.123934  227.116222  243.769756  240.960708   \n",
       "\n",
       "    Подъезд 5  \n",
       "0  300.869933  \n",
       "1   81.898616  \n",
       "2  176.886590  \n",
       "3   54.453230  \n",
       "4  123.949315  \n",
       "5  221.511010  "
      ]
     },
     "execution_count": 103,
     "metadata": {},
     "output_type": "execute_result"
    }
   ],
   "source": [
    "df"
   ]
  },
  {
   "cell_type": "code",
   "execution_count": 108,
   "id": "bce89695",
   "metadata": {},
   "outputs": [
    {
     "data": {
      "text/plain": [
       "array([[219.0938762 , 280.78863   , 159.8566046 , 302.470699  ,\n",
       "        168.8307018 ],\n",
       "       [165.7689769 , 233.4383484 , 215.7460783 , 190.3926673 ,\n",
       "        319.4884754 ],\n",
       "       [197.7287686 , 199.9909148 , 254.4097895 , 222.1239341 ,\n",
       "        163.0712926 ],\n",
       "       [217.7872049 , 161.8553952 , 124.8392325 , 216.4079546 ,\n",
       "        193.4453656 ],\n",
       "       [229.3518208 , 151.6873165 , 201.4187646 , 189.7737667 ,\n",
       "        140.8575179 ],\n",
       "       [226.236886  , 229.7148234 , 226.250022  , 243.6868388 ,\n",
       "        207.5860321 ],\n",
       "       [168.0141847 , 170.0840522 , 195.1402881 , 282.0521899 ,\n",
       "        184.3345104 ],\n",
       "       [151.9820245 , 105.2272933 ,  99.48398647, 259.1629768 ,\n",
       "        151.7971854 ],\n",
       "       [128.4492642 , 192.1042703 , 166.1638634 , 326.0954937 ,\n",
       "        166.5663739 ],\n",
       "       [192.2321592 , 239.1497264 ,  86.61988828, 120.1110015 ,\n",
       "        217.0031612 ],\n",
       "       [199.550679  , 219.2183203 , 270.9528287 , 155.9326461 ,\n",
       "        221.7926628 ],\n",
       "       [251.6870983 , 157.3538498 , 263.9928968 , 177.3185029 ,\n",
       "        197.0617388 ],\n",
       "       [197.2951816 , 205.7292355 , 173.6373828 , 208.3358286 ,\n",
       "        145.6946764 ],\n",
       "       [245.8648726 , 202.4055926 , 114.9323417 , 231.9865775 ,\n",
       "        170.908429  ],\n",
       "       [243.0713835 , 266.2269453 , 265.3796321 , 161.7364186 ,\n",
       "        207.355119  ],\n",
       "       [145.2841794 , 201.2613737 , 301.9603211 , 252.0348023 ,\n",
       "        303.5480015 ],\n",
       "       [275.8019686 , 161.6488969 , 200.7639745 , 134.1080065 ,\n",
       "        269.3417314 ],\n",
       "       [152.3136941 , 199.0724014 , 148.1774529 , 158.6359254 ,\n",
       "        138.2652667 ],\n",
       "       [240.6704123 , 196.3556529 , 169.2292651 , 154.4191558 ,\n",
       "        175.1953619 ],\n",
       "       [168.3795035 , 153.2072411 , 220.6451635 , 241.8315932 ,\n",
       "        215.8863709 ],\n",
       "       [ 71.91286877, 229.6512478 , 100.814039  , 220.7802337 ,\n",
       "        159.5958706 ],\n",
       "       [ 81.89861629, 202.0982409 , 117.5620626 , 224.959597  ,\n",
       "        120.0229155 ],\n",
       "       [125.2581152 , 189.8652523 , 223.7033401 , 133.7718504 ,\n",
       "        240.1052965 ],\n",
       "       [147.3221293 , 197.108901  , 192.6727503 , 184.8578414 ,\n",
       "        111.4827152 ],\n",
       "       [247.0624307 , 179.6202062 , 113.4920541 , 300.8699332 ,\n",
       "        200.7025157 ]])"
      ]
     },
     "execution_count": 108,
     "metadata": {},
     "output_type": "execute_result"
    }
   ],
   "source": [
    "flats_df = df2.reshape(25, 5)\n",
    "flats_df"
   ]
  },
  {
   "cell_type": "code",
   "execution_count": 109,
   "id": "8ca5dab2",
   "metadata": {},
   "outputs": [],
   "source": [
    "flats = {'stats' : ['min', 'max', 'среднее', 'стандартное отклонение', 'квантиль 25%', 'квантиль 75%'],\n",
    "    'Квартира 1' : [flats_df[:, 0].max(), flats_df[:, 0].min(), flats_df[:, 0].mean(), flats_df[:, 0].std(), np.quantile(flats_df[:, 0], 0.25), np.quantile(flats_df[:, 0], 0.75)],\n",
    "    'Квартира 2' : [flats_df[:, 1].max(), flats_df[:, 1].min(), flats_df[:, 1].mean(), flats_df[:, 1].std(), np.quantile(flats_df[:, 1], 0.25), np.quantile(flats_df[:, 1], 0.75)],\n",
    "    'Квартира 3' : [flats_df[:, 2].max(), flats_df[:, 2].min(), flats_df[:, 2].mean(), flats_df[:, 2].std(), np.quantile(flats_df[:, 2], 0.25), np.quantile(flats_df[:, 2], 0.75)],\n",
    "    'Квартира 4' : [flats_df[:, 3].max(), flats_df[:, 3].min(), flats_df[:, 3].mean(), flats_df[:, 3].std(), np.quantile(flats_df[:, 3], 0.25), np.quantile(flats_df[:, 3], 0.75)],\n",
    "    'Квартира 5' : [flats_df[:, 4].max(), flats_df[:, 4].min(), flats_df[:, 4].mean(), flats_df[:, 4].std(), np.quantile(flats_df[:, 4], 0.25), np.quantile(flats_df[:, 4], 0.75)]}"
   ]
  },
  {
   "cell_type": "code",
   "execution_count": 110,
   "id": "cc799a56",
   "metadata": {},
   "outputs": [
    {
     "data": {
      "text/html": [
       "<div>\n",
       "<style scoped>\n",
       "    .dataframe tbody tr th:only-of-type {\n",
       "        vertical-align: middle;\n",
       "    }\n",
       "\n",
       "    .dataframe tbody tr th {\n",
       "        vertical-align: top;\n",
       "    }\n",
       "\n",
       "    .dataframe thead th {\n",
       "        text-align: right;\n",
       "    }\n",
       "</style>\n",
       "<table border=\"1\" class=\"dataframe\">\n",
       "  <thead>\n",
       "    <tr style=\"text-align: right;\">\n",
       "      <th></th>\n",
       "      <th>stats</th>\n",
       "      <th>Квартира 1</th>\n",
       "      <th>Квартира 2</th>\n",
       "      <th>Квартира 3</th>\n",
       "      <th>Квартира 4</th>\n",
       "      <th>Квартира 5</th>\n",
       "    </tr>\n",
       "  </thead>\n",
       "  <tbody>\n",
       "    <tr>\n",
       "      <th>0</th>\n",
       "      <td>min</td>\n",
       "      <td>275.801969</td>\n",
       "      <td>280.788630</td>\n",
       "      <td>301.960321</td>\n",
       "      <td>326.095494</td>\n",
       "      <td>319.488475</td>\n",
       "    </tr>\n",
       "    <tr>\n",
       "      <th>1</th>\n",
       "      <td>max</td>\n",
       "      <td>71.912869</td>\n",
       "      <td>105.227293</td>\n",
       "      <td>86.619888</td>\n",
       "      <td>120.111002</td>\n",
       "      <td>111.482715</td>\n",
       "    </tr>\n",
       "    <tr>\n",
       "      <th>2</th>\n",
       "      <td>среднее</td>\n",
       "      <td>187.600732</td>\n",
       "      <td>196.994565</td>\n",
       "      <td>184.313761</td>\n",
       "      <td>211.754257</td>\n",
       "      <td>191.597572</td>\n",
       "    </tr>\n",
       "    <tr>\n",
       "      <th>3</th>\n",
       "      <td>стандартное отклонение</td>\n",
       "      <td>52.653137</td>\n",
       "      <td>37.556276</td>\n",
       "      <td>59.886287</td>\n",
       "      <td>55.089526</td>\n",
       "      <td>50.769007</td>\n",
       "    </tr>\n",
       "    <tr>\n",
       "      <th>4</th>\n",
       "      <td>квантиль 25%</td>\n",
       "      <td>151.982024</td>\n",
       "      <td>170.084052</td>\n",
       "      <td>124.839232</td>\n",
       "      <td>161.736419</td>\n",
       "      <td>159.595871</td>\n",
       "    </tr>\n",
       "    <tr>\n",
       "      <th>5</th>\n",
       "      <td>квантиль 75%</td>\n",
       "      <td>229.351821</td>\n",
       "      <td>219.218320</td>\n",
       "      <td>223.703340</td>\n",
       "      <td>243.686839</td>\n",
       "      <td>215.886371</td>\n",
       "    </tr>\n",
       "  </tbody>\n",
       "</table>\n",
       "</div>"
      ],
      "text/plain": [
       "                    stats  Квартира 1  Квартира 2  Квартира 3  Квартира 4  \\\n",
       "0                     min  275.801969  280.788630  301.960321  326.095494   \n",
       "1                     max   71.912869  105.227293   86.619888  120.111002   \n",
       "2                 среднее  187.600732  196.994565  184.313761  211.754257   \n",
       "3  стандартное отклонение   52.653137   37.556276   59.886287   55.089526   \n",
       "4            квантиль 25%  151.982024  170.084052  124.839232  161.736419   \n",
       "5            квантиль 75%  229.351821  219.218320  223.703340  243.686839   \n",
       "\n",
       "   Квартира 5  \n",
       "0  319.488475  \n",
       "1  111.482715  \n",
       "2  191.597572  \n",
       "3   50.769007  \n",
       "4  159.595871  \n",
       "5  215.886371  "
      ]
     },
     "execution_count": 110,
     "metadata": {},
     "output_type": "execute_result"
    }
   ],
   "source": [
    "df_flats = pd.DataFrame(data=flats)\n",
    "df_flats"
   ]
  },
  {
   "cell_type": "code",
   "execution_count": 111,
   "id": "c9133be2",
   "metadata": {
    "scrolled": true
   },
   "outputs": [
    {
     "data": {
      "text/plain": [
       "array([[[219.0938762 , 280.78863   , 159.8566046 , 302.470699  ,\n",
       "         168.8307018 ],\n",
       "        [165.7689769 , 233.4383484 , 215.7460783 , 190.3926673 ,\n",
       "         319.4884754 ],\n",
       "        [197.7287686 , 199.9909148 , 254.4097895 , 222.1239341 ,\n",
       "         163.0712926 ],\n",
       "        [217.7872049 , 161.8553952 , 124.8392325 , 216.4079546 ,\n",
       "         193.4453656 ],\n",
       "        [229.3518208 , 151.6873165 , 201.4187646 , 189.7737667 ,\n",
       "         140.8575179 ]],\n",
       "\n",
       "       [[226.236886  , 229.7148234 , 226.250022  , 243.6868388 ,\n",
       "         207.5860321 ],\n",
       "        [168.0141847 , 170.0840522 , 195.1402881 , 282.0521899 ,\n",
       "         184.3345104 ],\n",
       "        [151.9820245 , 105.2272933 ,  99.48398647, 259.1629768 ,\n",
       "         151.7971854 ],\n",
       "        [128.4492642 , 192.1042703 , 166.1638634 , 326.0954937 ,\n",
       "         166.5663739 ],\n",
       "        [192.2321592 , 239.1497264 ,  86.61988828, 120.1110015 ,\n",
       "         217.0031612 ]],\n",
       "\n",
       "       [[199.550679  , 219.2183203 , 270.9528287 , 155.9326461 ,\n",
       "         221.7926628 ],\n",
       "        [251.6870983 , 157.3538498 , 263.9928968 , 177.3185029 ,\n",
       "         197.0617388 ],\n",
       "        [197.2951816 , 205.7292355 , 173.6373828 , 208.3358286 ,\n",
       "         145.6946764 ],\n",
       "        [245.8648726 , 202.4055926 , 114.9323417 , 231.9865775 ,\n",
       "         170.908429  ],\n",
       "        [243.0713835 , 266.2269453 , 265.3796321 , 161.7364186 ,\n",
       "         207.355119  ]],\n",
       "\n",
       "       [[145.2841794 , 201.2613737 , 301.9603211 , 252.0348023 ,\n",
       "         303.5480015 ],\n",
       "        [275.8019686 , 161.6488969 , 200.7639745 , 134.1080065 ,\n",
       "         269.3417314 ],\n",
       "        [152.3136941 , 199.0724014 , 148.1774529 , 158.6359254 ,\n",
       "         138.2652667 ],\n",
       "        [240.6704123 , 196.3556529 , 169.2292651 , 154.4191558 ,\n",
       "         175.1953619 ],\n",
       "        [168.3795035 , 153.2072411 , 220.6451635 , 241.8315932 ,\n",
       "         215.8863709 ]],\n",
       "\n",
       "       [[ 71.91286877, 229.6512478 , 100.814039  , 220.7802337 ,\n",
       "         159.5958706 ],\n",
       "        [ 81.89861629, 202.0982409 , 117.5620626 , 224.959597  ,\n",
       "         120.0229155 ],\n",
       "        [125.2581152 , 189.8652523 , 223.7033401 , 133.7718504 ,\n",
       "         240.1052965 ],\n",
       "        [147.3221293 , 197.108901  , 192.6727503 , 184.8578414 ,\n",
       "         111.4827152 ],\n",
       "        [247.0624307 , 179.6202062 , 113.4920541 , 300.8699332 ,\n",
       "         200.7025157 ]]])"
      ]
     },
     "execution_count": 111,
     "metadata": {},
     "output_type": "execute_result"
    }
   ],
   "source": [
    "floors_df = df2.reshape(5, 5, 5)\n",
    "floors_df"
   ]
  },
  {
   "cell_type": "code",
   "execution_count": 116,
   "id": "a43a79cc",
   "metadata": {},
   "outputs": [
    {
     "data": {
      "text/plain": [
       "array([[219.0938762 , 280.78863   , 159.8566046 , 302.470699  ,\n",
       "        168.8307018 ],\n",
       "       [226.236886  , 229.7148234 , 226.250022  , 243.6868388 ,\n",
       "        207.5860321 ],\n",
       "       [199.550679  , 219.2183203 , 270.9528287 , 155.9326461 ,\n",
       "        221.7926628 ],\n",
       "       [145.2841794 , 201.2613737 , 301.9603211 , 252.0348023 ,\n",
       "        303.5480015 ],\n",
       "       [ 71.91286877, 229.6512478 , 100.814039  , 220.7802337 ,\n",
       "        159.5958706 ]])"
      ]
     },
     "execution_count": 116,
     "metadata": {},
     "output_type": "execute_result"
    }
   ],
   "source": [
    "floors_df[:, 0, :]"
   ]
  },
  {
   "cell_type": "code",
   "execution_count": 117,
   "id": "8a65dd86",
   "metadata": {},
   "outputs": [],
   "source": [
    "floors = {'stats' : ['min', 'max', 'среднее', 'стандартное отклонение', 'квантиль 25%', 'квантиль 75%'],\n",
    "    'Этаж 1' : [floors_df[:, 0, :].max(), floors_df[:, 0, :].min(), floors_df[:, 0, :].mean(), floors_df[:, 0, :].std(), np.quantile(floors_df[:, 0, :], 0.25), np.quantile(floors_df[:, 0, :], 0.75)],\n",
    "    'Этаж 2' : [floors_df[:, 1, :].max(), floors_df[:, 1, :].min(), floors_df[:, 1, :].mean(), floors_df[:, 1, :].std(), np.quantile(floors_df[:, 1, :], 0.25), np.quantile(floors_df[:, 1, :], 0.75)],\n",
    "    'Этаж 3' : [floors_df[:, 2, :].max(), floors_df[:, 2, :].min(), floors_df[:, 2, :].mean(), floors_df[:, 2, :].std(), np.quantile(floors_df[:, 2, :], 0.25), np.quantile(floors_df[:, 2, :], 0.75)],\n",
    "    'Этаж 4' : [floors_df[:, 3, :].max(), floors_df[:, 3, :].min(), floors_df[:, 3, :].mean(), floors_df[:, 3, :].std(), np.quantile(floors_df[:, 3, :], 0.25), np.quantile(floors_df[:, 3, :], 0.75)],\n",
    "    'Этаж 5' : [floors_df[:, 4, :].max(), floors_df[:, 4, :].min(), floors_df[:, 4, :].mean(), floors_df[:, 4, :].std(), np.quantile(floors_df[:, 4, :], 0.25), np.quantile(floors_df[:, 4, :], 0.75)]}"
   ]
  },
  {
   "cell_type": "code",
   "execution_count": 118,
   "id": "3888454f",
   "metadata": {},
   "outputs": [
    {
     "data": {
      "text/html": [
       "<div>\n",
       "<style scoped>\n",
       "    .dataframe tbody tr th:only-of-type {\n",
       "        vertical-align: middle;\n",
       "    }\n",
       "\n",
       "    .dataframe tbody tr th {\n",
       "        vertical-align: top;\n",
       "    }\n",
       "\n",
       "    .dataframe thead th {\n",
       "        text-align: right;\n",
       "    }\n",
       "</style>\n",
       "<table border=\"1\" class=\"dataframe\">\n",
       "  <thead>\n",
       "    <tr style=\"text-align: right;\">\n",
       "      <th></th>\n",
       "      <th>stats</th>\n",
       "      <th>Этаж 1</th>\n",
       "      <th>Этаж 2</th>\n",
       "      <th>Этаж 3</th>\n",
       "      <th>Этаж 4</th>\n",
       "      <th>Этаж 5</th>\n",
       "    </tr>\n",
       "  </thead>\n",
       "  <tbody>\n",
       "    <tr>\n",
       "      <th>0</th>\n",
       "      <td>min</td>\n",
       "      <td>303.548001</td>\n",
       "      <td>319.488475</td>\n",
       "      <td>259.162977</td>\n",
       "      <td>326.095494</td>\n",
       "      <td>300.869933</td>\n",
       "    </tr>\n",
       "    <tr>\n",
       "      <th>1</th>\n",
       "      <td>max</td>\n",
       "      <td>71.912869</td>\n",
       "      <td>81.898616</td>\n",
       "      <td>99.483986</td>\n",
       "      <td>111.482715</td>\n",
       "      <td>86.619888</td>\n",
       "    </tr>\n",
       "    <tr>\n",
       "      <th>2</th>\n",
       "      <td>среднее</td>\n",
       "      <td>212.752208</td>\n",
       "      <td>198.403195</td>\n",
       "      <td>177.793563</td>\n",
       "      <td>185.165057</td>\n",
       "      <td>198.146865</td>\n",
       "    </tr>\n",
       "    <tr>\n",
       "      <th>3</th>\n",
       "      <td>стандартное отклонение</td>\n",
       "      <td>57.953489</td>\n",
       "      <td>56.216358</td>\n",
       "      <td>42.982436</td>\n",
       "      <td>46.043229</td>\n",
       "      <td>51.293072</td>\n",
       "    </tr>\n",
       "    <tr>\n",
       "      <th>4</th>\n",
       "      <td>квантиль 25%</td>\n",
       "      <td>168.830702</td>\n",
       "      <td>165.768977</td>\n",
       "      <td>148.177453</td>\n",
       "      <td>161.855395</td>\n",
       "      <td>161.736419</td>\n",
       "    </tr>\n",
       "    <tr>\n",
       "      <th>5</th>\n",
       "      <td>квантиль 75%</td>\n",
       "      <td>243.686839</td>\n",
       "      <td>233.438348</td>\n",
       "      <td>205.729235</td>\n",
       "      <td>202.405593</td>\n",
       "      <td>239.149726</td>\n",
       "    </tr>\n",
       "  </tbody>\n",
       "</table>\n",
       "</div>"
      ],
      "text/plain": [
       "                    stats      Этаж 1      Этаж 2      Этаж 3      Этаж 4  \\\n",
       "0                     min  303.548001  319.488475  259.162977  326.095494   \n",
       "1                     max   71.912869   81.898616   99.483986  111.482715   \n",
       "2                 среднее  212.752208  198.403195  177.793563  185.165057   \n",
       "3  стандартное отклонение   57.953489   56.216358   42.982436   46.043229   \n",
       "4            квантиль 25%  168.830702  165.768977  148.177453  161.855395   \n",
       "5            квантиль 75%  243.686839  233.438348  205.729235  202.405593   \n",
       "\n",
       "       Этаж 5  \n",
       "0  300.869933  \n",
       "1   86.619888  \n",
       "2  198.146865  \n",
       "3   51.293072  \n",
       "4  161.736419  \n",
       "5  239.149726  "
      ]
     },
     "execution_count": 118,
     "metadata": {},
     "output_type": "execute_result"
    }
   ],
   "source": [
    "df_floors = pd.DataFrame(data=floors)\n",
    "df_floors"
   ]
  },
  {
   "cell_type": "code",
   "execution_count": null,
   "id": "27f75b51",
   "metadata": {},
   "outputs": [],
   "source": []
  }
 ],
 "metadata": {
  "kernelspec": {
   "display_name": "Python 3 (ipykernel)",
   "language": "python",
   "name": "python3"
  },
  "language_info": {
   "codemirror_mode": {
    "name": "ipython",
    "version": 3
   },
   "file_extension": ".py",
   "mimetype": "text/x-python",
   "name": "python",
   "nbconvert_exporter": "python",
   "pygments_lexer": "ipython3",
   "version": "3.10.4"
  }
 },
 "nbformat": 4,
 "nbformat_minor": 5
}
