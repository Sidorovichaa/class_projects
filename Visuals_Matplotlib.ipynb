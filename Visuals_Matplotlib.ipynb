{
 "cells": [
  {
   "cell_type": "code",
   "execution_count": 1,
   "id": "c2112cdb",
   "metadata": {},
   "outputs": [
    {
     "name": "stderr",
     "output_type": "stream",
     "text": [
      "WARNING: You are using pip version 20.2.3; however, version 22.0.4 is available.\n",
      "You should consider upgrading via the 'd:\\anna\\ve\\scripts\\python.exe -m pip install --upgrade pip' command.\n"
     ]
    },
    {
     "name": "stdout",
     "output_type": "stream",
     "text": [
      "Requirement already satisfied: pandas in d:\\anna\\ve\\lib\\site-packages (1.4.1)\n",
      "Requirement already satisfied: python-dateutil>=2.8.1 in d:\\anna\\ve\\lib\\site-packages (from pandas) (2.8.2)\n",
      "Requirement already satisfied: pytz>=2020.1 in d:\\anna\\ve\\lib\\site-packages (from pandas) (2021.3)\n",
      "Requirement already satisfied: numpy>=1.18.5; platform_machine != \"aarch64\" and platform_machine != \"arm64\" and python_version < \"3.10\" in d:\\anna\\ve\\lib\\site-packages (from pandas) (1.22.3)\n",
      "Requirement already satisfied: six>=1.5 in d:\\anna\\ve\\lib\\site-packages (from python-dateutil>=2.8.1->pandas) (1.16.0)\n"
     ]
    }
   ],
   "source": [
    "!pip install pandas\n",
    "import pandas as pd"
   ]
  },
  {
   "cell_type": "code",
   "execution_count": 2,
   "id": "abf28e21",
   "metadata": {},
   "outputs": [],
   "source": [
    "df = pd.read_csv('students.csv')"
   ]
  },
  {
   "cell_type": "code",
   "execution_count": 3,
   "id": "1445df0d",
   "metadata": {},
   "outputs": [
    {
     "data": {
      "text/html": [
       "<div>\n",
       "<style scoped>\n",
       "    .dataframe tbody tr th:only-of-type {\n",
       "        vertical-align: middle;\n",
       "    }\n",
       "\n",
       "    .dataframe tbody tr th {\n",
       "        vertical-align: top;\n",
       "    }\n",
       "\n",
       "    .dataframe thead th {\n",
       "        text-align: right;\n",
       "    }\n",
       "</style>\n",
       "<table border=\"1\" class=\"dataframe\">\n",
       "  <thead>\n",
       "    <tr style=\"text-align: right;\">\n",
       "      <th></th>\n",
       "      <th>stud.id</th>\n",
       "      <th>name</th>\n",
       "      <th>gender</th>\n",
       "      <th>age</th>\n",
       "      <th>height</th>\n",
       "      <th>weight</th>\n",
       "      <th>religion</th>\n",
       "      <th>nc.score</th>\n",
       "      <th>semester</th>\n",
       "      <th>major</th>\n",
       "      <th>minor</th>\n",
       "      <th>score1</th>\n",
       "      <th>score2</th>\n",
       "      <th>online.tutorial</th>\n",
       "      <th>graduated</th>\n",
       "      <th>salary</th>\n",
       "    </tr>\n",
       "  </thead>\n",
       "  <tbody>\n",
       "    <tr>\n",
       "      <th>1</th>\n",
       "      <td>833917</td>\n",
       "      <td>Gonzales, Christina</td>\n",
       "      <td>Female</td>\n",
       "      <td>19</td>\n",
       "      <td>160</td>\n",
       "      <td>64.8</td>\n",
       "      <td>Muslim</td>\n",
       "      <td>1.91</td>\n",
       "      <td>1st</td>\n",
       "      <td>Political Science</td>\n",
       "      <td>Social Sciences</td>\n",
       "      <td>NaN</td>\n",
       "      <td>NaN</td>\n",
       "      <td>0</td>\n",
       "      <td>0</td>\n",
       "      <td>NaN</td>\n",
       "    </tr>\n",
       "    <tr>\n",
       "      <th>2</th>\n",
       "      <td>898539</td>\n",
       "      <td>Lozano, T'Hani</td>\n",
       "      <td>Female</td>\n",
       "      <td>19</td>\n",
       "      <td>172</td>\n",
       "      <td>73.0</td>\n",
       "      <td>Other</td>\n",
       "      <td>1.56</td>\n",
       "      <td>2nd</td>\n",
       "      <td>Social Sciences</td>\n",
       "      <td>Mathematics and Statistics</td>\n",
       "      <td>NaN</td>\n",
       "      <td>NaN</td>\n",
       "      <td>0</td>\n",
       "      <td>0</td>\n",
       "      <td>NaN</td>\n",
       "    </tr>\n",
       "    <tr>\n",
       "      <th>3</th>\n",
       "      <td>379678</td>\n",
       "      <td>Williams, Hanh</td>\n",
       "      <td>Female</td>\n",
       "      <td>22</td>\n",
       "      <td>168</td>\n",
       "      <td>70.6</td>\n",
       "      <td>Protestant</td>\n",
       "      <td>1.24</td>\n",
       "      <td>3rd</td>\n",
       "      <td>Social Sciences</td>\n",
       "      <td>Mathematics and Statistics</td>\n",
       "      <td>45.0</td>\n",
       "      <td>46.0</td>\n",
       "      <td>0</td>\n",
       "      <td>0</td>\n",
       "      <td>NaN</td>\n",
       "    </tr>\n",
       "    <tr>\n",
       "      <th>4</th>\n",
       "      <td>807564</td>\n",
       "      <td>Nem, Denzel</td>\n",
       "      <td>Male</td>\n",
       "      <td>19</td>\n",
       "      <td>183</td>\n",
       "      <td>79.7</td>\n",
       "      <td>Other</td>\n",
       "      <td>1.37</td>\n",
       "      <td>2nd</td>\n",
       "      <td>Environmental Sciences</td>\n",
       "      <td>Mathematics and Statistics</td>\n",
       "      <td>NaN</td>\n",
       "      <td>NaN</td>\n",
       "      <td>0</td>\n",
       "      <td>0</td>\n",
       "      <td>NaN</td>\n",
       "    </tr>\n",
       "    <tr>\n",
       "      <th>5</th>\n",
       "      <td>383291</td>\n",
       "      <td>Powell, Heather</td>\n",
       "      <td>Female</td>\n",
       "      <td>21</td>\n",
       "      <td>175</td>\n",
       "      <td>71.4</td>\n",
       "      <td>Catholic</td>\n",
       "      <td>1.46</td>\n",
       "      <td>1st</td>\n",
       "      <td>Environmental Sciences</td>\n",
       "      <td>Mathematics and Statistics</td>\n",
       "      <td>NaN</td>\n",
       "      <td>NaN</td>\n",
       "      <td>0</td>\n",
       "      <td>0</td>\n",
       "      <td>NaN</td>\n",
       "    </tr>\n",
       "    <tr>\n",
       "      <th>...</th>\n",
       "      <td>...</td>\n",
       "      <td>...</td>\n",
       "      <td>...</td>\n",
       "      <td>...</td>\n",
       "      <td>...</td>\n",
       "      <td>...</td>\n",
       "      <td>...</td>\n",
       "      <td>...</td>\n",
       "      <td>...</td>\n",
       "      <td>...</td>\n",
       "      <td>...</td>\n",
       "      <td>...</td>\n",
       "      <td>...</td>\n",
       "      <td>...</td>\n",
       "      <td>...</td>\n",
       "      <td>...</td>\n",
       "    </tr>\n",
       "    <tr>\n",
       "      <th>8235</th>\n",
       "      <td>818044</td>\n",
       "      <td>Her, Joshua</td>\n",
       "      <td>Male</td>\n",
       "      <td>22</td>\n",
       "      <td>181</td>\n",
       "      <td>79.1</td>\n",
       "      <td>Protestant</td>\n",
       "      <td>2.91</td>\n",
       "      <td>6th</td>\n",
       "      <td>Environmental Sciences</td>\n",
       "      <td>Social Sciences</td>\n",
       "      <td>73.0</td>\n",
       "      <td>71.0</td>\n",
       "      <td>0</td>\n",
       "      <td>1</td>\n",
       "      <td>36750.087135</td>\n",
       "    </tr>\n",
       "    <tr>\n",
       "      <th>8236</th>\n",
       "      <td>560166</td>\n",
       "      <td>Reid, Jose</td>\n",
       "      <td>Male</td>\n",
       "      <td>23</td>\n",
       "      <td>178</td>\n",
       "      <td>72.6</td>\n",
       "      <td>Catholic</td>\n",
       "      <td>2.03</td>\n",
       "      <td>2nd</td>\n",
       "      <td>Environmental Sciences</td>\n",
       "      <td>Mathematics and Statistics</td>\n",
       "      <td>NaN</td>\n",
       "      <td>NaN</td>\n",
       "      <td>0</td>\n",
       "      <td>0</td>\n",
       "      <td>NaN</td>\n",
       "    </tr>\n",
       "    <tr>\n",
       "      <th>8237</th>\n",
       "      <td>380174</td>\n",
       "      <td>Villa, Raechelle</td>\n",
       "      <td>Female</td>\n",
       "      <td>20</td>\n",
       "      <td>169</td>\n",
       "      <td>67.7</td>\n",
       "      <td>Other</td>\n",
       "      <td>3.72</td>\n",
       "      <td>3rd</td>\n",
       "      <td>Environmental Sciences</td>\n",
       "      <td>Economics and Finance</td>\n",
       "      <td>77.0</td>\n",
       "      <td>75.0</td>\n",
       "      <td>1</td>\n",
       "      <td>0</td>\n",
       "      <td>NaN</td>\n",
       "    </tr>\n",
       "    <tr>\n",
       "      <th>8238</th>\n",
       "      <td>540967</td>\n",
       "      <td>Ngo, Preston</td>\n",
       "      <td>Male</td>\n",
       "      <td>23</td>\n",
       "      <td>195</td>\n",
       "      <td>98.6</td>\n",
       "      <td>Other</td>\n",
       "      <td>2.74</td>\n",
       "      <td>4th</td>\n",
       "      <td>Social Sciences</td>\n",
       "      <td>Political Science</td>\n",
       "      <td>50.0</td>\n",
       "      <td>46.0</td>\n",
       "      <td>1</td>\n",
       "      <td>1</td>\n",
       "      <td>40112.041834</td>\n",
       "    </tr>\n",
       "    <tr>\n",
       "      <th>8239</th>\n",
       "      <td>413207</td>\n",
       "      <td>Bernhard, Estela</td>\n",
       "      <td>Female</td>\n",
       "      <td>19</td>\n",
       "      <td>170</td>\n",
       "      <td>69.0</td>\n",
       "      <td>Muslim</td>\n",
       "      <td>3.29</td>\n",
       "      <td>&gt;6th</td>\n",
       "      <td>Political Science</td>\n",
       "      <td>Biology</td>\n",
       "      <td>47.0</td>\n",
       "      <td>59.0</td>\n",
       "      <td>1</td>\n",
       "      <td>1</td>\n",
       "      <td>45900.134459</td>\n",
       "    </tr>\n",
       "  </tbody>\n",
       "</table>\n",
       "<p>8239 rows × 16 columns</p>\n",
       "</div>"
      ],
      "text/plain": [
       "      stud.id                 name  gender  age  height  weight    religion  \\\n",
       "1      833917  Gonzales, Christina  Female   19     160    64.8      Muslim   \n",
       "2      898539       Lozano, T'Hani  Female   19     172    73.0       Other   \n",
       "3      379678       Williams, Hanh  Female   22     168    70.6  Protestant   \n",
       "4      807564          Nem, Denzel    Male   19     183    79.7       Other   \n",
       "5      383291      Powell, Heather  Female   21     175    71.4    Catholic   \n",
       "...       ...                  ...     ...  ...     ...     ...         ...   \n",
       "8235   818044          Her, Joshua    Male   22     181    79.1  Protestant   \n",
       "8236   560166           Reid, Jose    Male   23     178    72.6    Catholic   \n",
       "8237   380174     Villa, Raechelle  Female   20     169    67.7       Other   \n",
       "8238   540967         Ngo, Preston    Male   23     195    98.6       Other   \n",
       "8239   413207     Bernhard, Estela  Female   19     170    69.0      Muslim   \n",
       "\n",
       "      nc.score semester                   major                       minor  \\\n",
       "1         1.91      1st       Political Science             Social Sciences   \n",
       "2         1.56      2nd         Social Sciences  Mathematics and Statistics   \n",
       "3         1.24      3rd         Social Sciences  Mathematics and Statistics   \n",
       "4         1.37      2nd  Environmental Sciences  Mathematics and Statistics   \n",
       "5         1.46      1st  Environmental Sciences  Mathematics and Statistics   \n",
       "...        ...      ...                     ...                         ...   \n",
       "8235      2.91      6th  Environmental Sciences             Social Sciences   \n",
       "8236      2.03      2nd  Environmental Sciences  Mathematics and Statistics   \n",
       "8237      3.72      3rd  Environmental Sciences       Economics and Finance   \n",
       "8238      2.74      4th         Social Sciences           Political Science   \n",
       "8239      3.29     >6th       Political Science                     Biology   \n",
       "\n",
       "      score1  score2  online.tutorial  graduated        salary  \n",
       "1        NaN     NaN                0          0           NaN  \n",
       "2        NaN     NaN                0          0           NaN  \n",
       "3       45.0    46.0                0          0           NaN  \n",
       "4        NaN     NaN                0          0           NaN  \n",
       "5        NaN     NaN                0          0           NaN  \n",
       "...      ...     ...              ...        ...           ...  \n",
       "8235    73.0    71.0                0          1  36750.087135  \n",
       "8236     NaN     NaN                0          0           NaN  \n",
       "8237    77.0    75.0                1          0           NaN  \n",
       "8238    50.0    46.0                1          1  40112.041834  \n",
       "8239    47.0    59.0                1          1  45900.134459  \n",
       "\n",
       "[8239 rows x 16 columns]"
      ]
     },
     "execution_count": 3,
     "metadata": {},
     "output_type": "execute_result"
    }
   ],
   "source": [
    "df"
   ]
  },
  {
   "cell_type": "code",
   "execution_count": 4,
   "id": "4c288a8f",
   "metadata": {},
   "outputs": [
    {
     "data": {
      "text/html": [
       "<div>\n",
       "<style scoped>\n",
       "    .dataframe tbody tr th:only-of-type {\n",
       "        vertical-align: middle;\n",
       "    }\n",
       "\n",
       "    .dataframe tbody tr th {\n",
       "        vertical-align: top;\n",
       "    }\n",
       "\n",
       "    .dataframe thead th {\n",
       "        text-align: right;\n",
       "    }\n",
       "</style>\n",
       "<table border=\"1\" class=\"dataframe\">\n",
       "  <thead>\n",
       "    <tr style=\"text-align: right;\">\n",
       "      <th></th>\n",
       "      <th>stud.id</th>\n",
       "      <th>age</th>\n",
       "      <th>height</th>\n",
       "      <th>weight</th>\n",
       "      <th>nc.score</th>\n",
       "      <th>score1</th>\n",
       "      <th>score2</th>\n",
       "      <th>online.tutorial</th>\n",
       "      <th>graduated</th>\n",
       "      <th>salary</th>\n",
       "    </tr>\n",
       "  </thead>\n",
       "  <tbody>\n",
       "    <tr>\n",
       "      <th>count</th>\n",
       "      <td>8239.000000</td>\n",
       "      <td>8239.000000</td>\n",
       "      <td>8239.000000</td>\n",
       "      <td>8239.000000</td>\n",
       "      <td>8239.000000</td>\n",
       "      <td>4892.000000</td>\n",
       "      <td>4892.000000</td>\n",
       "      <td>8239.000000</td>\n",
       "      <td>8239.000000</td>\n",
       "      <td>1753.000000</td>\n",
       "    </tr>\n",
       "    <tr>\n",
       "      <th>mean</th>\n",
       "      <td>548910.484525</td>\n",
       "      <td>22.541571</td>\n",
       "      <td>171.380750</td>\n",
       "      <td>72.998131</td>\n",
       "      <td>2.166481</td>\n",
       "      <td>68.164963</td>\n",
       "      <td>69.494685</td>\n",
       "      <td>0.386212</td>\n",
       "      <td>0.212769</td>\n",
       "      <td>42522.112364</td>\n",
       "    </tr>\n",
       "    <tr>\n",
       "      <th>std</th>\n",
       "      <td>253849.389811</td>\n",
       "      <td>6.065111</td>\n",
       "      <td>11.077529</td>\n",
       "      <td>8.635162</td>\n",
       "      <td>0.811548</td>\n",
       "      <td>14.051762</td>\n",
       "      <td>14.395251</td>\n",
       "      <td>0.486910</td>\n",
       "      <td>0.409290</td>\n",
       "      <td>10333.139906</td>\n",
       "    </tr>\n",
       "    <tr>\n",
       "      <th>min</th>\n",
       "      <td>110250.000000</td>\n",
       "      <td>18.000000</td>\n",
       "      <td>135.000000</td>\n",
       "      <td>51.400000</td>\n",
       "      <td>1.000000</td>\n",
       "      <td>30.000000</td>\n",
       "      <td>31.000000</td>\n",
       "      <td>0.000000</td>\n",
       "      <td>0.000000</td>\n",
       "      <td>11444.141653</td>\n",
       "    </tr>\n",
       "    <tr>\n",
       "      <th>25%</th>\n",
       "      <td>331222.500000</td>\n",
       "      <td>20.000000</td>\n",
       "      <td>163.000000</td>\n",
       "      <td>66.500000</td>\n",
       "      <td>1.460000</td>\n",
       "      <td>58.000000</td>\n",
       "      <td>59.000000</td>\n",
       "      <td>0.000000</td>\n",
       "      <td>0.000000</td>\n",
       "      <td>35206.541598</td>\n",
       "    </tr>\n",
       "    <tr>\n",
       "      <th>50%</th>\n",
       "      <td>545132.000000</td>\n",
       "      <td>21.000000</td>\n",
       "      <td>171.000000</td>\n",
       "      <td>71.800000</td>\n",
       "      <td>2.040000</td>\n",
       "      <td>70.000000</td>\n",
       "      <td>71.000000</td>\n",
       "      <td>0.000000</td>\n",
       "      <td>0.000000</td>\n",
       "      <td>41672.009748</td>\n",
       "    </tr>\n",
       "    <tr>\n",
       "      <th>75%</th>\n",
       "      <td>770807.500000</td>\n",
       "      <td>23.000000</td>\n",
       "      <td>180.000000</td>\n",
       "      <td>78.500000</td>\n",
       "      <td>2.780000</td>\n",
       "      <td>78.000000</td>\n",
       "      <td>80.000000</td>\n",
       "      <td>1.000000</td>\n",
       "      <td>0.000000</td>\n",
       "      <td>49372.540906</td>\n",
       "    </tr>\n",
       "    <tr>\n",
       "      <th>max</th>\n",
       "      <td>989901.000000</td>\n",
       "      <td>64.000000</td>\n",
       "      <td>206.000000</td>\n",
       "      <td>116.000000</td>\n",
       "      <td>4.000000</td>\n",
       "      <td>97.000000</td>\n",
       "      <td>98.000000</td>\n",
       "      <td>1.000000</td>\n",
       "      <td>1.000000</td>\n",
       "      <td>75596.793441</td>\n",
       "    </tr>\n",
       "  </tbody>\n",
       "</table>\n",
       "</div>"
      ],
      "text/plain": [
       "             stud.id          age       height       weight     nc.score  \\\n",
       "count    8239.000000  8239.000000  8239.000000  8239.000000  8239.000000   \n",
       "mean   548910.484525    22.541571   171.380750    72.998131     2.166481   \n",
       "std    253849.389811     6.065111    11.077529     8.635162     0.811548   \n",
       "min    110250.000000    18.000000   135.000000    51.400000     1.000000   \n",
       "25%    331222.500000    20.000000   163.000000    66.500000     1.460000   \n",
       "50%    545132.000000    21.000000   171.000000    71.800000     2.040000   \n",
       "75%    770807.500000    23.000000   180.000000    78.500000     2.780000   \n",
       "max    989901.000000    64.000000   206.000000   116.000000     4.000000   \n",
       "\n",
       "            score1       score2  online.tutorial    graduated        salary  \n",
       "count  4892.000000  4892.000000      8239.000000  8239.000000   1753.000000  \n",
       "mean     68.164963    69.494685         0.386212     0.212769  42522.112364  \n",
       "std      14.051762    14.395251         0.486910     0.409290  10333.139906  \n",
       "min      30.000000    31.000000         0.000000     0.000000  11444.141653  \n",
       "25%      58.000000    59.000000         0.000000     0.000000  35206.541598  \n",
       "50%      70.000000    71.000000         0.000000     0.000000  41672.009748  \n",
       "75%      78.000000    80.000000         1.000000     0.000000  49372.540906  \n",
       "max      97.000000    98.000000         1.000000     1.000000  75596.793441  "
      ]
     },
     "execution_count": 4,
     "metadata": {},
     "output_type": "execute_result"
    }
   ],
   "source": [
    "df.describe()"
   ]
  },
  {
   "cell_type": "code",
   "execution_count": 5,
   "id": "8a055664",
   "metadata": {},
   "outputs": [
    {
     "data": {
      "text/html": [
       "<div>\n",
       "<style scoped>\n",
       "    .dataframe tbody tr th:only-of-type {\n",
       "        vertical-align: middle;\n",
       "    }\n",
       "\n",
       "    .dataframe tbody tr th {\n",
       "        vertical-align: top;\n",
       "    }\n",
       "\n",
       "    .dataframe thead th {\n",
       "        text-align: right;\n",
       "    }\n",
       "</style>\n",
       "<table border=\"1\" class=\"dataframe\">\n",
       "  <thead>\n",
       "    <tr style=\"text-align: right;\">\n",
       "      <th></th>\n",
       "      <th>stud.id</th>\n",
       "      <th>name</th>\n",
       "      <th>gender</th>\n",
       "      <th>age</th>\n",
       "      <th>height</th>\n",
       "      <th>weight</th>\n",
       "      <th>religion</th>\n",
       "      <th>nc.score</th>\n",
       "      <th>semester</th>\n",
       "      <th>major</th>\n",
       "      <th>minor</th>\n",
       "      <th>score1</th>\n",
       "      <th>score2</th>\n",
       "      <th>online.tutorial</th>\n",
       "      <th>graduated</th>\n",
       "      <th>salary</th>\n",
       "    </tr>\n",
       "  </thead>\n",
       "  <tbody>\n",
       "    <tr>\n",
       "      <th>8235</th>\n",
       "      <td>818044</td>\n",
       "      <td>Her, Joshua</td>\n",
       "      <td>Male</td>\n",
       "      <td>22</td>\n",
       "      <td>181</td>\n",
       "      <td>79.1</td>\n",
       "      <td>Protestant</td>\n",
       "      <td>2.91</td>\n",
       "      <td>6th</td>\n",
       "      <td>Environmental Sciences</td>\n",
       "      <td>Social Sciences</td>\n",
       "      <td>73.0</td>\n",
       "      <td>71.0</td>\n",
       "      <td>0</td>\n",
       "      <td>1</td>\n",
       "      <td>36750.087135</td>\n",
       "    </tr>\n",
       "    <tr>\n",
       "      <th>8236</th>\n",
       "      <td>560166</td>\n",
       "      <td>Reid, Jose</td>\n",
       "      <td>Male</td>\n",
       "      <td>23</td>\n",
       "      <td>178</td>\n",
       "      <td>72.6</td>\n",
       "      <td>Catholic</td>\n",
       "      <td>2.03</td>\n",
       "      <td>2nd</td>\n",
       "      <td>Environmental Sciences</td>\n",
       "      <td>Mathematics and Statistics</td>\n",
       "      <td>NaN</td>\n",
       "      <td>NaN</td>\n",
       "      <td>0</td>\n",
       "      <td>0</td>\n",
       "      <td>NaN</td>\n",
       "    </tr>\n",
       "    <tr>\n",
       "      <th>8237</th>\n",
       "      <td>380174</td>\n",
       "      <td>Villa, Raechelle</td>\n",
       "      <td>Female</td>\n",
       "      <td>20</td>\n",
       "      <td>169</td>\n",
       "      <td>67.7</td>\n",
       "      <td>Other</td>\n",
       "      <td>3.72</td>\n",
       "      <td>3rd</td>\n",
       "      <td>Environmental Sciences</td>\n",
       "      <td>Economics and Finance</td>\n",
       "      <td>77.0</td>\n",
       "      <td>75.0</td>\n",
       "      <td>1</td>\n",
       "      <td>0</td>\n",
       "      <td>NaN</td>\n",
       "    </tr>\n",
       "    <tr>\n",
       "      <th>8238</th>\n",
       "      <td>540967</td>\n",
       "      <td>Ngo, Preston</td>\n",
       "      <td>Male</td>\n",
       "      <td>23</td>\n",
       "      <td>195</td>\n",
       "      <td>98.6</td>\n",
       "      <td>Other</td>\n",
       "      <td>2.74</td>\n",
       "      <td>4th</td>\n",
       "      <td>Social Sciences</td>\n",
       "      <td>Political Science</td>\n",
       "      <td>50.0</td>\n",
       "      <td>46.0</td>\n",
       "      <td>1</td>\n",
       "      <td>1</td>\n",
       "      <td>40112.041834</td>\n",
       "    </tr>\n",
       "    <tr>\n",
       "      <th>8239</th>\n",
       "      <td>413207</td>\n",
       "      <td>Bernhard, Estela</td>\n",
       "      <td>Female</td>\n",
       "      <td>19</td>\n",
       "      <td>170</td>\n",
       "      <td>69.0</td>\n",
       "      <td>Muslim</td>\n",
       "      <td>3.29</td>\n",
       "      <td>&gt;6th</td>\n",
       "      <td>Political Science</td>\n",
       "      <td>Biology</td>\n",
       "      <td>47.0</td>\n",
       "      <td>59.0</td>\n",
       "      <td>1</td>\n",
       "      <td>1</td>\n",
       "      <td>45900.134459</td>\n",
       "    </tr>\n",
       "  </tbody>\n",
       "</table>\n",
       "</div>"
      ],
      "text/plain": [
       "      stud.id              name  gender  age  height  weight    religion  \\\n",
       "8235   818044       Her, Joshua    Male   22     181    79.1  Protestant   \n",
       "8236   560166        Reid, Jose    Male   23     178    72.6    Catholic   \n",
       "8237   380174  Villa, Raechelle  Female   20     169    67.7       Other   \n",
       "8238   540967      Ngo, Preston    Male   23     195    98.6       Other   \n",
       "8239   413207  Bernhard, Estela  Female   19     170    69.0      Muslim   \n",
       "\n",
       "      nc.score semester                   major                       minor  \\\n",
       "8235      2.91      6th  Environmental Sciences             Social Sciences   \n",
       "8236      2.03      2nd  Environmental Sciences  Mathematics and Statistics   \n",
       "8237      3.72      3rd  Environmental Sciences       Economics and Finance   \n",
       "8238      2.74      4th         Social Sciences           Political Science   \n",
       "8239      3.29     >6th       Political Science                     Biology   \n",
       "\n",
       "      score1  score2  online.tutorial  graduated        salary  \n",
       "8235    73.0    71.0                0          1  36750.087135  \n",
       "8236     NaN     NaN                0          0           NaN  \n",
       "8237    77.0    75.0                1          0           NaN  \n",
       "8238    50.0    46.0                1          1  40112.041834  \n",
       "8239    47.0    59.0                1          1  45900.134459  "
      ]
     },
     "execution_count": 5,
     "metadata": {},
     "output_type": "execute_result"
    }
   ],
   "source": [
    "df.tail()"
   ]
  },
  {
   "cell_type": "code",
   "execution_count": 6,
   "id": "69bfc800",
   "metadata": {},
   "outputs": [],
   "source": [
    "import matplotlib.pyplot as plt"
   ]
  },
  {
   "cell_type": "code",
   "execution_count": 7,
   "id": "b92f50fd",
   "metadata": {},
   "outputs": [
    {
     "data": {
      "text/plain": [
       "(array([4110.,    0.,    0.,    0.,    0.,    0.,    0.,    0.,    0.,\n",
       "        4129.]),\n",
       " array([0. , 0.1, 0.2, 0.3, 0.4, 0.5, 0.6, 0.7, 0.8, 0.9, 1. ]),\n",
       " <BarContainer object of 10 artists>)"
      ]
     },
     "execution_count": 7,
     "metadata": {},
     "output_type": "execute_result"
    },
    {
     "data": {
      "image/png": "[encoded data removed]",
      "text/plain": [
       "<Figure size 432x288 with 1 Axes>"
      ]
     },
     "metadata": {
      "needs_background": "light"
     },
     "output_type": "display_data"
    }
   ],
   "source": [
    "plt.hist(df['gender'], bins=10)"
   ]
  },
  {
   "cell_type": "code",
   "execution_count": 8,
   "id": "1231eaf6",
   "metadata": {},
   "outputs": [
    {
     "data": {
      "text/plain": [
       "(array([5980., 1830.,   56.,   60.,   37.,   76.,   52.,   39.,   58.,\n",
       "          51.]),\n",
       " array([18. , 22.6, 27.2, 31.8, 36.4, 41. , 45.6, 50.2, 54.8, 59.4, 64. ]),\n",
       " <BarContainer object of 10 artists>)"
      ]
     },
     "execution_count": 8,
     "metadata": {},
     "output_type": "execute_result"
    },
    {
     "data": {
      "image/png": "[encoded data removed]",
      "text/plain": [
       "<Figure size 432x288 with 1 Axes>"
      ]
     },
     "metadata": {
      "needs_background": "light"
     },
     "output_type": "display_data"
    }
   ],
   "source": [
    "plt.hist(df['age'])"
   ]
  },
  {
   "cell_type": "code",
   "execution_count": 9,
   "id": "f621d5e6",
   "metadata": {},
   "outputs": [
    {
     "data": {
      "text/html": [
       "<div>\n",
       "<style scoped>\n",
       "    .dataframe tbody tr th:only-of-type {\n",
       "        vertical-align: middle;\n",
       "    }\n",
       "\n",
       "    .dataframe tbody tr th {\n",
       "        vertical-align: top;\n",
       "    }\n",
       "\n",
       "    .dataframe thead th {\n",
       "        text-align: right;\n",
       "    }\n",
       "</style>\n",
       "<table border=\"1\" class=\"dataframe\">\n",
       "  <thead>\n",
       "    <tr style=\"text-align: right;\">\n",
       "      <th></th>\n",
       "      <th>stud.id</th>\n",
       "      <th>name</th>\n",
       "      <th>gender</th>\n",
       "      <th>age</th>\n",
       "      <th>height</th>\n",
       "      <th>weight</th>\n",
       "      <th>religion</th>\n",
       "      <th>nc.score</th>\n",
       "      <th>semester</th>\n",
       "      <th>major</th>\n",
       "      <th>minor</th>\n",
       "      <th>score1</th>\n",
       "      <th>score2</th>\n",
       "      <th>online.tutorial</th>\n",
       "      <th>graduated</th>\n",
       "      <th>salary</th>\n",
       "    </tr>\n",
       "  </thead>\n",
       "  <tbody>\n",
       "    <tr>\n",
       "      <th>1</th>\n",
       "      <td>833917</td>\n",
       "      <td>Gonzales, Christina</td>\n",
       "      <td>Female</td>\n",
       "      <td>19</td>\n",
       "      <td>160</td>\n",
       "      <td>64.8</td>\n",
       "      <td>Muslim</td>\n",
       "      <td>1.91</td>\n",
       "      <td>1st</td>\n",
       "      <td>Political Science</td>\n",
       "      <td>Social Sciences</td>\n",
       "      <td>NaN</td>\n",
       "      <td>NaN</td>\n",
       "      <td>False</td>\n",
       "      <td>False</td>\n",
       "      <td>NaN</td>\n",
       "    </tr>\n",
       "    <tr>\n",
       "      <th>2</th>\n",
       "      <td>898539</td>\n",
       "      <td>Lozano, T'Hani</td>\n",
       "      <td>Female</td>\n",
       "      <td>19</td>\n",
       "      <td>172</td>\n",
       "      <td>73.0</td>\n",
       "      <td>Other</td>\n",
       "      <td>1.56</td>\n",
       "      <td>2nd</td>\n",
       "      <td>Social Sciences</td>\n",
       "      <td>Mathematics and Statistics</td>\n",
       "      <td>NaN</td>\n",
       "      <td>NaN</td>\n",
       "      <td>False</td>\n",
       "      <td>False</td>\n",
       "      <td>NaN</td>\n",
       "    </tr>\n",
       "    <tr>\n",
       "      <th>3</th>\n",
       "      <td>379678</td>\n",
       "      <td>Williams, Hanh</td>\n",
       "      <td>Female</td>\n",
       "      <td>22</td>\n",
       "      <td>168</td>\n",
       "      <td>70.6</td>\n",
       "      <td>Protestant</td>\n",
       "      <td>1.24</td>\n",
       "      <td>3rd</td>\n",
       "      <td>Social Sciences</td>\n",
       "      <td>Mathematics and Statistics</td>\n",
       "      <td>45.0</td>\n",
       "      <td>46.0</td>\n",
       "      <td>False</td>\n",
       "      <td>False</td>\n",
       "      <td>NaN</td>\n",
       "    </tr>\n",
       "    <tr>\n",
       "      <th>4</th>\n",
       "      <td>807564</td>\n",
       "      <td>Nem, Denzel</td>\n",
       "      <td>Male</td>\n",
       "      <td>19</td>\n",
       "      <td>183</td>\n",
       "      <td>79.7</td>\n",
       "      <td>Other</td>\n",
       "      <td>1.37</td>\n",
       "      <td>2nd</td>\n",
       "      <td>Environmental Sciences</td>\n",
       "      <td>Mathematics and Statistics</td>\n",
       "      <td>NaN</td>\n",
       "      <td>NaN</td>\n",
       "      <td>False</td>\n",
       "      <td>False</td>\n",
       "      <td>NaN</td>\n",
       "    </tr>\n",
       "    <tr>\n",
       "      <th>5</th>\n",
       "      <td>383291</td>\n",
       "      <td>Powell, Heather</td>\n",
       "      <td>Female</td>\n",
       "      <td>21</td>\n",
       "      <td>175</td>\n",
       "      <td>71.4</td>\n",
       "      <td>Catholic</td>\n",
       "      <td>1.46</td>\n",
       "      <td>1st</td>\n",
       "      <td>Environmental Sciences</td>\n",
       "      <td>Mathematics and Statistics</td>\n",
       "      <td>NaN</td>\n",
       "      <td>NaN</td>\n",
       "      <td>False</td>\n",
       "      <td>False</td>\n",
       "      <td>NaN</td>\n",
       "    </tr>\n",
       "    <tr>\n",
       "      <th>...</th>\n",
       "      <td>...</td>\n",
       "      <td>...</td>\n",
       "      <td>...</td>\n",
       "      <td>...</td>\n",
       "      <td>...</td>\n",
       "      <td>...</td>\n",
       "      <td>...</td>\n",
       "      <td>...</td>\n",
       "      <td>...</td>\n",
       "      <td>...</td>\n",
       "      <td>...</td>\n",
       "      <td>...</td>\n",
       "      <td>...</td>\n",
       "      <td>...</td>\n",
       "      <td>...</td>\n",
       "      <td>...</td>\n",
       "    </tr>\n",
       "    <tr>\n",
       "      <th>8235</th>\n",
       "      <td>818044</td>\n",
       "      <td>Her, Joshua</td>\n",
       "      <td>Male</td>\n",
       "      <td>22</td>\n",
       "      <td>181</td>\n",
       "      <td>79.1</td>\n",
       "      <td>Protestant</td>\n",
       "      <td>2.91</td>\n",
       "      <td>6th</td>\n",
       "      <td>Environmental Sciences</td>\n",
       "      <td>Social Sciences</td>\n",
       "      <td>73.0</td>\n",
       "      <td>71.0</td>\n",
       "      <td>False</td>\n",
       "      <td>True</td>\n",
       "      <td>36750.087135</td>\n",
       "    </tr>\n",
       "    <tr>\n",
       "      <th>8236</th>\n",
       "      <td>560166</td>\n",
       "      <td>Reid, Jose</td>\n",
       "      <td>Male</td>\n",
       "      <td>23</td>\n",
       "      <td>178</td>\n",
       "      <td>72.6</td>\n",
       "      <td>Catholic</td>\n",
       "      <td>2.03</td>\n",
       "      <td>2nd</td>\n",
       "      <td>Environmental Sciences</td>\n",
       "      <td>Mathematics and Statistics</td>\n",
       "      <td>NaN</td>\n",
       "      <td>NaN</td>\n",
       "      <td>False</td>\n",
       "      <td>False</td>\n",
       "      <td>NaN</td>\n",
       "    </tr>\n",
       "    <tr>\n",
       "      <th>8237</th>\n",
       "      <td>380174</td>\n",
       "      <td>Villa, Raechelle</td>\n",
       "      <td>Female</td>\n",
       "      <td>20</td>\n",
       "      <td>169</td>\n",
       "      <td>67.7</td>\n",
       "      <td>Other</td>\n",
       "      <td>3.72</td>\n",
       "      <td>3rd</td>\n",
       "      <td>Environmental Sciences</td>\n",
       "      <td>Economics and Finance</td>\n",
       "      <td>77.0</td>\n",
       "      <td>75.0</td>\n",
       "      <td>True</td>\n",
       "      <td>False</td>\n",
       "      <td>NaN</td>\n",
       "    </tr>\n",
       "    <tr>\n",
       "      <th>8238</th>\n",
       "      <td>540967</td>\n",
       "      <td>Ngo, Preston</td>\n",
       "      <td>Male</td>\n",
       "      <td>23</td>\n",
       "      <td>195</td>\n",
       "      <td>98.6</td>\n",
       "      <td>Other</td>\n",
       "      <td>2.74</td>\n",
       "      <td>4th</td>\n",
       "      <td>Social Sciences</td>\n",
       "      <td>Political Science</td>\n",
       "      <td>50.0</td>\n",
       "      <td>46.0</td>\n",
       "      <td>True</td>\n",
       "      <td>True</td>\n",
       "      <td>40112.041834</td>\n",
       "    </tr>\n",
       "    <tr>\n",
       "      <th>8239</th>\n",
       "      <td>413207</td>\n",
       "      <td>Bernhard, Estela</td>\n",
       "      <td>Female</td>\n",
       "      <td>19</td>\n",
       "      <td>170</td>\n",
       "      <td>69.0</td>\n",
       "      <td>Muslim</td>\n",
       "      <td>3.29</td>\n",
       "      <td>&gt;6th</td>\n",
       "      <td>Political Science</td>\n",
       "      <td>Biology</td>\n",
       "      <td>47.0</td>\n",
       "      <td>59.0</td>\n",
       "      <td>True</td>\n",
       "      <td>True</td>\n",
       "      <td>45900.134459</td>\n",
       "    </tr>\n",
       "  </tbody>\n",
       "</table>\n",
       "<p>8239 rows × 16 columns</p>\n",
       "</div>"
      ],
      "text/plain": [
       "      stud.id                 name  gender  age  height  weight    religion  \\\n",
       "1      833917  Gonzales, Christina  Female   19     160    64.8      Muslim   \n",
       "2      898539       Lozano, T'Hani  Female   19     172    73.0       Other   \n",
       "3      379678       Williams, Hanh  Female   22     168    70.6  Protestant   \n",
       "4      807564          Nem, Denzel    Male   19     183    79.7       Other   \n",
       "5      383291      Powell, Heather  Female   21     175    71.4    Catholic   \n",
       "...       ...                  ...     ...  ...     ...     ...         ...   \n",
       "8235   818044          Her, Joshua    Male   22     181    79.1  Protestant   \n",
       "8236   560166           Reid, Jose    Male   23     178    72.6    Catholic   \n",
       "8237   380174     Villa, Raechelle  Female   20     169    67.7       Other   \n",
       "8238   540967         Ngo, Preston    Male   23     195    98.6       Other   \n",
       "8239   413207     Bernhard, Estela  Female   19     170    69.0      Muslim   \n",
       "\n",
       "      nc.score semester                   major                       minor  \\\n",
       "1         1.91      1st       Political Science             Social Sciences   \n",
       "2         1.56      2nd         Social Sciences  Mathematics and Statistics   \n",
       "3         1.24      3rd         Social Sciences  Mathematics and Statistics   \n",
       "4         1.37      2nd  Environmental Sciences  Mathematics and Statistics   \n",
       "5         1.46      1st  Environmental Sciences  Mathematics and Statistics   \n",
       "...        ...      ...                     ...                         ...   \n",
       "8235      2.91      6th  Environmental Sciences             Social Sciences   \n",
       "8236      2.03      2nd  Environmental Sciences  Mathematics and Statistics   \n",
       "8237      3.72      3rd  Environmental Sciences       Economics and Finance   \n",
       "8238      2.74      4th         Social Sciences           Political Science   \n",
       "8239      3.29     >6th       Political Science                     Biology   \n",
       "\n",
       "      score1  score2  online.tutorial  graduated        salary  \n",
       "1        NaN     NaN            False      False           NaN  \n",
       "2        NaN     NaN            False      False           NaN  \n",
       "3       45.0    46.0            False      False           NaN  \n",
       "4        NaN     NaN            False      False           NaN  \n",
       "5        NaN     NaN            False      False           NaN  \n",
       "...      ...     ...              ...        ...           ...  \n",
       "8235    73.0    71.0            False       True  36750.087135  \n",
       "8236     NaN     NaN            False      False           NaN  \n",
       "8237    77.0    75.0             True      False           NaN  \n",
       "8238    50.0    46.0             True       True  40112.041834  \n",
       "8239    47.0    59.0             True       True  45900.134459  \n",
       "\n",
       "[8239 rows x 16 columns]"
      ]
     },
     "execution_count": 9,
     "metadata": {},
     "output_type": "execute_result"
    }
   ],
   "source": [
    "df.astype({\n",
    "    'online.tutorial': bool,\n",
    "    'graduated' : bool\n",
    "})"
   ]
  },
  {
   "cell_type": "code",
   "execution_count": 10,
   "id": "b89fec8f",
   "metadata": {},
   "outputs": [],
   "source": [
    "import numpy as np"
   ]
  },
  {
   "cell_type": "code",
   "execution_count": 11,
   "id": "c9a9debd",
   "metadata": {},
   "outputs": [],
   "source": [
    "%matplotlib inline"
   ]
  },
  {
   "cell_type": "code",
   "execution_count": 12,
   "id": "d3f2f77d",
   "metadata": {},
   "outputs": [],
   "source": [
    "import sqlite3"
   ]
  },
  {
   "cell_type": "code",
   "execution_count": 13,
   "id": "25a226c4",
   "metadata": {},
   "outputs": [
    {
     "data": {
      "text/plain": [
       "<AxesSubplot:>"
      ]
     },
     "execution_count": 13,
     "metadata": {},
     "output_type": "execute_result"
    },
    {
     "data": {
      "image/png": "[encoded data removed]",
      "text/plain": [
       "<Figure size 432x288 with 1 Axes>"
      ]
     },
     "metadata": {
      "needs_background": "light"
     },
     "output_type": "display_data"
    }
   ],
   "source": [
    "df.height.hist()"
   ]
  },
  {
   "cell_type": "code",
   "execution_count": 14,
   "id": "f11e62eb",
   "metadata": {
    "scrolled": false
   },
   "outputs": [
    {
     "data": {
      "text/plain": [
       "array([[<AxesSubplot:title={'center':'stud.id'}>,\n",
       "        <AxesSubplot:title={'center':'age'}>,\n",
       "        <AxesSubplot:title={'center':'height'}>],\n",
       "       [<AxesSubplot:title={'center':'weight'}>,\n",
       "        <AxesSubplot:title={'center':'nc.score'}>,\n",
       "        <AxesSubplot:title={'center':'score1'}>],\n",
       "       [<AxesSubplot:title={'center':'score2'}>,\n",
       "        <AxesSubplot:title={'center':'online.tutorial'}>,\n",
       "        <AxesSubplot:title={'center':'graduated'}>],\n",
       "       [<AxesSubplot:title={'center':'salary'}>, <AxesSubplot:>,\n",
       "        <AxesSubplot:>]], dtype=object)"
      ]
     },
     "execution_count": 14,
     "metadata": {},
     "output_type": "execute_result"
    },
    {
     "data": {
      "image/png": "[encoded data removed]",
      "text/plain": [
       "<Figure size 432x288 with 12 Axes>"
      ]
     },
     "metadata": {
      "needs_background": "light"
     },
     "output_type": "display_data"
    }
   ],
   "source": [
    "df.hist()"
   ]
  },
  {
   "cell_type": "code",
   "execution_count": null,
   "id": "ffb36155",
   "metadata": {},
   "outputs": [],
   "source": []
  },
  {
   "cell_type": "code",
   "execution_count": 15,
   "id": "c0de4139",
   "metadata": {},
   "outputs": [],
   "source": [
    "data = df.height*50"
   ]
  },
  {
   "cell_type": "code",
   "execution_count": 16,
   "id": "382c9f4d",
   "metadata": {},
   "outputs": [
    {
     "data": {
      "text/plain": [
       "(array([  19,  142,  615, 1328, 1802, 1774, 1516,  790,  227,   26],\n",
       "       dtype=int64),\n",
       " array([ 6750.,  7105.,  7460.,  7815.,  8170.,  8525.,  8880.,  9235.,\n",
       "         9590.,  9945., 10300.]))"
      ]
     },
     "execution_count": 16,
     "metadata": {},
     "output_type": "execute_result"
    }
   ],
   "source": [
    "h = np.histogram(data)\n",
    "h"
   ]
  },
  {
   "cell_type": "code",
   "execution_count": 17,
   "id": "b0de7ff3",
   "metadata": {},
   "outputs": [
    {
     "data": {
      "text/plain": [
       "(8347.5, 1802)"
      ]
     },
     "execution_count": 17,
     "metadata": {},
     "output_type": "execute_result"
    }
   ],
   "source": [
    "i_max = np.argmax(h[0])\n",
    "count_max= h[0][i_max]\n",
    "height50_max= (h[1][i_max] + h[1][i_max+1])/2 #точка посередине столбца диаграммы\n",
    "height50_max,count_max"
   ]
  },
  {
   "cell_type": "code",
   "execution_count": 18,
   "id": "2ddac1e0",
   "metadata": {},
   "outputs": [
    {
     "data": {
      "image/png": "[encoded data removed]",
      "text/plain": [
       "<Figure size 864x360 with 1 Axes>"
      ]
     },
     "metadata": {
      "needs_background": "light"
     },
     "output_type": "display_data"
    }
   ],
   "source": [
    "plt.hist(df.height*50, bins = 10)\n",
    "axis = plt.gca() #get current axis\n",
    "axis.set_title('axis title')\n",
    "axis.set_xlabel('height*50')\n",
    "axis.set_ylabel('count')\n",
    "axis.set_xlim (6000, 11000)\n",
    "axis.set_ylim (0, 2100)\n",
    "axis.set_aspect(1)\n",
    "\n",
    "axis.plot(height50_max,count_max, marker = 'x', color = 'g')\n",
    "\n",
    "circle = plt.Circle((height50_max,count_max), 300, fill = True, color = 'r', alpha = 0.5, lw = 5)\n",
    "axis.add_artist(circle)\n",
    "\n",
    "\n",
    "fig = plt.gcf() #get current figure (холст)\n",
    "fig.suptitle('Fig 1.')\n",
    "fig.set_size_inches(12,5)\n",
    "\n",
    "plt.savefig('hist_height20.png')\n",
    "\n",
    "\n",
    "plt.show()"
   ]
  },
  {
   "cell_type": "code",
   "execution_count": null,
   "id": "03c25d7a",
   "metadata": {},
   "outputs": [],
   "source": []
  },
  {
   "cell_type": "code",
   "execution_count": 19,
   "id": "d3cbcc88",
   "metadata": {},
   "outputs": [
    {
     "data": {
      "image/png": "[encoded data removed]",
      "text/plain": [
       "<Figure size 432x288 with 1 Axes>"
      ]
     },
     "metadata": {
      "needs_background": "light"
     },
     "output_type": "display_data"
    }
   ],
   "source": [
    "plt.hist(df.height*50, bins = 10)\n",
    "axis = plt.gca() #get current axis\n",
    "axis.set_title('axis title')\n",
    "axis.set_xlabel('height*50')\n",
    "axis.set_ylabel('count')\n",
    "axis.set_aspect(1)\n",
    "circle = plt.Circle((8700,1750), 300, fill = True, color = 'r', alpha = 0.5, lw = 5)\n",
    "axis.add_artist(circle)\n",
    "fig = plt.gcf() #get current figure (холст)\n",
    "fig.suptitle('Fig 1.')\n",
    "plt.show()"
   ]
  },
  {
   "cell_type": "code",
   "execution_count": 20,
   "id": "4453f9f2",
   "metadata": {},
   "outputs": [
    {
     "data": {
      "image/png": "[encoded data removed]",
      "text/plain": [
       "<Figure size 720x720 with 2 Axes>"
      ]
     },
     "metadata": {
      "needs_background": "light"
     },
     "output_type": "display_data"
    }
   ],
   "source": [
    "figure, axes = plt.subplots(2)\n",
    "\n",
    "axes[0], axes[1] = axes[1], axes[0]\n",
    "\n",
    "h0 = axes[0].hist(df.height)\n",
    "axes[0].set_title('height')\n",
    "\n",
    "h1 = axes[1].hist(df['salary'])\n",
    "axes[1].set_title('salary')\n",
    "axes[1].grid(linestyle = '--', axis = 'y', which = 'both')\n",
    "\n",
    "\n",
    "figure.set_size_inches(10,10)\n",
    "plt.show()"
   ]
  },
  {
   "cell_type": "code",
   "execution_count": 21,
   "id": "a50cb0be",
   "metadata": {},
   "outputs": [
    {
     "data": {
      "text/plain": [
       "(array([  19.,  142.,  615., 1328., 1802., 1774., 1516.,  790.,  227.,\n",
       "          26.]),\n",
       " array([135. , 142.1, 149.2, 156.3, 163.4, 170.5, 177.6, 184.7, 191.8,\n",
       "        198.9, 206. ]),\n",
       " <BarContainer object of 10 artists>)"
      ]
     },
     "execution_count": 21,
     "metadata": {},
     "output_type": "execute_result"
    }
   ],
   "source": [
    "h0"
   ]
  },
  {
   "cell_type": "code",
   "execution_count": 22,
   "id": "233dac4f",
   "metadata": {
    "scrolled": true
   },
   "outputs": [
    {
     "data": {
      "image/png": "[encoded data removed]",
      "text/plain": [
       "<Figure size 720x720 with 4 Axes>"
      ]
     },
     "metadata": {
      "needs_background": "light"
     },
     "output_type": "display_data"
    }
   ],
   "source": [
    "figure, axes = plt.subplots(2,2)\n",
    "\n",
    "h00 = axes[0,0].hist(df.height)\n",
    "axes[0,0].set_title('height')\n",
    "axes[0,0].grid(linestyle = '--', axis = 'y', which = 'both')\n",
    "mean = df.height.mean()\n",
    "axes[0,0].plot([mean, mean], [0,2000], c = 'r')\n",
    "\n",
    "h01 = axes[0,1].hist(df['salary'])\n",
    "axes[0,1].set_title('salary')\n",
    "axes[0,1].grid(linestyle = '--', axis = 'y', which = 'both')\n",
    "\n",
    "h10 = axes[1,0].hist(df['weight'])\n",
    "axes[1,0].set_title('weight')\n",
    "axes[1,0].grid(linestyle = '--', axis = 'y', which = 'both')\n",
    "\n",
    "h11 = axes[1,1].hist(df['age'])\n",
    "axes[1,1].set_title('age')\n",
    "axes[1,1].grid(linestyle = '--', axis = 'y', which = 'both')\n",
    "\n",
    "\n",
    "\n",
    "figure.set_size_inches(10,10)\n",
    "plt.show()"
   ]
  },
  {
   "cell_type": "code",
   "execution_count": 23,
   "id": "f74b8987",
   "metadata": {},
   "outputs": [
    {
     "name": "stdout",
     "output_type": "stream",
     "text": [
      "salary\n",
      "age\n",
      "weight\n",
      "stud.id\n"
     ]
    },
    {
     "data": {
      "image/png": "[encoded data removed]",
      "text/plain": [
       "<Figure size 720x576 with 4 Axes>"
      ]
     },
     "metadata": {
      "needs_background": "light"
     },
     "output_type": "display_data"
    }
   ],
   "source": [
    "fig4, axes = plt.subplots(2,2)\n",
    "fig4.set_size_inches(10,8)\n",
    "plots = [['salary', 'age'],['weight', 'stud.id']]\n",
    "for i0,row in enumerate(plots):\n",
    "    for i1,col in enumerate(row):\n",
    "        print(col)\n",
    "        axes[i0,i1].hist(df[col])\n",
    "        axes[i0,i1].set_title(col)\n",
    "plt.show()"
   ]
  },
  {
   "cell_type": "code",
   "execution_count": 24,
   "id": "1e43002f",
   "metadata": {},
   "outputs": [
    {
     "name": "stdout",
     "output_type": "stream",
     "text": [
      "salary\n",
      "weight\n",
      "age\n",
      "stud.id\n"
     ]
    },
    {
     "data": {
      "image/png": "[encoded data removed]",
      "text/plain": [
       "<Figure size 720x576 with 4 Axes>"
      ]
     },
     "metadata": {
      "needs_background": "light"
     },
     "output_type": "display_data"
    }
   ],
   "source": [
    "fig4, axes = plt.subplots(2,2)\n",
    "fig4.set_size_inches(10,8)\n",
    "plots = np.array([['salary', 'age'],['weight', 'stud.id']]).T #поменять местами\n",
    "for i0,row in enumerate(plots):\n",
    "    for i1,col in enumerate(row):\n",
    "        print(col)\n",
    "        axes[i0,i1].hist(df[col])\n",
    "        axes[i0,i1].set_title(col)\n",
    "plt.show()"
   ]
  },
  {
   "cell_type": "code",
   "execution_count": 25,
   "id": "81989245",
   "metadata": {},
   "outputs": [
    {
     "name": "stdout",
     "output_type": "stream",
     "text": [
      "salary\n",
      "age\n",
      "weight\n",
      "stud.id\n"
     ]
    },
    {
     "data": {
      "image/png": "[encoded data removed]",
      "text/plain": [
       "<Figure size 720x576 with 4 Axes>"
      ]
     },
     "metadata": {
      "needs_background": "light"
     },
     "output_type": "display_data"
    }
   ],
   "source": [
    "fig4, axes = plt.subplots(2,2)\n",
    "fig4.set_size_inches(10,8)\n",
    "plots = [['salary', 'age'],['weight', 'stud.id']]\n",
    "axes = axes.T #транспозиция по осям\n",
    "for i0,row in enumerate(plots):\n",
    "    for i1,col in enumerate(row):\n",
    "        print(col)\n",
    "        axes[i0,i1].hist(df[col])\n",
    "        axes[i0,i1].set_title(col)\n",
    "plt.show()"
   ]
  },
  {
   "cell_type": "code",
   "execution_count": 26,
   "id": "64fb063b",
   "metadata": {},
   "outputs": [],
   "source": [
    "data = df.height.copy()#нормализуем"
   ]
  },
  {
   "cell_type": "code",
   "execution_count": 27,
   "id": "95c9fdb2",
   "metadata": {},
   "outputs": [],
   "source": [
    "mean = data.mean()"
   ]
  },
  {
   "cell_type": "code",
   "execution_count": 28,
   "id": "5f0bd0a3",
   "metadata": {},
   "outputs": [],
   "source": [
    "std = data.std()"
   ]
  },
  {
   "cell_type": "code",
   "execution_count": 29,
   "id": "c6ff7d83",
   "metadata": {},
   "outputs": [],
   "source": [
    "norm_data = (data-mean)/std"
   ]
  },
  {
   "cell_type": "code",
   "execution_count": 30,
   "id": "9cf389a2",
   "metadata": {},
   "outputs": [
    {
     "data": {
      "text/plain": [
       "[<matplotlib.lines.Line2D at 0x1a552347040>]"
      ]
     },
     "execution_count": 30,
     "metadata": {},
     "output_type": "execute_result"
    },
    {
     "data": {
      "image/png": "[encoded data removed]",
      "text/plain": [
       "<Figure size 432x288 with 1 Axes>"
      ]
     },
     "metadata": {
      "needs_background": "light"
     },
     "output_type": "display_data"
    }
   ],
   "source": [
    "x= np.linspace(-3, 3, 100)\n",
    "y = np.exp(-(x**2)/2)/np.sqrt(2*np.pi)\n",
    "plt.hist(norm_data, density = True)\n",
    "plt.plot(x, y, c = 'r')"
   ]
  },
  {
   "cell_type": "code",
   "execution_count": 31,
   "id": "e080180d",
   "metadata": {},
   "outputs": [],
   "source": [
    "datum = np.sort(norm_data)"
   ]
  },
  {
   "cell_type": "code",
   "execution_count": 32,
   "id": "79f3d17f",
   "metadata": {},
   "outputs": [
    {
     "data": {
      "image/png": "[encoded data removed]",
      "text/plain": [
       "<Figure size 432x288 with 1 Axes>"
      ]
     },
     "metadata": {
      "needs_background": "light"
     },
     "output_type": "display_data"
    }
   ],
   "source": [
    "fff = plt.scatter(range(len(datum)), datum)"
   ]
  },
  {
   "cell_type": "code",
   "execution_count": null,
   "id": "c605c961",
   "metadata": {},
   "outputs": [],
   "source": []
  },
  {
   "cell_type": "code",
   "execution_count": 33,
   "id": "8177abad",
   "metadata": {},
   "outputs": [
    {
     "data": {
      "image/png": "[encoded data removed]",
      "text/plain": [
       "<Figure size 720x576 with 1 Axes>"
      ]
     },
     "metadata": {
      "needs_background": "light"
     },
     "output_type": "display_data"
    }
   ],
   "source": [
    "plt.scatter(range(len(datum)), datum*1000)\n",
    "axis = plt.gca() #get current axis\n",
    "#axis.set_aspect(1)\n",
    "circle = plt.Circle((4000,0), 1000, fill = True, color = 'r', alpha = 0.5, lw = 5)\n",
    "axis.add_artist(circle)\n",
    "fig2 = plt.gcf() #get current figure (холст)\n",
    "fig2.suptitle('Fig 2.')\n",
    "fig2.set_size_inches(10,8)\n",
    "plt.show()"
   ]
  },
  {
   "cell_type": "code",
   "execution_count": null,
   "id": "9497e0b6",
   "metadata": {},
   "outputs": [],
   "source": []
  }
 ],
 "metadata": {
  "kernelspec": {
   "display_name": "Python 3 (ipykernel)",
   "language": "python",
   "name": "python3"
  },
  "language_info": {
   "codemirror_mode": {
    "name": "ipython",
    "version": 3
   },
   "file_extension": ".py",
   "mimetype": "text/x-python",
   "name": "python",
   "nbconvert_exporter": "python",
   "pygments_lexer": "ipython3",
   "version": "3.10.4"
  }
 },
 "nbformat": 4,
 "nbformat_minor": 5
}
