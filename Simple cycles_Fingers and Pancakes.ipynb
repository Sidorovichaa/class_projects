{
 "cells": [
  {
   "cell_type": "code",
   "execution_count": 2,
   "id": "d35b957b",
   "metadata": {},
   "outputs": [
    {
     "name": "stdout",
     "output_type": "stream",
     "text": [
      "5\n",
      "4\n",
      "3\n",
      "2\n",
      "1\n",
      "start\n"
     ]
    }
   ],
   "source": [
    "a=5\n",
    "while a>0:\n",
    "    print(a)\n",
    "    a-=1\n",
    "print(\"start\")"
   ]
  },
  {
   "cell_type": "code",
   "execution_count": 3,
   "id": "0c7bfab0",
   "metadata": {},
   "outputs": [
    {
     "name": "stdout",
     "output_type": "stream",
     "text": [
      "жарим блин\n",
      "готов\n",
      "жарим блин\n",
      "готов\n",
      "жарим блин\n",
      "готов\n",
      "жарим блин\n",
      "готов\n",
      "жарим блин\n",
      "готов\n",
      "жарим блин\n",
      "готов\n",
      "жарим блин\n",
      "готов\n",
      "жарим блин\n",
      "готов\n",
      "жарим блин\n",
      "готов\n",
      "жарим блин\n",
      "готов\n",
      "жарим блин\n",
      "готов\n",
      "жарим блин\n",
      "готов\n",
      "жарим блин\n",
      "готов\n",
      "жарим блин\n",
      "готов\n",
      "к столу\n"
     ]
    }
   ],
   "source": [
    "тесто = 14\n",
    "while тесто:\n",
    "    тесто -=1\n",
    "    print('жарим блин')\n",
    "    print('готов')\n",
    "print('к столу')"
   ]
  },
  {
   "cell_type": "code",
   "execution_count": 4,
   "id": "25880a4a",
   "metadata": {},
   "outputs": [],
   "source": [
    "рука = list('Бусбм')"
   ]
  },
  {
   "cell_type": "code",
   "execution_count": 5,
   "id": "3581b2fd",
   "metadata": {},
   "outputs": [
    {
     "data": {
      "text/plain": [
       "['Б', 'у', 'с', 'б', 'м']"
      ]
     },
     "execution_count": 5,
     "metadata": {},
     "output_type": "execute_result"
    }
   ],
   "source": [
    "рука"
   ]
  },
  {
   "cell_type": "code",
   "execution_count": 7,
   "id": "6c5439ac",
   "metadata": {},
   "outputs": [
    {
     "name": "stdout",
     "output_type": "stream",
     "text": [
      "согнул Б\n",
      "согнул у\n",
      "согнул с\n",
      "согнул б\n",
      "согнул м\n",
      "всё!\n"
     ]
    }
   ],
   "source": [
    "for палец in рука:\n",
    "    print(\"согнул\"+\" \"+палец)\n",
    "print('всё!')"
   ]
  },
  {
   "cell_type": "code",
   "execution_count": null,
   "id": "08f0db08",
   "metadata": {},
   "outputs": [],
   "source": []
  }
 ],
 "metadata": {
  "kernelspec": {
   "display_name": "Python 3 (ipykernel)",
   "language": "python",
   "name": "python3"
  },
  "language_info": {
   "codemirror_mode": {
    "name": "ipython",
    "version": 3
   },
   "file_extension": ".py",
   "mimetype": "text/x-python",
   "name": "python",
   "nbconvert_exporter": "python",
   "pygments_lexer": "ipython3",
   "version": "3.10.4"
  }
 },
 "nbformat": 4,
 "nbformat_minor": 5
}
