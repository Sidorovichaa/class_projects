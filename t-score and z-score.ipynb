{
 "cells": [
  {
   "cell_type": "code",
   "execution_count": 1,
   "id": "400552d9",
   "metadata": {},
   "outputs": [],
   "source": [
    "import numpy as np"
   ]
  },
  {
   "cell_type": "code",
   "execution_count": 375,
   "id": "afc02167",
   "metadata": {},
   "outputs": [],
   "source": [
    "n_population = 1_000_000#1_000_000\n",
    "p_population = 0.01"
   ]
  },
  {
   "cell_type": "code",
   "execution_count": 376,
   "id": "146d178f",
   "metadata": {},
   "outputs": [],
   "source": [
    "all_banknotes = np.random.choice(\n",
    "                    [0,1], \n",
    "                    p=[1-p_population, p_population],\n",
    "                    size = n_population\n",
    "                )"
   ]
  },
  {
   "cell_type": "code",
   "execution_count": 377,
   "id": "09d2e8c9",
   "metadata": {},
   "outputs": [
    {
     "data": {
      "text/plain": [
       "1000000"
      ]
     },
     "execution_count": 377,
     "metadata": {},
     "output_type": "execute_result"
    }
   ],
   "source": [
    "len(all_banknotes)"
   ]
  },
  {
   "cell_type": "code",
   "execution_count": 320,
   "id": "8230f510",
   "metadata": {},
   "outputs": [],
   "source": [
    "n = 10000"
   ]
  },
  {
   "cell_type": "code",
   "execution_count": 284,
   "id": "3279ab02",
   "metadata": {},
   "outputs": [],
   "source": [
    "p_samples = []\n",
    "for i in range(10_000):\n",
    "    sample = np.random.choice(all_banknotes, size=n)\n",
    "    k = sample.sum()\n",
    "    p_sample = k/n\n",
    "    p_samples.append(p_sample)"
   ]
  },
  {
   "cell_type": "code",
   "execution_count": 265,
   "id": "8c45bbcd",
   "metadata": {},
   "outputs": [],
   "source": [
    "import seaborn as sns\n",
    "import matplotlib.pyplot as plt"
   ]
  },
  {
   "cell_type": "code",
   "execution_count": 285,
   "id": "f04f02cf",
   "metadata": {},
   "outputs": [],
   "source": [
    "p_samples = np.array(p_samples)"
   ]
  },
  {
   "cell_type": "code",
   "execution_count": 286,
   "id": "418ebca2",
   "metadata": {},
   "outputs": [
    {
     "data": {
      "text/plain": [
       "(0.0096948, 0.0097)"
      ]
     },
     "execution_count": 286,
     "metadata": {},
     "output_type": "execute_result"
    }
   ],
   "source": [
    "p_samples.mean(), np.median(p_samples)"
   ]
  },
  {
   "cell_type": "code",
   "execution_count": 287,
   "id": "eec7a14e",
   "metadata": {},
   "outputs": [],
   "source": [
    "np.quantile?"
   ]
  },
  {
   "cell_type": "code",
   "execution_count": 288,
   "id": "fc78201b",
   "metadata": {},
   "outputs": [
    {
     "data": {
      "text/plain": [
       "(0.0009830996694130255, 0.0007000000000000001)"
      ]
     },
     "execution_count": 288,
     "metadata": {},
     "output_type": "execute_result"
    }
   ],
   "source": [
    "p_samples.std(), (\n",
    "    np.quantile(p_samples,0.75)-np.quantile(p_samples,0.25)\n",
    "                                     )/2"
   ]
  },
  {
   "cell_type": "code",
   "execution_count": 289,
   "id": "4ebe028e",
   "metadata": {},
   "outputs": [
    {
     "data": {
      "text/plain": [
       "(array([0.0062, 0.0064, 0.0066, 0.0068, 0.0069, 0.007 , 0.0071, 0.0072,\n",
       "        0.0073, 0.0074, 0.0075, 0.0076, 0.0077, 0.0078, 0.0079, 0.008 ,\n",
       "        0.0081, 0.0082, 0.0083, 0.0084, 0.0085, 0.0086, 0.0087, 0.0088,\n",
       "        0.0089, 0.009 , 0.0091, 0.0092, 0.0093, 0.0094, 0.0095, 0.0096,\n",
       "        0.0097, 0.0098, 0.0099, 0.01  , 0.0101, 0.0102, 0.0103, 0.0104,\n",
       "        0.0105, 0.0106, 0.0107, 0.0108, 0.0109, 0.011 , 0.0111, 0.0112,\n",
       "        0.0113, 0.0114, 0.0115, 0.0116, 0.0117, 0.0118, 0.0119, 0.012 ,\n",
       "        0.0121, 0.0122, 0.0123, 0.0124, 0.0125, 0.0126, 0.0127, 0.0128,\n",
       "        0.0129, 0.013 , 0.0131, 0.0132, 0.0133, 0.0136]),\n",
       " array([  1,   1,   1,   5,   5,   9,   9,  19,  18,  18,  34,  49,  50,\n",
       "         63,  66,  96, 111, 100, 161, 182, 203, 230, 238, 290, 305, 341,\n",
       "        381, 363, 362, 392, 423, 393, 400, 376, 384, 383, 331, 349, 341,\n",
       "        288, 278, 261, 233, 202, 192, 197, 153, 147, 113,  79,  66,  62,\n",
       "         43,  36,  39,  28,  22,  18,  18,   8,   8,   7,   4,   5,   3,\n",
       "          3,   1,   1,   1,   1], dtype=int64))"
      ]
     },
     "execution_count": 289,
     "metadata": {},
     "output_type": "execute_result"
    }
   ],
   "source": [
    "np.unique(p_samples, return_counts=True)"
   ]
  },
  {
   "cell_type": "code",
   "execution_count": 290,
   "id": "5c7bd564",
   "metadata": {},
   "outputs": [],
   "source": [
    "from scipy.stats import binom, norm"
   ]
  },
  {
   "cell_type": "code",
   "execution_count": 291,
   "id": "d5f484db",
   "metadata": {},
   "outputs": [],
   "source": [
    "binomial = binom(n, p_population)"
   ]
  },
  {
   "cell_type": "code",
   "execution_count": 292,
   "id": "309995f2",
   "metadata": {},
   "outputs": [],
   "source": [
    "x = np.arange(0,20)\n",
    "y = binomial.pmf(x)"
   ]
  },
  {
   "cell_type": "code",
   "execution_count": 293,
   "id": "b474d6d6",
   "metadata": {},
   "outputs": [
    {
     "data": {
      "text/plain": [
       "(0.01, 10000)"
      ]
     },
     "execution_count": 293,
     "metadata": {},
     "output_type": "execute_result"
    }
   ],
   "source": [
    "p_population, n"
   ]
  },
  {
   "cell_type": "code",
   "execution_count": 294,
   "id": "ac9e93ea",
   "metadata": {},
   "outputs": [],
   "source": [
    "sns.histplot?"
   ]
  },
  {
   "cell_type": "code",
   "execution_count": 295,
   "id": "85e74aa8",
   "metadata": {},
   "outputs": [
    {
     "data": {
      "text/plain": [
       "<AxesSubplot:ylabel='Probability'>"
      ]
     },
     "execution_count": 295,
     "metadata": {},
     "output_type": "execute_result"
    },
    {
     "data": {
      "image/png": "[encoded data removed]",
      "text/plain": [
       "<Figure size 432x288 with 1 Axes>"
      ]
     },
     "metadata": {
      "needs_background": "light"
     },
     "output_type": "display_data"
    }
   ],
   "source": [
    "sns.histplot(p_samples, bins=30, stat='probability')"
   ]
  },
  {
   "cell_type": "code",
   "execution_count": 254,
   "id": "97e391d1",
   "metadata": {},
   "outputs": [
    {
     "data": {
      "text/plain": [
       "<AxesSubplot:>"
      ]
     },
     "execution_count": 254,
     "metadata": {},
     "output_type": "execute_result"
    },
    {
     "data": {
      "image/png": "[encoded data removed]",
      "text/plain": [
       "<Figure size 432x288 with 1 Axes>"
      ]
     },
     "metadata": {
      "needs_background": "light"
     },
     "output_type": "display_data"
    }
   ],
   "source": [
    "sns.scatterplot(x=x, y=y)"
   ]
  },
  {
   "cell_type": "code",
   "execution_count": 296,
   "id": "214b5999",
   "metadata": {},
   "outputs": [],
   "source": [
    "zz = np.linspace(-3.0,5.0,100)"
   ]
  },
  {
   "cell_type": "code",
   "execution_count": 297,
   "id": "5685f6af",
   "metadata": {},
   "outputs": [],
   "source": [
    "yy = norm.pdf(zz)"
   ]
  },
  {
   "cell_type": "code",
   "execution_count": 298,
   "id": "ff1db4fc",
   "metadata": {},
   "outputs": [],
   "source": [
    "p_norm = (p_samples - p_samples.mean())/p_samples.std()"
   ]
  },
  {
   "cell_type": "code",
   "execution_count": 304,
   "id": "b724757e",
   "metadata": {},
   "outputs": [
    {
     "data": {
      "text/plain": [
       "Text(0.5, 0, 'score')"
      ]
     },
     "execution_count": 304,
     "metadata": {},
     "output_type": "execute_result"
    },
    {
     "data": {
      "image/png": "[encoded data removed]",
      "text/plain": [
       "<Figure size 432x288 with 1 Axes>"
      ]
     },
     "metadata": {
      "needs_background": "light"
     },
     "output_type": "display_data"
    }
   ],
   "source": [
    "sns.histplot(p_norm, bins=20, stat='density')\n",
    "sns.lineplot(x=zz, y=yy, color ='black')\n",
    "plt.title(f\"Sample size {n}\")\n",
    "plt.xlabel('score')"
   ]
  },
  {
   "cell_type": "markdown",
   "id": "b5043952",
   "metadata": {},
   "source": [
    "<table>\n",
    "    <tr>\n",
    "        <td><img src=\"sample500.png\" width=\"200px\"></td>\n",
    "        <td><img src=\"sample1500.png\" width=\"200px\"></td>\n",
    "        <td><img src=\"sample10000.png\" width=\"200px\"></td>\n",
    "    </tr>\n",
    "    <tr>\n",
    "        <td>TBA</td>\n",
    "        <td>TBA</td>\n",
    "        <td>TBA</td>\n",
    "    </tr>\n",
    "</table>"
   ]
  },
  {
   "cell_type": "code",
   "execution_count": 378,
   "id": "982e99ac",
   "metadata": {},
   "outputs": [],
   "source": [
    "p_guess = 0.015"
   ]
  },
  {
   "cell_type": "code",
   "execution_count": 379,
   "id": "348d3f6d",
   "metadata": {},
   "outputs": [],
   "source": [
    "n = 30000"
   ]
  },
  {
   "cell_type": "code",
   "execution_count": 380,
   "id": "816d1a6c",
   "metadata": {},
   "outputs": [],
   "source": [
    "sample = np.random.choice(all_banknotes, size=n)"
   ]
  },
  {
   "cell_type": "code",
   "execution_count": 381,
   "id": "50104d44",
   "metadata": {},
   "outputs": [
    {
     "data": {
      "text/plain": [
       "318"
      ]
     },
     "execution_count": 381,
     "metadata": {},
     "output_type": "execute_result"
    }
   ],
   "source": [
    "k = sample.sum()\n",
    "k"
   ]
  },
  {
   "cell_type": "code",
   "execution_count": 382,
   "id": "2f2b3328",
   "metadata": {},
   "outputs": [
    {
     "data": {
      "text/plain": [
       "0.0106"
      ]
     },
     "execution_count": 382,
     "metadata": {},
     "output_type": "execute_result"
    }
   ],
   "source": [
    "p_k = k/n\n",
    "p_k"
   ]
  },
  {
   "cell_type": "code",
   "execution_count": 383,
   "id": "45e0c3fb",
   "metadata": {},
   "outputs": [],
   "source": [
    "binomial = binom(n, p_guess)"
   ]
  },
  {
   "cell_type": "code",
   "execution_count": 390,
   "id": "383aa348",
   "metadata": {},
   "outputs": [
    {
     "data": {
      "text/plain": [
       "2.3310775472564332e-11"
      ]
     },
     "execution_count": 390,
     "metadata": {},
     "output_type": "execute_result"
    }
   ],
   "source": [
    "binomial.pmf(np.arange(k+1)).sum()"
   ]
  },
  {
   "cell_type": "code",
   "execution_count": 388,
   "id": "016d991d",
   "metadata": {},
   "outputs": [
    {
     "data": {
      "text/plain": [
       "-6.269740398936047"
      ]
     },
     "execution_count": 388,
     "metadata": {},
     "output_type": "execute_result"
    }
   ],
   "source": [
    "z = (p_k - p_guess)/(np.sqrt((p_guess*(1-p_guess))/n))\n",
    "z"
   ]
  },
  {
   "cell_type": "code",
   "execution_count": 389,
   "id": "9283c1f4",
   "metadata": {},
   "outputs": [
    {
     "data": {
      "text/plain": [
       "1.8082527165921128e-10"
      ]
     },
     "execution_count": 389,
     "metadata": {},
     "output_type": "execute_result"
    }
   ],
   "source": [
    "norm.cdf(z)"
   ]
  },
  {
   "cell_type": "markdown",
   "id": "4b29de30",
   "metadata": {},
   "source": [
    "<hr>"
   ]
  },
  {
   "cell_type": "code",
   "execution_count": 350,
   "id": "5ef821d4",
   "metadata": {},
   "outputs": [],
   "source": [
    "from scipy.stats import t"
   ]
  },
  {
   "cell_type": "code",
   "execution_count": 357,
   "id": "459a0575",
   "metadata": {},
   "outputs": [],
   "source": [
    "tt = t.pdf(zz, 5)\n",
    "tt2 = t.pdf(zz, 2)\n",
    "tt20 = t.pdf(zz, 20)\n",
    "tt30 = t.pdf(zz, 30)\n",
    "tt40 = t.pdf(zz, 40)"
   ]
  },
  {
   "cell_type": "code",
   "execution_count": 359,
   "id": "91b2ebc0",
   "metadata": {},
   "outputs": [
    {
     "data": {
      "text/plain": [
       "<matplotlib.legend.Legend at 0x17b7f586860>"
      ]
     },
     "execution_count": 359,
     "metadata": {},
     "output_type": "execute_result"
    },
    {
     "data": {
      "image/png": "[encoded data removed]",
      "text/plain": [
       "<Figure size 432x288 with 1 Axes>"
      ]
     },
     "metadata": {
      "needs_background": "light"
     },
     "output_type": "display_data"
    }
   ],
   "source": [
    "sns.lineplot(x=zz, y=yy)\n",
    "sns.lineplot(x=zz, y=tt)\n",
    "for v in [tt2, tt20, tt30, tt40]:\n",
    "    sns.lineplot(x=zz, y=v)\n",
    "plt.legend(['z-score','t-score 5','t-score 2','t-score 20','t-score 30','t-score 40'])"
   ]
  },
  {
   "cell_type": "code",
   "execution_count": 364,
   "id": "aaf016f7",
   "metadata": {},
   "outputs": [
    {
     "data": {
      "text/plain": [
       "-3.1824463052842638"
      ]
     },
     "execution_count": 364,
     "metadata": {},
     "output_type": "execute_result"
    }
   ],
   "source": [
    "t.ppf(0.025, 3)"
   ]
  },
  {
   "cell_type": "code",
   "execution_count": 369,
   "id": "fe46b135",
   "metadata": {},
   "outputs": [
    {
     "data": {
      "text/plain": [
       "0.11529193262241141"
      ]
     },
     "execution_count": 369,
     "metadata": {},
     "output_type": "execute_result"
    }
   ],
   "source": [
    "t.cdf(-1.5, 3)"
   ]
  },
  {
   "cell_type": "code",
   "execution_count": null,
   "id": "aed5b5aa",
   "metadata": {},
   "outputs": [],
   "source": []
  }
 ],
 "metadata": {
  "kernelspec": {
   "display_name": "Python 3 (ipykernel)",
   "language": "python",
   "name": "python3"
  },
  "language_info": {
   "codemirror_mode": {
    "name": "ipython",
    "version": 3
   },
   "file_extension": ".py",
   "mimetype": "text/x-python",
   "name": "python",
   "nbconvert_exporter": "python",
   "pygments_lexer": "ipython3",
   "version": "3.10.4"
  }
 },
 "nbformat": 4,
 "nbformat_minor": 5
}
